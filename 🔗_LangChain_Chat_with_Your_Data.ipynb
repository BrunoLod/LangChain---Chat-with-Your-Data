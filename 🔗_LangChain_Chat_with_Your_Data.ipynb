{
  "nbformat": 4,
  "nbformat_minor": 0,
  "metadata": {
    "colab": {
      "provenance": []
    },
    "kernelspec": {
      "name": "python3",
      "display_name": "Python 3"
    },
    "language_info": {
      "name": "python"
    },
    "widgets": {
      "application/vnd.jupyter.widget-state+json": {
        "66e36c1fc0ce4610865d5f2516a58342": {
          "model_module": "@jupyter-widgets/controls",
          "model_name": "HBoxModel",
          "model_module_version": "1.5.0",
          "state": {
            "_dom_classes": [],
            "_model_module": "@jupyter-widgets/controls",
            "_model_module_version": "1.5.0",
            "_model_name": "HBoxModel",
            "_view_count": null,
            "_view_module": "@jupyter-widgets/controls",
            "_view_module_version": "1.5.0",
            "_view_name": "HBoxView",
            "box_style": "",
            "children": [
              "IPY_MODEL_f66066c6a23a472992041fc2a5635a7f",
              "IPY_MODEL_ad774ac597ff44edaf487114910801b9",
              "IPY_MODEL_d2c108790fa1488d90694a7c25b59ac8"
            ],
            "layout": "IPY_MODEL_4b993e5820c746f88054862da7099666"
          }
        },
        "f66066c6a23a472992041fc2a5635a7f": {
          "model_module": "@jupyter-widgets/controls",
          "model_name": "HTMLModel",
          "model_module_version": "1.5.0",
          "state": {
            "_dom_classes": [],
            "_model_module": "@jupyter-widgets/controls",
            "_model_module_version": "1.5.0",
            "_model_name": "HTMLModel",
            "_view_count": null,
            "_view_module": "@jupyter-widgets/controls",
            "_view_module_version": "1.5.0",
            "_view_name": "HTMLView",
            "description": "",
            "description_tooltip": null,
            "layout": "IPY_MODEL_d94fd23fe9af4aa380f256b96bdf4fdb",
            "placeholder": "​",
            "style": "IPY_MODEL_59b8a6eb873346069799f76bb947aa42",
            "value": "config.json: 100%"
          }
        },
        "ad774ac597ff44edaf487114910801b9": {
          "model_module": "@jupyter-widgets/controls",
          "model_name": "FloatProgressModel",
          "model_module_version": "1.5.0",
          "state": {
            "_dom_classes": [],
            "_model_module": "@jupyter-widgets/controls",
            "_model_module_version": "1.5.0",
            "_model_name": "FloatProgressModel",
            "_view_count": null,
            "_view_module": "@jupyter-widgets/controls",
            "_view_module_version": "1.5.0",
            "_view_name": "ProgressView",
            "bar_style": "success",
            "description": "",
            "description_tooltip": null,
            "layout": "IPY_MODEL_d9ed3530ff374add8740ff3f84b1baec",
            "max": 1983,
            "min": 0,
            "orientation": "horizontal",
            "style": "IPY_MODEL_175701581f01457792eb2a448edb5089",
            "value": 1983
          }
        },
        "d2c108790fa1488d90694a7c25b59ac8": {
          "model_module": "@jupyter-widgets/controls",
          "model_name": "HTMLModel",
          "model_module_version": "1.5.0",
          "state": {
            "_dom_classes": [],
            "_model_module": "@jupyter-widgets/controls",
            "_model_module_version": "1.5.0",
            "_model_name": "HTMLModel",
            "_view_count": null,
            "_view_module": "@jupyter-widgets/controls",
            "_view_module_version": "1.5.0",
            "_view_name": "HTMLView",
            "description": "",
            "description_tooltip": null,
            "layout": "IPY_MODEL_afa31c568ed3429b919d3dbf22ecbc6e",
            "placeholder": "​",
            "style": "IPY_MODEL_8c1ad524791e4f4494227d717923cc22",
            "value": " 1.98k/1.98k [00:00&lt;00:00, 56.2kB/s]"
          }
        },
        "4b993e5820c746f88054862da7099666": {
          "model_module": "@jupyter-widgets/base",
          "model_name": "LayoutModel",
          "model_module_version": "1.2.0",
          "state": {
            "_model_module": "@jupyter-widgets/base",
            "_model_module_version": "1.2.0",
            "_model_name": "LayoutModel",
            "_view_count": null,
            "_view_module": "@jupyter-widgets/base",
            "_view_module_version": "1.2.0",
            "_view_name": "LayoutView",
            "align_content": null,
            "align_items": null,
            "align_self": null,
            "border": null,
            "bottom": null,
            "display": null,
            "flex": null,
            "flex_flow": null,
            "grid_area": null,
            "grid_auto_columns": null,
            "grid_auto_flow": null,
            "grid_auto_rows": null,
            "grid_column": null,
            "grid_gap": null,
            "grid_row": null,
            "grid_template_areas": null,
            "grid_template_columns": null,
            "grid_template_rows": null,
            "height": null,
            "justify_content": null,
            "justify_items": null,
            "left": null,
            "margin": null,
            "max_height": null,
            "max_width": null,
            "min_height": null,
            "min_width": null,
            "object_fit": null,
            "object_position": null,
            "order": null,
            "overflow": null,
            "overflow_x": null,
            "overflow_y": null,
            "padding": null,
            "right": null,
            "top": null,
            "visibility": null,
            "width": null
          }
        },
        "d94fd23fe9af4aa380f256b96bdf4fdb": {
          "model_module": "@jupyter-widgets/base",
          "model_name": "LayoutModel",
          "model_module_version": "1.2.0",
          "state": {
            "_model_module": "@jupyter-widgets/base",
            "_model_module_version": "1.2.0",
            "_model_name": "LayoutModel",
            "_view_count": null,
            "_view_module": "@jupyter-widgets/base",
            "_view_module_version": "1.2.0",
            "_view_name": "LayoutView",
            "align_content": null,
            "align_items": null,
            "align_self": null,
            "border": null,
            "bottom": null,
            "display": null,
            "flex": null,
            "flex_flow": null,
            "grid_area": null,
            "grid_auto_columns": null,
            "grid_auto_flow": null,
            "grid_auto_rows": null,
            "grid_column": null,
            "grid_gap": null,
            "grid_row": null,
            "grid_template_areas": null,
            "grid_template_columns": null,
            "grid_template_rows": null,
            "height": null,
            "justify_content": null,
            "justify_items": null,
            "left": null,
            "margin": null,
            "max_height": null,
            "max_width": null,
            "min_height": null,
            "min_width": null,
            "object_fit": null,
            "object_position": null,
            "order": null,
            "overflow": null,
            "overflow_x": null,
            "overflow_y": null,
            "padding": null,
            "right": null,
            "top": null,
            "visibility": null,
            "width": null
          }
        },
        "59b8a6eb873346069799f76bb947aa42": {
          "model_module": "@jupyter-widgets/controls",
          "model_name": "DescriptionStyleModel",
          "model_module_version": "1.5.0",
          "state": {
            "_model_module": "@jupyter-widgets/controls",
            "_model_module_version": "1.5.0",
            "_model_name": "DescriptionStyleModel",
            "_view_count": null,
            "_view_module": "@jupyter-widgets/base",
            "_view_module_version": "1.2.0",
            "_view_name": "StyleView",
            "description_width": ""
          }
        },
        "d9ed3530ff374add8740ff3f84b1baec": {
          "model_module": "@jupyter-widgets/base",
          "model_name": "LayoutModel",
          "model_module_version": "1.2.0",
          "state": {
            "_model_module": "@jupyter-widgets/base",
            "_model_module_version": "1.2.0",
            "_model_name": "LayoutModel",
            "_view_count": null,
            "_view_module": "@jupyter-widgets/base",
            "_view_module_version": "1.2.0",
            "_view_name": "LayoutView",
            "align_content": null,
            "align_items": null,
            "align_self": null,
            "border": null,
            "bottom": null,
            "display": null,
            "flex": null,
            "flex_flow": null,
            "grid_area": null,
            "grid_auto_columns": null,
            "grid_auto_flow": null,
            "grid_auto_rows": null,
            "grid_column": null,
            "grid_gap": null,
            "grid_row": null,
            "grid_template_areas": null,
            "grid_template_columns": null,
            "grid_template_rows": null,
            "height": null,
            "justify_content": null,
            "justify_items": null,
            "left": null,
            "margin": null,
            "max_height": null,
            "max_width": null,
            "min_height": null,
            "min_width": null,
            "object_fit": null,
            "object_position": null,
            "order": null,
            "overflow": null,
            "overflow_x": null,
            "overflow_y": null,
            "padding": null,
            "right": null,
            "top": null,
            "visibility": null,
            "width": null
          }
        },
        "175701581f01457792eb2a448edb5089": {
          "model_module": "@jupyter-widgets/controls",
          "model_name": "ProgressStyleModel",
          "model_module_version": "1.5.0",
          "state": {
            "_model_module": "@jupyter-widgets/controls",
            "_model_module_version": "1.5.0",
            "_model_name": "ProgressStyleModel",
            "_view_count": null,
            "_view_module": "@jupyter-widgets/base",
            "_view_module_version": "1.2.0",
            "_view_name": "StyleView",
            "bar_color": null,
            "description_width": ""
          }
        },
        "afa31c568ed3429b919d3dbf22ecbc6e": {
          "model_module": "@jupyter-widgets/base",
          "model_name": "LayoutModel",
          "model_module_version": "1.2.0",
          "state": {
            "_model_module": "@jupyter-widgets/base",
            "_model_module_version": "1.2.0",
            "_model_name": "LayoutModel",
            "_view_count": null,
            "_view_module": "@jupyter-widgets/base",
            "_view_module_version": "1.2.0",
            "_view_name": "LayoutView",
            "align_content": null,
            "align_items": null,
            "align_self": null,
            "border": null,
            "bottom": null,
            "display": null,
            "flex": null,
            "flex_flow": null,
            "grid_area": null,
            "grid_auto_columns": null,
            "grid_auto_flow": null,
            "grid_auto_rows": null,
            "grid_column": null,
            "grid_gap": null,
            "grid_row": null,
            "grid_template_areas": null,
            "grid_template_columns": null,
            "grid_template_rows": null,
            "height": null,
            "justify_content": null,
            "justify_items": null,
            "left": null,
            "margin": null,
            "max_height": null,
            "max_width": null,
            "min_height": null,
            "min_width": null,
            "object_fit": null,
            "object_position": null,
            "order": null,
            "overflow": null,
            "overflow_x": null,
            "overflow_y": null,
            "padding": null,
            "right": null,
            "top": null,
            "visibility": null,
            "width": null
          }
        },
        "8c1ad524791e4f4494227d717923cc22": {
          "model_module": "@jupyter-widgets/controls",
          "model_name": "DescriptionStyleModel",
          "model_module_version": "1.5.0",
          "state": {
            "_model_module": "@jupyter-widgets/controls",
            "_model_module_version": "1.5.0",
            "_model_name": "DescriptionStyleModel",
            "_view_count": null,
            "_view_module": "@jupyter-widgets/base",
            "_view_module_version": "1.2.0",
            "_view_name": "StyleView",
            "description_width": ""
          }
        },
        "2a19ae1540b2407ba2a25f0d7efd6fb5": {
          "model_module": "@jupyter-widgets/controls",
          "model_name": "HBoxModel",
          "model_module_version": "1.5.0",
          "state": {
            "_dom_classes": [],
            "_model_module": "@jupyter-widgets/controls",
            "_model_module_version": "1.5.0",
            "_model_name": "HBoxModel",
            "_view_count": null,
            "_view_module": "@jupyter-widgets/controls",
            "_view_module_version": "1.5.0",
            "_view_name": "HBoxView",
            "box_style": "",
            "children": [
              "IPY_MODEL_506d12f749a84721b2f9c2e77e00d8b5",
              "IPY_MODEL_e7c3bbefb3e044949c2b127fe611729f",
              "IPY_MODEL_d9bbe421ad114229abcc3000c1f9bdfe"
            ],
            "layout": "IPY_MODEL_2a7868cf39c54542a6668b01586853a8"
          }
        },
        "506d12f749a84721b2f9c2e77e00d8b5": {
          "model_module": "@jupyter-widgets/controls",
          "model_name": "HTMLModel",
          "model_module_version": "1.5.0",
          "state": {
            "_dom_classes": [],
            "_model_module": "@jupyter-widgets/controls",
            "_model_module_version": "1.5.0",
            "_model_name": "HTMLModel",
            "_view_count": null,
            "_view_module": "@jupyter-widgets/controls",
            "_view_module_version": "1.5.0",
            "_view_name": "HTMLView",
            "description": "",
            "description_tooltip": null,
            "layout": "IPY_MODEL_0b6482ec7e9b4ef09a00364440b54e3a",
            "placeholder": "​",
            "style": "IPY_MODEL_afae012aee404f99bea658cf6e2c38f1",
            "value": "model.safetensors: 100%"
          }
        },
        "e7c3bbefb3e044949c2b127fe611729f": {
          "model_module": "@jupyter-widgets/controls",
          "model_name": "FloatProgressModel",
          "model_module_version": "1.5.0",
          "state": {
            "_dom_classes": [],
            "_model_module": "@jupyter-widgets/controls",
            "_model_module_version": "1.5.0",
            "_model_name": "FloatProgressModel",
            "_view_count": null,
            "_view_module": "@jupyter-widgets/controls",
            "_view_module_version": "1.5.0",
            "_view_name": "ProgressView",
            "bar_style": "success",
            "description": "",
            "description_tooltip": null,
            "layout": "IPY_MODEL_2eb97dfd08334b98ad9e4962af9115c3",
            "max": 290403936,
            "min": 0,
            "orientation": "horizontal",
            "style": "IPY_MODEL_6813fcfff45f433e9101df105d3b0676",
            "value": 290403936
          }
        },
        "d9bbe421ad114229abcc3000c1f9bdfe": {
          "model_module": "@jupyter-widgets/controls",
          "model_name": "HTMLModel",
          "model_module_version": "1.5.0",
          "state": {
            "_dom_classes": [],
            "_model_module": "@jupyter-widgets/controls",
            "_model_module_version": "1.5.0",
            "_model_name": "HTMLModel",
            "_view_count": null,
            "_view_module": "@jupyter-widgets/controls",
            "_view_module_version": "1.5.0",
            "_view_name": "HTMLView",
            "description": "",
            "description_tooltip": null,
            "layout": "IPY_MODEL_268afd8aca6b435581ea21f73c89e1e0",
            "placeholder": "​",
            "style": "IPY_MODEL_245742df95cc4938bd97a65717819939",
            "value": " 290M/290M [00:06&lt;00:00, 14.3MB/s]"
          }
        },
        "2a7868cf39c54542a6668b01586853a8": {
          "model_module": "@jupyter-widgets/base",
          "model_name": "LayoutModel",
          "model_module_version": "1.2.0",
          "state": {
            "_model_module": "@jupyter-widgets/base",
            "_model_module_version": "1.2.0",
            "_model_name": "LayoutModel",
            "_view_count": null,
            "_view_module": "@jupyter-widgets/base",
            "_view_module_version": "1.2.0",
            "_view_name": "LayoutView",
            "align_content": null,
            "align_items": null,
            "align_self": null,
            "border": null,
            "bottom": null,
            "display": null,
            "flex": null,
            "flex_flow": null,
            "grid_area": null,
            "grid_auto_columns": null,
            "grid_auto_flow": null,
            "grid_auto_rows": null,
            "grid_column": null,
            "grid_gap": null,
            "grid_row": null,
            "grid_template_areas": null,
            "grid_template_columns": null,
            "grid_template_rows": null,
            "height": null,
            "justify_content": null,
            "justify_items": null,
            "left": null,
            "margin": null,
            "max_height": null,
            "max_width": null,
            "min_height": null,
            "min_width": null,
            "object_fit": null,
            "object_position": null,
            "order": null,
            "overflow": null,
            "overflow_x": null,
            "overflow_y": null,
            "padding": null,
            "right": null,
            "top": null,
            "visibility": null,
            "width": null
          }
        },
        "0b6482ec7e9b4ef09a00364440b54e3a": {
          "model_module": "@jupyter-widgets/base",
          "model_name": "LayoutModel",
          "model_module_version": "1.2.0",
          "state": {
            "_model_module": "@jupyter-widgets/base",
            "_model_module_version": "1.2.0",
            "_model_name": "LayoutModel",
            "_view_count": null,
            "_view_module": "@jupyter-widgets/base",
            "_view_module_version": "1.2.0",
            "_view_name": "LayoutView",
            "align_content": null,
            "align_items": null,
            "align_self": null,
            "border": null,
            "bottom": null,
            "display": null,
            "flex": null,
            "flex_flow": null,
            "grid_area": null,
            "grid_auto_columns": null,
            "grid_auto_flow": null,
            "grid_auto_rows": null,
            "grid_column": null,
            "grid_gap": null,
            "grid_row": null,
            "grid_template_areas": null,
            "grid_template_columns": null,
            "grid_template_rows": null,
            "height": null,
            "justify_content": null,
            "justify_items": null,
            "left": null,
            "margin": null,
            "max_height": null,
            "max_width": null,
            "min_height": null,
            "min_width": null,
            "object_fit": null,
            "object_position": null,
            "order": null,
            "overflow": null,
            "overflow_x": null,
            "overflow_y": null,
            "padding": null,
            "right": null,
            "top": null,
            "visibility": null,
            "width": null
          }
        },
        "afae012aee404f99bea658cf6e2c38f1": {
          "model_module": "@jupyter-widgets/controls",
          "model_name": "DescriptionStyleModel",
          "model_module_version": "1.5.0",
          "state": {
            "_model_module": "@jupyter-widgets/controls",
            "_model_module_version": "1.5.0",
            "_model_name": "DescriptionStyleModel",
            "_view_count": null,
            "_view_module": "@jupyter-widgets/base",
            "_view_module_version": "1.2.0",
            "_view_name": "StyleView",
            "description_width": ""
          }
        },
        "2eb97dfd08334b98ad9e4962af9115c3": {
          "model_module": "@jupyter-widgets/base",
          "model_name": "LayoutModel",
          "model_module_version": "1.2.0",
          "state": {
            "_model_module": "@jupyter-widgets/base",
            "_model_module_version": "1.2.0",
            "_model_name": "LayoutModel",
            "_view_count": null,
            "_view_module": "@jupyter-widgets/base",
            "_view_module_version": "1.2.0",
            "_view_name": "LayoutView",
            "align_content": null,
            "align_items": null,
            "align_self": null,
            "border": null,
            "bottom": null,
            "display": null,
            "flex": null,
            "flex_flow": null,
            "grid_area": null,
            "grid_auto_columns": null,
            "grid_auto_flow": null,
            "grid_auto_rows": null,
            "grid_column": null,
            "grid_gap": null,
            "grid_row": null,
            "grid_template_areas": null,
            "grid_template_columns": null,
            "grid_template_rows": null,
            "height": null,
            "justify_content": null,
            "justify_items": null,
            "left": null,
            "margin": null,
            "max_height": null,
            "max_width": null,
            "min_height": null,
            "min_width": null,
            "object_fit": null,
            "object_position": null,
            "order": null,
            "overflow": null,
            "overflow_x": null,
            "overflow_y": null,
            "padding": null,
            "right": null,
            "top": null,
            "visibility": null,
            "width": null
          }
        },
        "6813fcfff45f433e9101df105d3b0676": {
          "model_module": "@jupyter-widgets/controls",
          "model_name": "ProgressStyleModel",
          "model_module_version": "1.5.0",
          "state": {
            "_model_module": "@jupyter-widgets/controls",
            "_model_module_version": "1.5.0",
            "_model_name": "ProgressStyleModel",
            "_view_count": null,
            "_view_module": "@jupyter-widgets/base",
            "_view_module_version": "1.2.0",
            "_view_name": "StyleView",
            "bar_color": null,
            "description_width": ""
          }
        },
        "268afd8aca6b435581ea21f73c89e1e0": {
          "model_module": "@jupyter-widgets/base",
          "model_name": "LayoutModel",
          "model_module_version": "1.2.0",
          "state": {
            "_model_module": "@jupyter-widgets/base",
            "_model_module_version": "1.2.0",
            "_model_name": "LayoutModel",
            "_view_count": null,
            "_view_module": "@jupyter-widgets/base",
            "_view_module_version": "1.2.0",
            "_view_name": "LayoutView",
            "align_content": null,
            "align_items": null,
            "align_self": null,
            "border": null,
            "bottom": null,
            "display": null,
            "flex": null,
            "flex_flow": null,
            "grid_area": null,
            "grid_auto_columns": null,
            "grid_auto_flow": null,
            "grid_auto_rows": null,
            "grid_column": null,
            "grid_gap": null,
            "grid_row": null,
            "grid_template_areas": null,
            "grid_template_columns": null,
            "grid_template_rows": null,
            "height": null,
            "justify_content": null,
            "justify_items": null,
            "left": null,
            "margin": null,
            "max_height": null,
            "max_width": null,
            "min_height": null,
            "min_width": null,
            "object_fit": null,
            "object_position": null,
            "order": null,
            "overflow": null,
            "overflow_x": null,
            "overflow_y": null,
            "padding": null,
            "right": null,
            "top": null,
            "visibility": null,
            "width": null
          }
        },
        "245742df95cc4938bd97a65717819939": {
          "model_module": "@jupyter-widgets/controls",
          "model_name": "DescriptionStyleModel",
          "model_module_version": "1.5.0",
          "state": {
            "_model_module": "@jupyter-widgets/controls",
            "_model_module_version": "1.5.0",
            "_model_name": "DescriptionStyleModel",
            "_view_count": null,
            "_view_module": "@jupyter-widgets/base",
            "_view_module_version": "1.2.0",
            "_view_name": "StyleView",
            "description_width": ""
          }
        },
        "9e4f47184a5e4ec3b25faa9ef4ce4166": {
          "model_module": "@jupyter-widgets/controls",
          "model_name": "HBoxModel",
          "model_module_version": "1.5.0",
          "state": {
            "_dom_classes": [],
            "_model_module": "@jupyter-widgets/controls",
            "_model_module_version": "1.5.0",
            "_model_name": "HBoxModel",
            "_view_count": null,
            "_view_module": "@jupyter-widgets/controls",
            "_view_module_version": "1.5.0",
            "_view_name": "HBoxView",
            "box_style": "",
            "children": [
              "IPY_MODEL_77150aaab1304ee7980a460fc061c84d",
              "IPY_MODEL_157a956185b0485399073b9a677af5fd",
              "IPY_MODEL_cefa3092a2334d21be940c57ec3a1b60"
            ],
            "layout": "IPY_MODEL_2e82a358ae9e4c49a5714c0bf29ef1ea"
          }
        },
        "77150aaab1304ee7980a460fc061c84d": {
          "model_module": "@jupyter-widgets/controls",
          "model_name": "HTMLModel",
          "model_module_version": "1.5.0",
          "state": {
            "_dom_classes": [],
            "_model_module": "@jupyter-widgets/controls",
            "_model_module_version": "1.5.0",
            "_model_name": "HTMLModel",
            "_view_count": null,
            "_view_module": "@jupyter-widgets/controls",
            "_view_module_version": "1.5.0",
            "_view_name": "HTMLView",
            "description": "",
            "description_tooltip": null,
            "layout": "IPY_MODEL_ac8d0898bbd64f6e8d65b62b2010e897",
            "placeholder": "​",
            "style": "IPY_MODEL_5570ee0218794a72ad25f40a290e5dc5",
            "value": "generation_config.json: 100%"
          }
        },
        "157a956185b0485399073b9a677af5fd": {
          "model_module": "@jupyter-widgets/controls",
          "model_name": "FloatProgressModel",
          "model_module_version": "1.5.0",
          "state": {
            "_dom_classes": [],
            "_model_module": "@jupyter-widgets/controls",
            "_model_module_version": "1.5.0",
            "_model_name": "FloatProgressModel",
            "_view_count": null,
            "_view_module": "@jupyter-widgets/controls",
            "_view_module_version": "1.5.0",
            "_view_name": "ProgressView",
            "bar_style": "success",
            "description": "",
            "description_tooltip": null,
            "layout": "IPY_MODEL_53b178b2fa2b48f2a5d5ec57f8b467b6",
            "max": 3807,
            "min": 0,
            "orientation": "horizontal",
            "style": "IPY_MODEL_1e0d2601a4b442c19732fd1430ae6e4b",
            "value": 3807
          }
        },
        "cefa3092a2334d21be940c57ec3a1b60": {
          "model_module": "@jupyter-widgets/controls",
          "model_name": "HTMLModel",
          "model_module_version": "1.5.0",
          "state": {
            "_dom_classes": [],
            "_model_module": "@jupyter-widgets/controls",
            "_model_module_version": "1.5.0",
            "_model_name": "HTMLModel",
            "_view_count": null,
            "_view_module": "@jupyter-widgets/controls",
            "_view_module_version": "1.5.0",
            "_view_name": "HTMLView",
            "description": "",
            "description_tooltip": null,
            "layout": "IPY_MODEL_bb8432eebe144ef5885bffb5eb73b088",
            "placeholder": "​",
            "style": "IPY_MODEL_cc3a2e58061b43adb72ab6c72198b3bc",
            "value": " 3.81k/3.81k [00:00&lt;00:00, 172kB/s]"
          }
        },
        "2e82a358ae9e4c49a5714c0bf29ef1ea": {
          "model_module": "@jupyter-widgets/base",
          "model_name": "LayoutModel",
          "model_module_version": "1.2.0",
          "state": {
            "_model_module": "@jupyter-widgets/base",
            "_model_module_version": "1.2.0",
            "_model_name": "LayoutModel",
            "_view_count": null,
            "_view_module": "@jupyter-widgets/base",
            "_view_module_version": "1.2.0",
            "_view_name": "LayoutView",
            "align_content": null,
            "align_items": null,
            "align_self": null,
            "border": null,
            "bottom": null,
            "display": null,
            "flex": null,
            "flex_flow": null,
            "grid_area": null,
            "grid_auto_columns": null,
            "grid_auto_flow": null,
            "grid_auto_rows": null,
            "grid_column": null,
            "grid_gap": null,
            "grid_row": null,
            "grid_template_areas": null,
            "grid_template_columns": null,
            "grid_template_rows": null,
            "height": null,
            "justify_content": null,
            "justify_items": null,
            "left": null,
            "margin": null,
            "max_height": null,
            "max_width": null,
            "min_height": null,
            "min_width": null,
            "object_fit": null,
            "object_position": null,
            "order": null,
            "overflow": null,
            "overflow_x": null,
            "overflow_y": null,
            "padding": null,
            "right": null,
            "top": null,
            "visibility": null,
            "width": null
          }
        },
        "ac8d0898bbd64f6e8d65b62b2010e897": {
          "model_module": "@jupyter-widgets/base",
          "model_name": "LayoutModel",
          "model_module_version": "1.2.0",
          "state": {
            "_model_module": "@jupyter-widgets/base",
            "_model_module_version": "1.2.0",
            "_model_name": "LayoutModel",
            "_view_count": null,
            "_view_module": "@jupyter-widgets/base",
            "_view_module_version": "1.2.0",
            "_view_name": "LayoutView",
            "align_content": null,
            "align_items": null,
            "align_self": null,
            "border": null,
            "bottom": null,
            "display": null,
            "flex": null,
            "flex_flow": null,
            "grid_area": null,
            "grid_auto_columns": null,
            "grid_auto_flow": null,
            "grid_auto_rows": null,
            "grid_column": null,
            "grid_gap": null,
            "grid_row": null,
            "grid_template_areas": null,
            "grid_template_columns": null,
            "grid_template_rows": null,
            "height": null,
            "justify_content": null,
            "justify_items": null,
            "left": null,
            "margin": null,
            "max_height": null,
            "max_width": null,
            "min_height": null,
            "min_width": null,
            "object_fit": null,
            "object_position": null,
            "order": null,
            "overflow": null,
            "overflow_x": null,
            "overflow_y": null,
            "padding": null,
            "right": null,
            "top": null,
            "visibility": null,
            "width": null
          }
        },
        "5570ee0218794a72ad25f40a290e5dc5": {
          "model_module": "@jupyter-widgets/controls",
          "model_name": "DescriptionStyleModel",
          "model_module_version": "1.5.0",
          "state": {
            "_model_module": "@jupyter-widgets/controls",
            "_model_module_version": "1.5.0",
            "_model_name": "DescriptionStyleModel",
            "_view_count": null,
            "_view_module": "@jupyter-widgets/base",
            "_view_module_version": "1.2.0",
            "_view_name": "StyleView",
            "description_width": ""
          }
        },
        "53b178b2fa2b48f2a5d5ec57f8b467b6": {
          "model_module": "@jupyter-widgets/base",
          "model_name": "LayoutModel",
          "model_module_version": "1.2.0",
          "state": {
            "_model_module": "@jupyter-widgets/base",
            "_model_module_version": "1.2.0",
            "_model_name": "LayoutModel",
            "_view_count": null,
            "_view_module": "@jupyter-widgets/base",
            "_view_module_version": "1.2.0",
            "_view_name": "LayoutView",
            "align_content": null,
            "align_items": null,
            "align_self": null,
            "border": null,
            "bottom": null,
            "display": null,
            "flex": null,
            "flex_flow": null,
            "grid_area": null,
            "grid_auto_columns": null,
            "grid_auto_flow": null,
            "grid_auto_rows": null,
            "grid_column": null,
            "grid_gap": null,
            "grid_row": null,
            "grid_template_areas": null,
            "grid_template_columns": null,
            "grid_template_rows": null,
            "height": null,
            "justify_content": null,
            "justify_items": null,
            "left": null,
            "margin": null,
            "max_height": null,
            "max_width": null,
            "min_height": null,
            "min_width": null,
            "object_fit": null,
            "object_position": null,
            "order": null,
            "overflow": null,
            "overflow_x": null,
            "overflow_y": null,
            "padding": null,
            "right": null,
            "top": null,
            "visibility": null,
            "width": null
          }
        },
        "1e0d2601a4b442c19732fd1430ae6e4b": {
          "model_module": "@jupyter-widgets/controls",
          "model_name": "ProgressStyleModel",
          "model_module_version": "1.5.0",
          "state": {
            "_model_module": "@jupyter-widgets/controls",
            "_model_module_version": "1.5.0",
            "_model_name": "ProgressStyleModel",
            "_view_count": null,
            "_view_module": "@jupyter-widgets/base",
            "_view_module_version": "1.2.0",
            "_view_name": "StyleView",
            "bar_color": null,
            "description_width": ""
          }
        },
        "bb8432eebe144ef5885bffb5eb73b088": {
          "model_module": "@jupyter-widgets/base",
          "model_name": "LayoutModel",
          "model_module_version": "1.2.0",
          "state": {
            "_model_module": "@jupyter-widgets/base",
            "_model_module_version": "1.2.0",
            "_model_name": "LayoutModel",
            "_view_count": null,
            "_view_module": "@jupyter-widgets/base",
            "_view_module_version": "1.2.0",
            "_view_name": "LayoutView",
            "align_content": null,
            "align_items": null,
            "align_self": null,
            "border": null,
            "bottom": null,
            "display": null,
            "flex": null,
            "flex_flow": null,
            "grid_area": null,
            "grid_auto_columns": null,
            "grid_auto_flow": null,
            "grid_auto_rows": null,
            "grid_column": null,
            "grid_gap": null,
            "grid_row": null,
            "grid_template_areas": null,
            "grid_template_columns": null,
            "grid_template_rows": null,
            "height": null,
            "justify_content": null,
            "justify_items": null,
            "left": null,
            "margin": null,
            "max_height": null,
            "max_width": null,
            "min_height": null,
            "min_width": null,
            "object_fit": null,
            "object_position": null,
            "order": null,
            "overflow": null,
            "overflow_x": null,
            "overflow_y": null,
            "padding": null,
            "right": null,
            "top": null,
            "visibility": null,
            "width": null
          }
        },
        "cc3a2e58061b43adb72ab6c72198b3bc": {
          "model_module": "@jupyter-widgets/controls",
          "model_name": "DescriptionStyleModel",
          "model_module_version": "1.5.0",
          "state": {
            "_model_module": "@jupyter-widgets/controls",
            "_model_module_version": "1.5.0",
            "_model_name": "DescriptionStyleModel",
            "_view_count": null,
            "_view_module": "@jupyter-widgets/base",
            "_view_module_version": "1.2.0",
            "_view_name": "StyleView",
            "description_width": ""
          }
        },
        "15427e9e8b6344f78d83f0b5de118280": {
          "model_module": "@jupyter-widgets/controls",
          "model_name": "HBoxModel",
          "model_module_version": "1.5.0",
          "state": {
            "_dom_classes": [],
            "_model_module": "@jupyter-widgets/controls",
            "_model_module_version": "1.5.0",
            "_model_name": "HBoxModel",
            "_view_count": null,
            "_view_module": "@jupyter-widgets/controls",
            "_view_module_version": "1.5.0",
            "_view_name": "HBoxView",
            "box_style": "",
            "children": [
              "IPY_MODEL_00113ff7759c4589bc386bc3297d429f",
              "IPY_MODEL_9535538d2f34426f97e420fdca6a92dc",
              "IPY_MODEL_86c2fedfdc0648fab56223273100bed8"
            ],
            "layout": "IPY_MODEL_5f26f8abad634707a8a9638fd8765d74"
          }
        },
        "00113ff7759c4589bc386bc3297d429f": {
          "model_module": "@jupyter-widgets/controls",
          "model_name": "HTMLModel",
          "model_module_version": "1.5.0",
          "state": {
            "_dom_classes": [],
            "_model_module": "@jupyter-widgets/controls",
            "_model_module_version": "1.5.0",
            "_model_name": "HTMLModel",
            "_view_count": null,
            "_view_module": "@jupyter-widgets/controls",
            "_view_module_version": "1.5.0",
            "_view_name": "HTMLView",
            "description": "",
            "description_tooltip": null,
            "layout": "IPY_MODEL_6a3111e8b70b469781a1a72f1c0b8a5c",
            "placeholder": "​",
            "style": "IPY_MODEL_8ff02acc084241499b9b299de600d3cc",
            "value": "tokenizer_config.json: 100%"
          }
        },
        "9535538d2f34426f97e420fdca6a92dc": {
          "model_module": "@jupyter-widgets/controls",
          "model_name": "FloatProgressModel",
          "model_module_version": "1.5.0",
          "state": {
            "_dom_classes": [],
            "_model_module": "@jupyter-widgets/controls",
            "_model_module_version": "1.5.0",
            "_model_name": "FloatProgressModel",
            "_view_count": null,
            "_view_module": "@jupyter-widgets/controls",
            "_view_module_version": "1.5.0",
            "_view_name": "ProgressView",
            "bar_style": "success",
            "description": "",
            "description_tooltip": null,
            "layout": "IPY_MODEL_940d6684a94e4df69159842ac8c12c5a",
            "max": 282683,
            "min": 0,
            "orientation": "horizontal",
            "style": "IPY_MODEL_15373325274c4bff8fe3ad5ff6d6b044",
            "value": 282683
          }
        },
        "86c2fedfdc0648fab56223273100bed8": {
          "model_module": "@jupyter-widgets/controls",
          "model_name": "HTMLModel",
          "model_module_version": "1.5.0",
          "state": {
            "_dom_classes": [],
            "_model_module": "@jupyter-widgets/controls",
            "_model_module_version": "1.5.0",
            "_model_name": "HTMLModel",
            "_view_count": null,
            "_view_module": "@jupyter-widgets/controls",
            "_view_module_version": "1.5.0",
            "_view_name": "HTMLView",
            "description": "",
            "description_tooltip": null,
            "layout": "IPY_MODEL_93789761655246f693654e20063cd647",
            "placeholder": "​",
            "style": "IPY_MODEL_1969fc61d72f49e8b4b5d0f87ede6491",
            "value": " 283k/283k [00:00&lt;00:00, 4.09MB/s]"
          }
        },
        "5f26f8abad634707a8a9638fd8765d74": {
          "model_module": "@jupyter-widgets/base",
          "model_name": "LayoutModel",
          "model_module_version": "1.2.0",
          "state": {
            "_model_module": "@jupyter-widgets/base",
            "_model_module_version": "1.2.0",
            "_model_name": "LayoutModel",
            "_view_count": null,
            "_view_module": "@jupyter-widgets/base",
            "_view_module_version": "1.2.0",
            "_view_name": "LayoutView",
            "align_content": null,
            "align_items": null,
            "align_self": null,
            "border": null,
            "bottom": null,
            "display": null,
            "flex": null,
            "flex_flow": null,
            "grid_area": null,
            "grid_auto_columns": null,
            "grid_auto_flow": null,
            "grid_auto_rows": null,
            "grid_column": null,
            "grid_gap": null,
            "grid_row": null,
            "grid_template_areas": null,
            "grid_template_columns": null,
            "grid_template_rows": null,
            "height": null,
            "justify_content": null,
            "justify_items": null,
            "left": null,
            "margin": null,
            "max_height": null,
            "max_width": null,
            "min_height": null,
            "min_width": null,
            "object_fit": null,
            "object_position": null,
            "order": null,
            "overflow": null,
            "overflow_x": null,
            "overflow_y": null,
            "padding": null,
            "right": null,
            "top": null,
            "visibility": null,
            "width": null
          }
        },
        "6a3111e8b70b469781a1a72f1c0b8a5c": {
          "model_module": "@jupyter-widgets/base",
          "model_name": "LayoutModel",
          "model_module_version": "1.2.0",
          "state": {
            "_model_module": "@jupyter-widgets/base",
            "_model_module_version": "1.2.0",
            "_model_name": "LayoutModel",
            "_view_count": null,
            "_view_module": "@jupyter-widgets/base",
            "_view_module_version": "1.2.0",
            "_view_name": "LayoutView",
            "align_content": null,
            "align_items": null,
            "align_self": null,
            "border": null,
            "bottom": null,
            "display": null,
            "flex": null,
            "flex_flow": null,
            "grid_area": null,
            "grid_auto_columns": null,
            "grid_auto_flow": null,
            "grid_auto_rows": null,
            "grid_column": null,
            "grid_gap": null,
            "grid_row": null,
            "grid_template_areas": null,
            "grid_template_columns": null,
            "grid_template_rows": null,
            "height": null,
            "justify_content": null,
            "justify_items": null,
            "left": null,
            "margin": null,
            "max_height": null,
            "max_width": null,
            "min_height": null,
            "min_width": null,
            "object_fit": null,
            "object_position": null,
            "order": null,
            "overflow": null,
            "overflow_x": null,
            "overflow_y": null,
            "padding": null,
            "right": null,
            "top": null,
            "visibility": null,
            "width": null
          }
        },
        "8ff02acc084241499b9b299de600d3cc": {
          "model_module": "@jupyter-widgets/controls",
          "model_name": "DescriptionStyleModel",
          "model_module_version": "1.5.0",
          "state": {
            "_model_module": "@jupyter-widgets/controls",
            "_model_module_version": "1.5.0",
            "_model_name": "DescriptionStyleModel",
            "_view_count": null,
            "_view_module": "@jupyter-widgets/base",
            "_view_module_version": "1.2.0",
            "_view_name": "StyleView",
            "description_width": ""
          }
        },
        "940d6684a94e4df69159842ac8c12c5a": {
          "model_module": "@jupyter-widgets/base",
          "model_name": "LayoutModel",
          "model_module_version": "1.2.0",
          "state": {
            "_model_module": "@jupyter-widgets/base",
            "_model_module_version": "1.2.0",
            "_model_name": "LayoutModel",
            "_view_count": null,
            "_view_module": "@jupyter-widgets/base",
            "_view_module_version": "1.2.0",
            "_view_name": "LayoutView",
            "align_content": null,
            "align_items": null,
            "align_self": null,
            "border": null,
            "bottom": null,
            "display": null,
            "flex": null,
            "flex_flow": null,
            "grid_area": null,
            "grid_auto_columns": null,
            "grid_auto_flow": null,
            "grid_auto_rows": null,
            "grid_column": null,
            "grid_gap": null,
            "grid_row": null,
            "grid_template_areas": null,
            "grid_template_columns": null,
            "grid_template_rows": null,
            "height": null,
            "justify_content": null,
            "justify_items": null,
            "left": null,
            "margin": null,
            "max_height": null,
            "max_width": null,
            "min_height": null,
            "min_width": null,
            "object_fit": null,
            "object_position": null,
            "order": null,
            "overflow": null,
            "overflow_x": null,
            "overflow_y": null,
            "padding": null,
            "right": null,
            "top": null,
            "visibility": null,
            "width": null
          }
        },
        "15373325274c4bff8fe3ad5ff6d6b044": {
          "model_module": "@jupyter-widgets/controls",
          "model_name": "ProgressStyleModel",
          "model_module_version": "1.5.0",
          "state": {
            "_model_module": "@jupyter-widgets/controls",
            "_model_module_version": "1.5.0",
            "_model_name": "ProgressStyleModel",
            "_view_count": null,
            "_view_module": "@jupyter-widgets/base",
            "_view_module_version": "1.2.0",
            "_view_name": "StyleView",
            "bar_color": null,
            "description_width": ""
          }
        },
        "93789761655246f693654e20063cd647": {
          "model_module": "@jupyter-widgets/base",
          "model_name": "LayoutModel",
          "model_module_version": "1.2.0",
          "state": {
            "_model_module": "@jupyter-widgets/base",
            "_model_module_version": "1.2.0",
            "_model_name": "LayoutModel",
            "_view_count": null,
            "_view_module": "@jupyter-widgets/base",
            "_view_module_version": "1.2.0",
            "_view_name": "LayoutView",
            "align_content": null,
            "align_items": null,
            "align_self": null,
            "border": null,
            "bottom": null,
            "display": null,
            "flex": null,
            "flex_flow": null,
            "grid_area": null,
            "grid_auto_columns": null,
            "grid_auto_flow": null,
            "grid_auto_rows": null,
            "grid_column": null,
            "grid_gap": null,
            "grid_row": null,
            "grid_template_areas": null,
            "grid_template_columns": null,
            "grid_template_rows": null,
            "height": null,
            "justify_content": null,
            "justify_items": null,
            "left": null,
            "margin": null,
            "max_height": null,
            "max_width": null,
            "min_height": null,
            "min_width": null,
            "object_fit": null,
            "object_position": null,
            "order": null,
            "overflow": null,
            "overflow_x": null,
            "overflow_y": null,
            "padding": null,
            "right": null,
            "top": null,
            "visibility": null,
            "width": null
          }
        },
        "1969fc61d72f49e8b4b5d0f87ede6491": {
          "model_module": "@jupyter-widgets/controls",
          "model_name": "DescriptionStyleModel",
          "model_module_version": "1.5.0",
          "state": {
            "_model_module": "@jupyter-widgets/controls",
            "_model_module_version": "1.5.0",
            "_model_name": "DescriptionStyleModel",
            "_view_count": null,
            "_view_module": "@jupyter-widgets/base",
            "_view_module_version": "1.2.0",
            "_view_name": "StyleView",
            "description_width": ""
          }
        },
        "56602e60895d4affad5a65948494f1e4": {
          "model_module": "@jupyter-widgets/controls",
          "model_name": "HBoxModel",
          "model_module_version": "1.5.0",
          "state": {
            "_dom_classes": [],
            "_model_module": "@jupyter-widgets/controls",
            "_model_module_version": "1.5.0",
            "_model_name": "HBoxModel",
            "_view_count": null,
            "_view_module": "@jupyter-widgets/controls",
            "_view_module_version": "1.5.0",
            "_view_name": "HBoxView",
            "box_style": "",
            "children": [
              "IPY_MODEL_b46be900545c45649fe2f8a6d0b10451",
              "IPY_MODEL_c08e889aceae4f6f9f1e23a6ac64e329",
              "IPY_MODEL_d239107bf9c04a9b820bde0e3b403f4e"
            ],
            "layout": "IPY_MODEL_e6e4454db1c7427c9d1d49d5c8ae1c8b"
          }
        },
        "b46be900545c45649fe2f8a6d0b10451": {
          "model_module": "@jupyter-widgets/controls",
          "model_name": "HTMLModel",
          "model_module_version": "1.5.0",
          "state": {
            "_dom_classes": [],
            "_model_module": "@jupyter-widgets/controls",
            "_model_module_version": "1.5.0",
            "_model_name": "HTMLModel",
            "_view_count": null,
            "_view_module": "@jupyter-widgets/controls",
            "_view_module_version": "1.5.0",
            "_view_name": "HTMLView",
            "description": "",
            "description_tooltip": null,
            "layout": "IPY_MODEL_b4ac33e098fa465db087b6dd0b7083aa",
            "placeholder": "​",
            "style": "IPY_MODEL_2a0125ce9ef847189a8c8259c01370a5",
            "value": "vocab.json: 100%"
          }
        },
        "c08e889aceae4f6f9f1e23a6ac64e329": {
          "model_module": "@jupyter-widgets/controls",
          "model_name": "FloatProgressModel",
          "model_module_version": "1.5.0",
          "state": {
            "_dom_classes": [],
            "_model_module": "@jupyter-widgets/controls",
            "_model_module_version": "1.5.0",
            "_model_name": "FloatProgressModel",
            "_view_count": null,
            "_view_module": "@jupyter-widgets/controls",
            "_view_module_version": "1.5.0",
            "_view_name": "ProgressView",
            "bar_style": "success",
            "description": "",
            "description_tooltip": null,
            "layout": "IPY_MODEL_97ee3ce0e6c7421ca59090dc3a623319",
            "max": 835550,
            "min": 0,
            "orientation": "horizontal",
            "style": "IPY_MODEL_bf8aa662a7224d85b8748c2c06fca987",
            "value": 835550
          }
        },
        "d239107bf9c04a9b820bde0e3b403f4e": {
          "model_module": "@jupyter-widgets/controls",
          "model_name": "HTMLModel",
          "model_module_version": "1.5.0",
          "state": {
            "_dom_classes": [],
            "_model_module": "@jupyter-widgets/controls",
            "_model_module_version": "1.5.0",
            "_model_name": "HTMLModel",
            "_view_count": null,
            "_view_module": "@jupyter-widgets/controls",
            "_view_module_version": "1.5.0",
            "_view_name": "HTMLView",
            "description": "",
            "description_tooltip": null,
            "layout": "IPY_MODEL_221d5c6343d244cd94c35e34a188f1ca",
            "placeholder": "​",
            "style": "IPY_MODEL_9fde4a20a7be40a7844eea61560bc9db",
            "value": " 836k/836k [00:00&lt;00:00, 15.9MB/s]"
          }
        },
        "e6e4454db1c7427c9d1d49d5c8ae1c8b": {
          "model_module": "@jupyter-widgets/base",
          "model_name": "LayoutModel",
          "model_module_version": "1.2.0",
          "state": {
            "_model_module": "@jupyter-widgets/base",
            "_model_module_version": "1.2.0",
            "_model_name": "LayoutModel",
            "_view_count": null,
            "_view_module": "@jupyter-widgets/base",
            "_view_module_version": "1.2.0",
            "_view_name": "LayoutView",
            "align_content": null,
            "align_items": null,
            "align_self": null,
            "border": null,
            "bottom": null,
            "display": null,
            "flex": null,
            "flex_flow": null,
            "grid_area": null,
            "grid_auto_columns": null,
            "grid_auto_flow": null,
            "grid_auto_rows": null,
            "grid_column": null,
            "grid_gap": null,
            "grid_row": null,
            "grid_template_areas": null,
            "grid_template_columns": null,
            "grid_template_rows": null,
            "height": null,
            "justify_content": null,
            "justify_items": null,
            "left": null,
            "margin": null,
            "max_height": null,
            "max_width": null,
            "min_height": null,
            "min_width": null,
            "object_fit": null,
            "object_position": null,
            "order": null,
            "overflow": null,
            "overflow_x": null,
            "overflow_y": null,
            "padding": null,
            "right": null,
            "top": null,
            "visibility": null,
            "width": null
          }
        },
        "b4ac33e098fa465db087b6dd0b7083aa": {
          "model_module": "@jupyter-widgets/base",
          "model_name": "LayoutModel",
          "model_module_version": "1.2.0",
          "state": {
            "_model_module": "@jupyter-widgets/base",
            "_model_module_version": "1.2.0",
            "_model_name": "LayoutModel",
            "_view_count": null,
            "_view_module": "@jupyter-widgets/base",
            "_view_module_version": "1.2.0",
            "_view_name": "LayoutView",
            "align_content": null,
            "align_items": null,
            "align_self": null,
            "border": null,
            "bottom": null,
            "display": null,
            "flex": null,
            "flex_flow": null,
            "grid_area": null,
            "grid_auto_columns": null,
            "grid_auto_flow": null,
            "grid_auto_rows": null,
            "grid_column": null,
            "grid_gap": null,
            "grid_row": null,
            "grid_template_areas": null,
            "grid_template_columns": null,
            "grid_template_rows": null,
            "height": null,
            "justify_content": null,
            "justify_items": null,
            "left": null,
            "margin": null,
            "max_height": null,
            "max_width": null,
            "min_height": null,
            "min_width": null,
            "object_fit": null,
            "object_position": null,
            "order": null,
            "overflow": null,
            "overflow_x": null,
            "overflow_y": null,
            "padding": null,
            "right": null,
            "top": null,
            "visibility": null,
            "width": null
          }
        },
        "2a0125ce9ef847189a8c8259c01370a5": {
          "model_module": "@jupyter-widgets/controls",
          "model_name": "DescriptionStyleModel",
          "model_module_version": "1.5.0",
          "state": {
            "_model_module": "@jupyter-widgets/controls",
            "_model_module_version": "1.5.0",
            "_model_name": "DescriptionStyleModel",
            "_view_count": null,
            "_view_module": "@jupyter-widgets/base",
            "_view_module_version": "1.2.0",
            "_view_name": "StyleView",
            "description_width": ""
          }
        },
        "97ee3ce0e6c7421ca59090dc3a623319": {
          "model_module": "@jupyter-widgets/base",
          "model_name": "LayoutModel",
          "model_module_version": "1.2.0",
          "state": {
            "_model_module": "@jupyter-widgets/base",
            "_model_module_version": "1.2.0",
            "_model_name": "LayoutModel",
            "_view_count": null,
            "_view_module": "@jupyter-widgets/base",
            "_view_module_version": "1.2.0",
            "_view_name": "LayoutView",
            "align_content": null,
            "align_items": null,
            "align_self": null,
            "border": null,
            "bottom": null,
            "display": null,
            "flex": null,
            "flex_flow": null,
            "grid_area": null,
            "grid_auto_columns": null,
            "grid_auto_flow": null,
            "grid_auto_rows": null,
            "grid_column": null,
            "grid_gap": null,
            "grid_row": null,
            "grid_template_areas": null,
            "grid_template_columns": null,
            "grid_template_rows": null,
            "height": null,
            "justify_content": null,
            "justify_items": null,
            "left": null,
            "margin": null,
            "max_height": null,
            "max_width": null,
            "min_height": null,
            "min_width": null,
            "object_fit": null,
            "object_position": null,
            "order": null,
            "overflow": null,
            "overflow_x": null,
            "overflow_y": null,
            "padding": null,
            "right": null,
            "top": null,
            "visibility": null,
            "width": null
          }
        },
        "bf8aa662a7224d85b8748c2c06fca987": {
          "model_module": "@jupyter-widgets/controls",
          "model_name": "ProgressStyleModel",
          "model_module_version": "1.5.0",
          "state": {
            "_model_module": "@jupyter-widgets/controls",
            "_model_module_version": "1.5.0",
            "_model_name": "ProgressStyleModel",
            "_view_count": null,
            "_view_module": "@jupyter-widgets/base",
            "_view_module_version": "1.2.0",
            "_view_name": "StyleView",
            "bar_color": null,
            "description_width": ""
          }
        },
        "221d5c6343d244cd94c35e34a188f1ca": {
          "model_module": "@jupyter-widgets/base",
          "model_name": "LayoutModel",
          "model_module_version": "1.2.0",
          "state": {
            "_model_module": "@jupyter-widgets/base",
            "_model_module_version": "1.2.0",
            "_model_name": "LayoutModel",
            "_view_count": null,
            "_view_module": "@jupyter-widgets/base",
            "_view_module_version": "1.2.0",
            "_view_name": "LayoutView",
            "align_content": null,
            "align_items": null,
            "align_self": null,
            "border": null,
            "bottom": null,
            "display": null,
            "flex": null,
            "flex_flow": null,
            "grid_area": null,
            "grid_auto_columns": null,
            "grid_auto_flow": null,
            "grid_auto_rows": null,
            "grid_column": null,
            "grid_gap": null,
            "grid_row": null,
            "grid_template_areas": null,
            "grid_template_columns": null,
            "grid_template_rows": null,
            "height": null,
            "justify_content": null,
            "justify_items": null,
            "left": null,
            "margin": null,
            "max_height": null,
            "max_width": null,
            "min_height": null,
            "min_width": null,
            "object_fit": null,
            "object_position": null,
            "order": null,
            "overflow": null,
            "overflow_x": null,
            "overflow_y": null,
            "padding": null,
            "right": null,
            "top": null,
            "visibility": null,
            "width": null
          }
        },
        "9fde4a20a7be40a7844eea61560bc9db": {
          "model_module": "@jupyter-widgets/controls",
          "model_name": "DescriptionStyleModel",
          "model_module_version": "1.5.0",
          "state": {
            "_model_module": "@jupyter-widgets/controls",
            "_model_module_version": "1.5.0",
            "_model_name": "DescriptionStyleModel",
            "_view_count": null,
            "_view_module": "@jupyter-widgets/base",
            "_view_module_version": "1.2.0",
            "_view_name": "StyleView",
            "description_width": ""
          }
        },
        "cc172d6a809b44a8a50a23e88d4b9211": {
          "model_module": "@jupyter-widgets/controls",
          "model_name": "HBoxModel",
          "model_module_version": "1.5.0",
          "state": {
            "_dom_classes": [],
            "_model_module": "@jupyter-widgets/controls",
            "_model_module_version": "1.5.0",
            "_model_name": "HBoxModel",
            "_view_count": null,
            "_view_module": "@jupyter-widgets/controls",
            "_view_module_version": "1.5.0",
            "_view_name": "HBoxView",
            "box_style": "",
            "children": [
              "IPY_MODEL_3ff21f7dea5b445f98ecb1f955697c4f",
              "IPY_MODEL_200e3b7775c64a7098bd8d498c3ddc2d",
              "IPY_MODEL_3bb07ec895a04ac6b2424e9821af74b7"
            ],
            "layout": "IPY_MODEL_edb78b8b8201418eb302afb5f639cf88"
          }
        },
        "3ff21f7dea5b445f98ecb1f955697c4f": {
          "model_module": "@jupyter-widgets/controls",
          "model_name": "HTMLModel",
          "model_module_version": "1.5.0",
          "state": {
            "_dom_classes": [],
            "_model_module": "@jupyter-widgets/controls",
            "_model_module_version": "1.5.0",
            "_model_name": "HTMLModel",
            "_view_count": null,
            "_view_module": "@jupyter-widgets/controls",
            "_view_module_version": "1.5.0",
            "_view_name": "HTMLView",
            "description": "",
            "description_tooltip": null,
            "layout": "IPY_MODEL_ce97cf20d25a4e278e7204866a629d97",
            "placeholder": "​",
            "style": "IPY_MODEL_382014134a44416d936fb228024f7e78",
            "value": "tokenizer.json: 100%"
          }
        },
        "200e3b7775c64a7098bd8d498c3ddc2d": {
          "model_module": "@jupyter-widgets/controls",
          "model_name": "FloatProgressModel",
          "model_module_version": "1.5.0",
          "state": {
            "_dom_classes": [],
            "_model_module": "@jupyter-widgets/controls",
            "_model_module_version": "1.5.0",
            "_model_name": "FloatProgressModel",
            "_view_count": null,
            "_view_module": "@jupyter-widgets/controls",
            "_view_module_version": "1.5.0",
            "_view_name": "ProgressView",
            "bar_style": "success",
            "description": "",
            "description_tooltip": null,
            "layout": "IPY_MODEL_17fffe0fac3643d2935ba71b411d3f46",
            "max": 2480466,
            "min": 0,
            "orientation": "horizontal",
            "style": "IPY_MODEL_3b1266e19d604f4cb4218d793376bbe5",
            "value": 2480466
          }
        },
        "3bb07ec895a04ac6b2424e9821af74b7": {
          "model_module": "@jupyter-widgets/controls",
          "model_name": "HTMLModel",
          "model_module_version": "1.5.0",
          "state": {
            "_dom_classes": [],
            "_model_module": "@jupyter-widgets/controls",
            "_model_module_version": "1.5.0",
            "_model_name": "HTMLModel",
            "_view_count": null,
            "_view_module": "@jupyter-widgets/controls",
            "_view_module_version": "1.5.0",
            "_view_name": "HTMLView",
            "description": "",
            "description_tooltip": null,
            "layout": "IPY_MODEL_936b8829d91d461ab104a1576c44b4e8",
            "placeholder": "​",
            "style": "IPY_MODEL_b3134a477b2d495791fa5689cf4ddd89",
            "value": " 2.48M/2.48M [00:00&lt;00:00, 6.66MB/s]"
          }
        },
        "edb78b8b8201418eb302afb5f639cf88": {
          "model_module": "@jupyter-widgets/base",
          "model_name": "LayoutModel",
          "model_module_version": "1.2.0",
          "state": {
            "_model_module": "@jupyter-widgets/base",
            "_model_module_version": "1.2.0",
            "_model_name": "LayoutModel",
            "_view_count": null,
            "_view_module": "@jupyter-widgets/base",
            "_view_module_version": "1.2.0",
            "_view_name": "LayoutView",
            "align_content": null,
            "align_items": null,
            "align_self": null,
            "border": null,
            "bottom": null,
            "display": null,
            "flex": null,
            "flex_flow": null,
            "grid_area": null,
            "grid_auto_columns": null,
            "grid_auto_flow": null,
            "grid_auto_rows": null,
            "grid_column": null,
            "grid_gap": null,
            "grid_row": null,
            "grid_template_areas": null,
            "grid_template_columns": null,
            "grid_template_rows": null,
            "height": null,
            "justify_content": null,
            "justify_items": null,
            "left": null,
            "margin": null,
            "max_height": null,
            "max_width": null,
            "min_height": null,
            "min_width": null,
            "object_fit": null,
            "object_position": null,
            "order": null,
            "overflow": null,
            "overflow_x": null,
            "overflow_y": null,
            "padding": null,
            "right": null,
            "top": null,
            "visibility": null,
            "width": null
          }
        },
        "ce97cf20d25a4e278e7204866a629d97": {
          "model_module": "@jupyter-widgets/base",
          "model_name": "LayoutModel",
          "model_module_version": "1.2.0",
          "state": {
            "_model_module": "@jupyter-widgets/base",
            "_model_module_version": "1.2.0",
            "_model_name": "LayoutModel",
            "_view_count": null,
            "_view_module": "@jupyter-widgets/base",
            "_view_module_version": "1.2.0",
            "_view_name": "LayoutView",
            "align_content": null,
            "align_items": null,
            "align_self": null,
            "border": null,
            "bottom": null,
            "display": null,
            "flex": null,
            "flex_flow": null,
            "grid_area": null,
            "grid_auto_columns": null,
            "grid_auto_flow": null,
            "grid_auto_rows": null,
            "grid_column": null,
            "grid_gap": null,
            "grid_row": null,
            "grid_template_areas": null,
            "grid_template_columns": null,
            "grid_template_rows": null,
            "height": null,
            "justify_content": null,
            "justify_items": null,
            "left": null,
            "margin": null,
            "max_height": null,
            "max_width": null,
            "min_height": null,
            "min_width": null,
            "object_fit": null,
            "object_position": null,
            "order": null,
            "overflow": null,
            "overflow_x": null,
            "overflow_y": null,
            "padding": null,
            "right": null,
            "top": null,
            "visibility": null,
            "width": null
          }
        },
        "382014134a44416d936fb228024f7e78": {
          "model_module": "@jupyter-widgets/controls",
          "model_name": "DescriptionStyleModel",
          "model_module_version": "1.5.0",
          "state": {
            "_model_module": "@jupyter-widgets/controls",
            "_model_module_version": "1.5.0",
            "_model_name": "DescriptionStyleModel",
            "_view_count": null,
            "_view_module": "@jupyter-widgets/base",
            "_view_module_version": "1.2.0",
            "_view_name": "StyleView",
            "description_width": ""
          }
        },
        "17fffe0fac3643d2935ba71b411d3f46": {
          "model_module": "@jupyter-widgets/base",
          "model_name": "LayoutModel",
          "model_module_version": "1.2.0",
          "state": {
            "_model_module": "@jupyter-widgets/base",
            "_model_module_version": "1.2.0",
            "_model_name": "LayoutModel",
            "_view_count": null,
            "_view_module": "@jupyter-widgets/base",
            "_view_module_version": "1.2.0",
            "_view_name": "LayoutView",
            "align_content": null,
            "align_items": null,
            "align_self": null,
            "border": null,
            "bottom": null,
            "display": null,
            "flex": null,
            "flex_flow": null,
            "grid_area": null,
            "grid_auto_columns": null,
            "grid_auto_flow": null,
            "grid_auto_rows": null,
            "grid_column": null,
            "grid_gap": null,
            "grid_row": null,
            "grid_template_areas": null,
            "grid_template_columns": null,
            "grid_template_rows": null,
            "height": null,
            "justify_content": null,
            "justify_items": null,
            "left": null,
            "margin": null,
            "max_height": null,
            "max_width": null,
            "min_height": null,
            "min_width": null,
            "object_fit": null,
            "object_position": null,
            "order": null,
            "overflow": null,
            "overflow_x": null,
            "overflow_y": null,
            "padding": null,
            "right": null,
            "top": null,
            "visibility": null,
            "width": null
          }
        },
        "3b1266e19d604f4cb4218d793376bbe5": {
          "model_module": "@jupyter-widgets/controls",
          "model_name": "ProgressStyleModel",
          "model_module_version": "1.5.0",
          "state": {
            "_model_module": "@jupyter-widgets/controls",
            "_model_module_version": "1.5.0",
            "_model_name": "ProgressStyleModel",
            "_view_count": null,
            "_view_module": "@jupyter-widgets/base",
            "_view_module_version": "1.2.0",
            "_view_name": "StyleView",
            "bar_color": null,
            "description_width": ""
          }
        },
        "936b8829d91d461ab104a1576c44b4e8": {
          "model_module": "@jupyter-widgets/base",
          "model_name": "LayoutModel",
          "model_module_version": "1.2.0",
          "state": {
            "_model_module": "@jupyter-widgets/base",
            "_model_module_version": "1.2.0",
            "_model_name": "LayoutModel",
            "_view_count": null,
            "_view_module": "@jupyter-widgets/base",
            "_view_module_version": "1.2.0",
            "_view_name": "LayoutView",
            "align_content": null,
            "align_items": null,
            "align_self": null,
            "border": null,
            "bottom": null,
            "display": null,
            "flex": null,
            "flex_flow": null,
            "grid_area": null,
            "grid_auto_columns": null,
            "grid_auto_flow": null,
            "grid_auto_rows": null,
            "grid_column": null,
            "grid_gap": null,
            "grid_row": null,
            "grid_template_areas": null,
            "grid_template_columns": null,
            "grid_template_rows": null,
            "height": null,
            "justify_content": null,
            "justify_items": null,
            "left": null,
            "margin": null,
            "max_height": null,
            "max_width": null,
            "min_height": null,
            "min_width": null,
            "object_fit": null,
            "object_position": null,
            "order": null,
            "overflow": null,
            "overflow_x": null,
            "overflow_y": null,
            "padding": null,
            "right": null,
            "top": null,
            "visibility": null,
            "width": null
          }
        },
        "b3134a477b2d495791fa5689cf4ddd89": {
          "model_module": "@jupyter-widgets/controls",
          "model_name": "DescriptionStyleModel",
          "model_module_version": "1.5.0",
          "state": {
            "_model_module": "@jupyter-widgets/controls",
            "_model_module_version": "1.5.0",
            "_model_name": "DescriptionStyleModel",
            "_view_count": null,
            "_view_module": "@jupyter-widgets/base",
            "_view_module_version": "1.2.0",
            "_view_name": "StyleView",
            "description_width": ""
          }
        },
        "3632e260ba89449da8386bd91bebd8f8": {
          "model_module": "@jupyter-widgets/controls",
          "model_name": "HBoxModel",
          "model_module_version": "1.5.0",
          "state": {
            "_dom_classes": [],
            "_model_module": "@jupyter-widgets/controls",
            "_model_module_version": "1.5.0",
            "_model_name": "HBoxModel",
            "_view_count": null,
            "_view_module": "@jupyter-widgets/controls",
            "_view_module_version": "1.5.0",
            "_view_name": "HBoxView",
            "box_style": "",
            "children": [
              "IPY_MODEL_550ddfae89fa4ad0b8c6388c16a25444",
              "IPY_MODEL_310a9ef6061146eca4c1cf33e30c6f81",
              "IPY_MODEL_426dd6bc4fcc4202a6f7a30b7b205fe4"
            ],
            "layout": "IPY_MODEL_f30cdec8a194477a9fa73454e731a39f"
          }
        },
        "550ddfae89fa4ad0b8c6388c16a25444": {
          "model_module": "@jupyter-widgets/controls",
          "model_name": "HTMLModel",
          "model_module_version": "1.5.0",
          "state": {
            "_dom_classes": [],
            "_model_module": "@jupyter-widgets/controls",
            "_model_module_version": "1.5.0",
            "_model_name": "HTMLModel",
            "_view_count": null,
            "_view_module": "@jupyter-widgets/controls",
            "_view_module_version": "1.5.0",
            "_view_name": "HTMLView",
            "description": "",
            "description_tooltip": null,
            "layout": "IPY_MODEL_0815ff589ffd4e5d911b48725d36d743",
            "placeholder": "​",
            "style": "IPY_MODEL_9179e966efbc41109bc1403929c92ff7",
            "value": "merges.txt: 100%"
          }
        },
        "310a9ef6061146eca4c1cf33e30c6f81": {
          "model_module": "@jupyter-widgets/controls",
          "model_name": "FloatProgressModel",
          "model_module_version": "1.5.0",
          "state": {
            "_dom_classes": [],
            "_model_module": "@jupyter-widgets/controls",
            "_model_module_version": "1.5.0",
            "_model_name": "FloatProgressModel",
            "_view_count": null,
            "_view_module": "@jupyter-widgets/controls",
            "_view_module_version": "1.5.0",
            "_view_name": "ProgressView",
            "bar_style": "success",
            "description": "",
            "description_tooltip": null,
            "layout": "IPY_MODEL_75cac26592e847c1b039fbc91c6749da",
            "max": 493869,
            "min": 0,
            "orientation": "horizontal",
            "style": "IPY_MODEL_ee9fb53892cb49cf9db497f7d1c1f06f",
            "value": 493869
          }
        },
        "426dd6bc4fcc4202a6f7a30b7b205fe4": {
          "model_module": "@jupyter-widgets/controls",
          "model_name": "HTMLModel",
          "model_module_version": "1.5.0",
          "state": {
            "_dom_classes": [],
            "_model_module": "@jupyter-widgets/controls",
            "_model_module_version": "1.5.0",
            "_model_name": "HTMLModel",
            "_view_count": null,
            "_view_module": "@jupyter-widgets/controls",
            "_view_module_version": "1.5.0",
            "_view_name": "HTMLView",
            "description": "",
            "description_tooltip": null,
            "layout": "IPY_MODEL_167f0c931b02488780b9e6e87e9c7181",
            "placeholder": "​",
            "style": "IPY_MODEL_e0fdfb364aed4e2f9b458dd6b9dfe411",
            "value": " 494k/494k [00:00&lt;00:00, 20.9MB/s]"
          }
        },
        "f30cdec8a194477a9fa73454e731a39f": {
          "model_module": "@jupyter-widgets/base",
          "model_name": "LayoutModel",
          "model_module_version": "1.2.0",
          "state": {
            "_model_module": "@jupyter-widgets/base",
            "_model_module_version": "1.2.0",
            "_model_name": "LayoutModel",
            "_view_count": null,
            "_view_module": "@jupyter-widgets/base",
            "_view_module_version": "1.2.0",
            "_view_name": "LayoutView",
            "align_content": null,
            "align_items": null,
            "align_self": null,
            "border": null,
            "bottom": null,
            "display": null,
            "flex": null,
            "flex_flow": null,
            "grid_area": null,
            "grid_auto_columns": null,
            "grid_auto_flow": null,
            "grid_auto_rows": null,
            "grid_column": null,
            "grid_gap": null,
            "grid_row": null,
            "grid_template_areas": null,
            "grid_template_columns": null,
            "grid_template_rows": null,
            "height": null,
            "justify_content": null,
            "justify_items": null,
            "left": null,
            "margin": null,
            "max_height": null,
            "max_width": null,
            "min_height": null,
            "min_width": null,
            "object_fit": null,
            "object_position": null,
            "order": null,
            "overflow": null,
            "overflow_x": null,
            "overflow_y": null,
            "padding": null,
            "right": null,
            "top": null,
            "visibility": null,
            "width": null
          }
        },
        "0815ff589ffd4e5d911b48725d36d743": {
          "model_module": "@jupyter-widgets/base",
          "model_name": "LayoutModel",
          "model_module_version": "1.2.0",
          "state": {
            "_model_module": "@jupyter-widgets/base",
            "_model_module_version": "1.2.0",
            "_model_name": "LayoutModel",
            "_view_count": null,
            "_view_module": "@jupyter-widgets/base",
            "_view_module_version": "1.2.0",
            "_view_name": "LayoutView",
            "align_content": null,
            "align_items": null,
            "align_self": null,
            "border": null,
            "bottom": null,
            "display": null,
            "flex": null,
            "flex_flow": null,
            "grid_area": null,
            "grid_auto_columns": null,
            "grid_auto_flow": null,
            "grid_auto_rows": null,
            "grid_column": null,
            "grid_gap": null,
            "grid_row": null,
            "grid_template_areas": null,
            "grid_template_columns": null,
            "grid_template_rows": null,
            "height": null,
            "justify_content": null,
            "justify_items": null,
            "left": null,
            "margin": null,
            "max_height": null,
            "max_width": null,
            "min_height": null,
            "min_width": null,
            "object_fit": null,
            "object_position": null,
            "order": null,
            "overflow": null,
            "overflow_x": null,
            "overflow_y": null,
            "padding": null,
            "right": null,
            "top": null,
            "visibility": null,
            "width": null
          }
        },
        "9179e966efbc41109bc1403929c92ff7": {
          "model_module": "@jupyter-widgets/controls",
          "model_name": "DescriptionStyleModel",
          "model_module_version": "1.5.0",
          "state": {
            "_model_module": "@jupyter-widgets/controls",
            "_model_module_version": "1.5.0",
            "_model_name": "DescriptionStyleModel",
            "_view_count": null,
            "_view_module": "@jupyter-widgets/base",
            "_view_module_version": "1.2.0",
            "_view_name": "StyleView",
            "description_width": ""
          }
        },
        "75cac26592e847c1b039fbc91c6749da": {
          "model_module": "@jupyter-widgets/base",
          "model_name": "LayoutModel",
          "model_module_version": "1.2.0",
          "state": {
            "_model_module": "@jupyter-widgets/base",
            "_model_module_version": "1.2.0",
            "_model_name": "LayoutModel",
            "_view_count": null,
            "_view_module": "@jupyter-widgets/base",
            "_view_module_version": "1.2.0",
            "_view_name": "LayoutView",
            "align_content": null,
            "align_items": null,
            "align_self": null,
            "border": null,
            "bottom": null,
            "display": null,
            "flex": null,
            "flex_flow": null,
            "grid_area": null,
            "grid_auto_columns": null,
            "grid_auto_flow": null,
            "grid_auto_rows": null,
            "grid_column": null,
            "grid_gap": null,
            "grid_row": null,
            "grid_template_areas": null,
            "grid_template_columns": null,
            "grid_template_rows": null,
            "height": null,
            "justify_content": null,
            "justify_items": null,
            "left": null,
            "margin": null,
            "max_height": null,
            "max_width": null,
            "min_height": null,
            "min_width": null,
            "object_fit": null,
            "object_position": null,
            "order": null,
            "overflow": null,
            "overflow_x": null,
            "overflow_y": null,
            "padding": null,
            "right": null,
            "top": null,
            "visibility": null,
            "width": null
          }
        },
        "ee9fb53892cb49cf9db497f7d1c1f06f": {
          "model_module": "@jupyter-widgets/controls",
          "model_name": "ProgressStyleModel",
          "model_module_version": "1.5.0",
          "state": {
            "_model_module": "@jupyter-widgets/controls",
            "_model_module_version": "1.5.0",
            "_model_name": "ProgressStyleModel",
            "_view_count": null,
            "_view_module": "@jupyter-widgets/base",
            "_view_module_version": "1.2.0",
            "_view_name": "StyleView",
            "bar_color": null,
            "description_width": ""
          }
        },
        "167f0c931b02488780b9e6e87e9c7181": {
          "model_module": "@jupyter-widgets/base",
          "model_name": "LayoutModel",
          "model_module_version": "1.2.0",
          "state": {
            "_model_module": "@jupyter-widgets/base",
            "_model_module_version": "1.2.0",
            "_model_name": "LayoutModel",
            "_view_count": null,
            "_view_module": "@jupyter-widgets/base",
            "_view_module_version": "1.2.0",
            "_view_name": "LayoutView",
            "align_content": null,
            "align_items": null,
            "align_self": null,
            "border": null,
            "bottom": null,
            "display": null,
            "flex": null,
            "flex_flow": null,
            "grid_area": null,
            "grid_auto_columns": null,
            "grid_auto_flow": null,
            "grid_auto_rows": null,
            "grid_column": null,
            "grid_gap": null,
            "grid_row": null,
            "grid_template_areas": null,
            "grid_template_columns": null,
            "grid_template_rows": null,
            "height": null,
            "justify_content": null,
            "justify_items": null,
            "left": null,
            "margin": null,
            "max_height": null,
            "max_width": null,
            "min_height": null,
            "min_width": null,
            "object_fit": null,
            "object_position": null,
            "order": null,
            "overflow": null,
            "overflow_x": null,
            "overflow_y": null,
            "padding": null,
            "right": null,
            "top": null,
            "visibility": null,
            "width": null
          }
        },
        "e0fdfb364aed4e2f9b458dd6b9dfe411": {
          "model_module": "@jupyter-widgets/controls",
          "model_name": "DescriptionStyleModel",
          "model_module_version": "1.5.0",
          "state": {
            "_model_module": "@jupyter-widgets/controls",
            "_model_module_version": "1.5.0",
            "_model_name": "DescriptionStyleModel",
            "_view_count": null,
            "_view_module": "@jupyter-widgets/base",
            "_view_module_version": "1.2.0",
            "_view_name": "StyleView",
            "description_width": ""
          }
        },
        "2489c36a4a7f4111b07428daec339320": {
          "model_module": "@jupyter-widgets/controls",
          "model_name": "HBoxModel",
          "model_module_version": "1.5.0",
          "state": {
            "_dom_classes": [],
            "_model_module": "@jupyter-widgets/controls",
            "_model_module_version": "1.5.0",
            "_model_name": "HBoxModel",
            "_view_count": null,
            "_view_module": "@jupyter-widgets/controls",
            "_view_module_version": "1.5.0",
            "_view_name": "HBoxView",
            "box_style": "",
            "children": [
              "IPY_MODEL_fd9ca735e6984a38b0268c95c92f7597",
              "IPY_MODEL_5d9eff41b744487dac663f20797ce4b3",
              "IPY_MODEL_d11b5cafcd90438db1d8741ecf276753"
            ],
            "layout": "IPY_MODEL_46bc10ae0da34ca4b1d738b6b13149cc"
          }
        },
        "fd9ca735e6984a38b0268c95c92f7597": {
          "model_module": "@jupyter-widgets/controls",
          "model_name": "HTMLModel",
          "model_module_version": "1.5.0",
          "state": {
            "_dom_classes": [],
            "_model_module": "@jupyter-widgets/controls",
            "_model_module_version": "1.5.0",
            "_model_name": "HTMLModel",
            "_view_count": null,
            "_view_module": "@jupyter-widgets/controls",
            "_view_module_version": "1.5.0",
            "_view_name": "HTMLView",
            "description": "",
            "description_tooltip": null,
            "layout": "IPY_MODEL_c8025d26de4f4249bcb1080b3d1daf83",
            "placeholder": "​",
            "style": "IPY_MODEL_b224e681bab244e69b25b9a390acd551",
            "value": "normalizer.json: 100%"
          }
        },
        "5d9eff41b744487dac663f20797ce4b3": {
          "model_module": "@jupyter-widgets/controls",
          "model_name": "FloatProgressModel",
          "model_module_version": "1.5.0",
          "state": {
            "_dom_classes": [],
            "_model_module": "@jupyter-widgets/controls",
            "_model_module_version": "1.5.0",
            "_model_name": "FloatProgressModel",
            "_view_count": null,
            "_view_module": "@jupyter-widgets/controls",
            "_view_module_version": "1.5.0",
            "_view_name": "ProgressView",
            "bar_style": "success",
            "description": "",
            "description_tooltip": null,
            "layout": "IPY_MODEL_87e86d2cf9a64ba6bc35e024bb51de10",
            "max": 52666,
            "min": 0,
            "orientation": "horizontal",
            "style": "IPY_MODEL_6455cf29a3fe4703ba3936d40f4e61d4",
            "value": 52666
          }
        },
        "d11b5cafcd90438db1d8741ecf276753": {
          "model_module": "@jupyter-widgets/controls",
          "model_name": "HTMLModel",
          "model_module_version": "1.5.0",
          "state": {
            "_dom_classes": [],
            "_model_module": "@jupyter-widgets/controls",
            "_model_module_version": "1.5.0",
            "_model_name": "HTMLModel",
            "_view_count": null,
            "_view_module": "@jupyter-widgets/controls",
            "_view_module_version": "1.5.0",
            "_view_name": "HTMLView",
            "description": "",
            "description_tooltip": null,
            "layout": "IPY_MODEL_b9ea10c7b241421c83f97a72ed41f457",
            "placeholder": "​",
            "style": "IPY_MODEL_ffd4f2a709f049b8bb0e87a368fd5a05",
            "value": " 52.7k/52.7k [00:00&lt;00:00, 878kB/s]"
          }
        },
        "46bc10ae0da34ca4b1d738b6b13149cc": {
          "model_module": "@jupyter-widgets/base",
          "model_name": "LayoutModel",
          "model_module_version": "1.2.0",
          "state": {
            "_model_module": "@jupyter-widgets/base",
            "_model_module_version": "1.2.0",
            "_model_name": "LayoutModel",
            "_view_count": null,
            "_view_module": "@jupyter-widgets/base",
            "_view_module_version": "1.2.0",
            "_view_name": "LayoutView",
            "align_content": null,
            "align_items": null,
            "align_self": null,
            "border": null,
            "bottom": null,
            "display": null,
            "flex": null,
            "flex_flow": null,
            "grid_area": null,
            "grid_auto_columns": null,
            "grid_auto_flow": null,
            "grid_auto_rows": null,
            "grid_column": null,
            "grid_gap": null,
            "grid_row": null,
            "grid_template_areas": null,
            "grid_template_columns": null,
            "grid_template_rows": null,
            "height": null,
            "justify_content": null,
            "justify_items": null,
            "left": null,
            "margin": null,
            "max_height": null,
            "max_width": null,
            "min_height": null,
            "min_width": null,
            "object_fit": null,
            "object_position": null,
            "order": null,
            "overflow": null,
            "overflow_x": null,
            "overflow_y": null,
            "padding": null,
            "right": null,
            "top": null,
            "visibility": null,
            "width": null
          }
        },
        "c8025d26de4f4249bcb1080b3d1daf83": {
          "model_module": "@jupyter-widgets/base",
          "model_name": "LayoutModel",
          "model_module_version": "1.2.0",
          "state": {
            "_model_module": "@jupyter-widgets/base",
            "_model_module_version": "1.2.0",
            "_model_name": "LayoutModel",
            "_view_count": null,
            "_view_module": "@jupyter-widgets/base",
            "_view_module_version": "1.2.0",
            "_view_name": "LayoutView",
            "align_content": null,
            "align_items": null,
            "align_self": null,
            "border": null,
            "bottom": null,
            "display": null,
            "flex": null,
            "flex_flow": null,
            "grid_area": null,
            "grid_auto_columns": null,
            "grid_auto_flow": null,
            "grid_auto_rows": null,
            "grid_column": null,
            "grid_gap": null,
            "grid_row": null,
            "grid_template_areas": null,
            "grid_template_columns": null,
            "grid_template_rows": null,
            "height": null,
            "justify_content": null,
            "justify_items": null,
            "left": null,
            "margin": null,
            "max_height": null,
            "max_width": null,
            "min_height": null,
            "min_width": null,
            "object_fit": null,
            "object_position": null,
            "order": null,
            "overflow": null,
            "overflow_x": null,
            "overflow_y": null,
            "padding": null,
            "right": null,
            "top": null,
            "visibility": null,
            "width": null
          }
        },
        "b224e681bab244e69b25b9a390acd551": {
          "model_module": "@jupyter-widgets/controls",
          "model_name": "DescriptionStyleModel",
          "model_module_version": "1.5.0",
          "state": {
            "_model_module": "@jupyter-widgets/controls",
            "_model_module_version": "1.5.0",
            "_model_name": "DescriptionStyleModel",
            "_view_count": null,
            "_view_module": "@jupyter-widgets/base",
            "_view_module_version": "1.2.0",
            "_view_name": "StyleView",
            "description_width": ""
          }
        },
        "87e86d2cf9a64ba6bc35e024bb51de10": {
          "model_module": "@jupyter-widgets/base",
          "model_name": "LayoutModel",
          "model_module_version": "1.2.0",
          "state": {
            "_model_module": "@jupyter-widgets/base",
            "_model_module_version": "1.2.0",
            "_model_name": "LayoutModel",
            "_view_count": null,
            "_view_module": "@jupyter-widgets/base",
            "_view_module_version": "1.2.0",
            "_view_name": "LayoutView",
            "align_content": null,
            "align_items": null,
            "align_self": null,
            "border": null,
            "bottom": null,
            "display": null,
            "flex": null,
            "flex_flow": null,
            "grid_area": null,
            "grid_auto_columns": null,
            "grid_auto_flow": null,
            "grid_auto_rows": null,
            "grid_column": null,
            "grid_gap": null,
            "grid_row": null,
            "grid_template_areas": null,
            "grid_template_columns": null,
            "grid_template_rows": null,
            "height": null,
            "justify_content": null,
            "justify_items": null,
            "left": null,
            "margin": null,
            "max_height": null,
            "max_width": null,
            "min_height": null,
            "min_width": null,
            "object_fit": null,
            "object_position": null,
            "order": null,
            "overflow": null,
            "overflow_x": null,
            "overflow_y": null,
            "padding": null,
            "right": null,
            "top": null,
            "visibility": null,
            "width": null
          }
        },
        "6455cf29a3fe4703ba3936d40f4e61d4": {
          "model_module": "@jupyter-widgets/controls",
          "model_name": "ProgressStyleModel",
          "model_module_version": "1.5.0",
          "state": {
            "_model_module": "@jupyter-widgets/controls",
            "_model_module_version": "1.5.0",
            "_model_name": "ProgressStyleModel",
            "_view_count": null,
            "_view_module": "@jupyter-widgets/base",
            "_view_module_version": "1.2.0",
            "_view_name": "StyleView",
            "bar_color": null,
            "description_width": ""
          }
        },
        "b9ea10c7b241421c83f97a72ed41f457": {
          "model_module": "@jupyter-widgets/base",
          "model_name": "LayoutModel",
          "model_module_version": "1.2.0",
          "state": {
            "_model_module": "@jupyter-widgets/base",
            "_model_module_version": "1.2.0",
            "_model_name": "LayoutModel",
            "_view_count": null,
            "_view_module": "@jupyter-widgets/base",
            "_view_module_version": "1.2.0",
            "_view_name": "LayoutView",
            "align_content": null,
            "align_items": null,
            "align_self": null,
            "border": null,
            "bottom": null,
            "display": null,
            "flex": null,
            "flex_flow": null,
            "grid_area": null,
            "grid_auto_columns": null,
            "grid_auto_flow": null,
            "grid_auto_rows": null,
            "grid_column": null,
            "grid_gap": null,
            "grid_row": null,
            "grid_template_areas": null,
            "grid_template_columns": null,
            "grid_template_rows": null,
            "height": null,
            "justify_content": null,
            "justify_items": null,
            "left": null,
            "margin": null,
            "max_height": null,
            "max_width": null,
            "min_height": null,
            "min_width": null,
            "object_fit": null,
            "object_position": null,
            "order": null,
            "overflow": null,
            "overflow_x": null,
            "overflow_y": null,
            "padding": null,
            "right": null,
            "top": null,
            "visibility": null,
            "width": null
          }
        },
        "ffd4f2a709f049b8bb0e87a368fd5a05": {
          "model_module": "@jupyter-widgets/controls",
          "model_name": "DescriptionStyleModel",
          "model_module_version": "1.5.0",
          "state": {
            "_model_module": "@jupyter-widgets/controls",
            "_model_module_version": "1.5.0",
            "_model_name": "DescriptionStyleModel",
            "_view_count": null,
            "_view_module": "@jupyter-widgets/base",
            "_view_module_version": "1.2.0",
            "_view_name": "StyleView",
            "description_width": ""
          }
        },
        "a65551b6dc154e89be38f045488ecff4": {
          "model_module": "@jupyter-widgets/controls",
          "model_name": "HBoxModel",
          "model_module_version": "1.5.0",
          "state": {
            "_dom_classes": [],
            "_model_module": "@jupyter-widgets/controls",
            "_model_module_version": "1.5.0",
            "_model_name": "HBoxModel",
            "_view_count": null,
            "_view_module": "@jupyter-widgets/controls",
            "_view_module_version": "1.5.0",
            "_view_name": "HBoxView",
            "box_style": "",
            "children": [
              "IPY_MODEL_7185357a5850428c8c719610474478ab",
              "IPY_MODEL_591420e58e744b0898cb5e702267dc0d",
              "IPY_MODEL_ac862415e2754d8d8b42b20dac5c8d27"
            ],
            "layout": "IPY_MODEL_16b611bdc2eb415eb794084688da97a3"
          }
        },
        "7185357a5850428c8c719610474478ab": {
          "model_module": "@jupyter-widgets/controls",
          "model_name": "HTMLModel",
          "model_module_version": "1.5.0",
          "state": {
            "_dom_classes": [],
            "_model_module": "@jupyter-widgets/controls",
            "_model_module_version": "1.5.0",
            "_model_name": "HTMLModel",
            "_view_count": null,
            "_view_module": "@jupyter-widgets/controls",
            "_view_module_version": "1.5.0",
            "_view_name": "HTMLView",
            "description": "",
            "description_tooltip": null,
            "layout": "IPY_MODEL_1b54a0fdb2a74927803d83e56d38436c",
            "placeholder": "​",
            "style": "IPY_MODEL_1ceb4baa1ac745e8920ec1315981d8dd",
            "value": "added_tokens.json: 100%"
          }
        },
        "591420e58e744b0898cb5e702267dc0d": {
          "model_module": "@jupyter-widgets/controls",
          "model_name": "FloatProgressModel",
          "model_module_version": "1.5.0",
          "state": {
            "_dom_classes": [],
            "_model_module": "@jupyter-widgets/controls",
            "_model_module_version": "1.5.0",
            "_model_name": "FloatProgressModel",
            "_view_count": null,
            "_view_module": "@jupyter-widgets/controls",
            "_view_module_version": "1.5.0",
            "_view_name": "ProgressView",
            "bar_style": "success",
            "description": "",
            "description_tooltip": null,
            "layout": "IPY_MODEL_20404472f62d49bbbd65137d44527243",
            "max": 34604,
            "min": 0,
            "orientation": "horizontal",
            "style": "IPY_MODEL_4ba9c2015df9425da61bed991ea9182e",
            "value": 34604
          }
        },
        "ac862415e2754d8d8b42b20dac5c8d27": {
          "model_module": "@jupyter-widgets/controls",
          "model_name": "HTMLModel",
          "model_module_version": "1.5.0",
          "state": {
            "_dom_classes": [],
            "_model_module": "@jupyter-widgets/controls",
            "_model_module_version": "1.5.0",
            "_model_name": "HTMLModel",
            "_view_count": null,
            "_view_module": "@jupyter-widgets/controls",
            "_view_module_version": "1.5.0",
            "_view_name": "HTMLView",
            "description": "",
            "description_tooltip": null,
            "layout": "IPY_MODEL_f87009b3ecd24c619b08f62f9512ec32",
            "placeholder": "​",
            "style": "IPY_MODEL_23c9bee9b2794f0fbd169735f8dd05ba",
            "value": " 34.6k/34.6k [00:00&lt;00:00, 1.20MB/s]"
          }
        },
        "16b611bdc2eb415eb794084688da97a3": {
          "model_module": "@jupyter-widgets/base",
          "model_name": "LayoutModel",
          "model_module_version": "1.2.0",
          "state": {
            "_model_module": "@jupyter-widgets/base",
            "_model_module_version": "1.2.0",
            "_model_name": "LayoutModel",
            "_view_count": null,
            "_view_module": "@jupyter-widgets/base",
            "_view_module_version": "1.2.0",
            "_view_name": "LayoutView",
            "align_content": null,
            "align_items": null,
            "align_self": null,
            "border": null,
            "bottom": null,
            "display": null,
            "flex": null,
            "flex_flow": null,
            "grid_area": null,
            "grid_auto_columns": null,
            "grid_auto_flow": null,
            "grid_auto_rows": null,
            "grid_column": null,
            "grid_gap": null,
            "grid_row": null,
            "grid_template_areas": null,
            "grid_template_columns": null,
            "grid_template_rows": null,
            "height": null,
            "justify_content": null,
            "justify_items": null,
            "left": null,
            "margin": null,
            "max_height": null,
            "max_width": null,
            "min_height": null,
            "min_width": null,
            "object_fit": null,
            "object_position": null,
            "order": null,
            "overflow": null,
            "overflow_x": null,
            "overflow_y": null,
            "padding": null,
            "right": null,
            "top": null,
            "visibility": null,
            "width": null
          }
        },
        "1b54a0fdb2a74927803d83e56d38436c": {
          "model_module": "@jupyter-widgets/base",
          "model_name": "LayoutModel",
          "model_module_version": "1.2.0",
          "state": {
            "_model_module": "@jupyter-widgets/base",
            "_model_module_version": "1.2.0",
            "_model_name": "LayoutModel",
            "_view_count": null,
            "_view_module": "@jupyter-widgets/base",
            "_view_module_version": "1.2.0",
            "_view_name": "LayoutView",
            "align_content": null,
            "align_items": null,
            "align_self": null,
            "border": null,
            "bottom": null,
            "display": null,
            "flex": null,
            "flex_flow": null,
            "grid_area": null,
            "grid_auto_columns": null,
            "grid_auto_flow": null,
            "grid_auto_rows": null,
            "grid_column": null,
            "grid_gap": null,
            "grid_row": null,
            "grid_template_areas": null,
            "grid_template_columns": null,
            "grid_template_rows": null,
            "height": null,
            "justify_content": null,
            "justify_items": null,
            "left": null,
            "margin": null,
            "max_height": null,
            "max_width": null,
            "min_height": null,
            "min_width": null,
            "object_fit": null,
            "object_position": null,
            "order": null,
            "overflow": null,
            "overflow_x": null,
            "overflow_y": null,
            "padding": null,
            "right": null,
            "top": null,
            "visibility": null,
            "width": null
          }
        },
        "1ceb4baa1ac745e8920ec1315981d8dd": {
          "model_module": "@jupyter-widgets/controls",
          "model_name": "DescriptionStyleModel",
          "model_module_version": "1.5.0",
          "state": {
            "_model_module": "@jupyter-widgets/controls",
            "_model_module_version": "1.5.0",
            "_model_name": "DescriptionStyleModel",
            "_view_count": null,
            "_view_module": "@jupyter-widgets/base",
            "_view_module_version": "1.2.0",
            "_view_name": "StyleView",
            "description_width": ""
          }
        },
        "20404472f62d49bbbd65137d44527243": {
          "model_module": "@jupyter-widgets/base",
          "model_name": "LayoutModel",
          "model_module_version": "1.2.0",
          "state": {
            "_model_module": "@jupyter-widgets/base",
            "_model_module_version": "1.2.0",
            "_model_name": "LayoutModel",
            "_view_count": null,
            "_view_module": "@jupyter-widgets/base",
            "_view_module_version": "1.2.0",
            "_view_name": "LayoutView",
            "align_content": null,
            "align_items": null,
            "align_self": null,
            "border": null,
            "bottom": null,
            "display": null,
            "flex": null,
            "flex_flow": null,
            "grid_area": null,
            "grid_auto_columns": null,
            "grid_auto_flow": null,
            "grid_auto_rows": null,
            "grid_column": null,
            "grid_gap": null,
            "grid_row": null,
            "grid_template_areas": null,
            "grid_template_columns": null,
            "grid_template_rows": null,
            "height": null,
            "justify_content": null,
            "justify_items": null,
            "left": null,
            "margin": null,
            "max_height": null,
            "max_width": null,
            "min_height": null,
            "min_width": null,
            "object_fit": null,
            "object_position": null,
            "order": null,
            "overflow": null,
            "overflow_x": null,
            "overflow_y": null,
            "padding": null,
            "right": null,
            "top": null,
            "visibility": null,
            "width": null
          }
        },
        "4ba9c2015df9425da61bed991ea9182e": {
          "model_module": "@jupyter-widgets/controls",
          "model_name": "ProgressStyleModel",
          "model_module_version": "1.5.0",
          "state": {
            "_model_module": "@jupyter-widgets/controls",
            "_model_module_version": "1.5.0",
            "_model_name": "ProgressStyleModel",
            "_view_count": null,
            "_view_module": "@jupyter-widgets/base",
            "_view_module_version": "1.2.0",
            "_view_name": "StyleView",
            "bar_color": null,
            "description_width": ""
          }
        },
        "f87009b3ecd24c619b08f62f9512ec32": {
          "model_module": "@jupyter-widgets/base",
          "model_name": "LayoutModel",
          "model_module_version": "1.2.0",
          "state": {
            "_model_module": "@jupyter-widgets/base",
            "_model_module_version": "1.2.0",
            "_model_name": "LayoutModel",
            "_view_count": null,
            "_view_module": "@jupyter-widgets/base",
            "_view_module_version": "1.2.0",
            "_view_name": "LayoutView",
            "align_content": null,
            "align_items": null,
            "align_self": null,
            "border": null,
            "bottom": null,
            "display": null,
            "flex": null,
            "flex_flow": null,
            "grid_area": null,
            "grid_auto_columns": null,
            "grid_auto_flow": null,
            "grid_auto_rows": null,
            "grid_column": null,
            "grid_gap": null,
            "grid_row": null,
            "grid_template_areas": null,
            "grid_template_columns": null,
            "grid_template_rows": null,
            "height": null,
            "justify_content": null,
            "justify_items": null,
            "left": null,
            "margin": null,
            "max_height": null,
            "max_width": null,
            "min_height": null,
            "min_width": null,
            "object_fit": null,
            "object_position": null,
            "order": null,
            "overflow": null,
            "overflow_x": null,
            "overflow_y": null,
            "padding": null,
            "right": null,
            "top": null,
            "visibility": null,
            "width": null
          }
        },
        "23c9bee9b2794f0fbd169735f8dd05ba": {
          "model_module": "@jupyter-widgets/controls",
          "model_name": "DescriptionStyleModel",
          "model_module_version": "1.5.0",
          "state": {
            "_model_module": "@jupyter-widgets/controls",
            "_model_module_version": "1.5.0",
            "_model_name": "DescriptionStyleModel",
            "_view_count": null,
            "_view_module": "@jupyter-widgets/base",
            "_view_module_version": "1.2.0",
            "_view_name": "StyleView",
            "description_width": ""
          }
        },
        "e7040f8377fa43889ab4ee21322b5568": {
          "model_module": "@jupyter-widgets/controls",
          "model_name": "HBoxModel",
          "model_module_version": "1.5.0",
          "state": {
            "_dom_classes": [],
            "_model_module": "@jupyter-widgets/controls",
            "_model_module_version": "1.5.0",
            "_model_name": "HBoxModel",
            "_view_count": null,
            "_view_module": "@jupyter-widgets/controls",
            "_view_module_version": "1.5.0",
            "_view_name": "HBoxView",
            "box_style": "",
            "children": [
              "IPY_MODEL_d1f091cad94a44a692a199919b80a536",
              "IPY_MODEL_4359ca8c076b462793c509af9fb07a40",
              "IPY_MODEL_926a8f8ad5e64e1486e0721bbea82fe4"
            ],
            "layout": "IPY_MODEL_77d9d18026df47c08cffa839f46332bd"
          }
        },
        "d1f091cad94a44a692a199919b80a536": {
          "model_module": "@jupyter-widgets/controls",
          "model_name": "HTMLModel",
          "model_module_version": "1.5.0",
          "state": {
            "_dom_classes": [],
            "_model_module": "@jupyter-widgets/controls",
            "_model_module_version": "1.5.0",
            "_model_name": "HTMLModel",
            "_view_count": null,
            "_view_module": "@jupyter-widgets/controls",
            "_view_module_version": "1.5.0",
            "_view_name": "HTMLView",
            "description": "",
            "description_tooltip": null,
            "layout": "IPY_MODEL_2ff9b4c148e44e269e1d48137fd28e8d",
            "placeholder": "​",
            "style": "IPY_MODEL_47ff18181b5d433b8bec5d3c5ba650a3",
            "value": "special_tokens_map.json: 100%"
          }
        },
        "4359ca8c076b462793c509af9fb07a40": {
          "model_module": "@jupyter-widgets/controls",
          "model_name": "FloatProgressModel",
          "model_module_version": "1.5.0",
          "state": {
            "_dom_classes": [],
            "_model_module": "@jupyter-widgets/controls",
            "_model_module_version": "1.5.0",
            "_model_name": "FloatProgressModel",
            "_view_count": null,
            "_view_module": "@jupyter-widgets/controls",
            "_view_module_version": "1.5.0",
            "_view_name": "ProgressView",
            "bar_style": "success",
            "description": "",
            "description_tooltip": null,
            "layout": "IPY_MODEL_13b36eaf673c40cc98630864d1d7ede4",
            "max": 2194,
            "min": 0,
            "orientation": "horizontal",
            "style": "IPY_MODEL_083c4b3b812343b7868918f8be624c14",
            "value": 2194
          }
        },
        "926a8f8ad5e64e1486e0721bbea82fe4": {
          "model_module": "@jupyter-widgets/controls",
          "model_name": "HTMLModel",
          "model_module_version": "1.5.0",
          "state": {
            "_dom_classes": [],
            "_model_module": "@jupyter-widgets/controls",
            "_model_module_version": "1.5.0",
            "_model_name": "HTMLModel",
            "_view_count": null,
            "_view_module": "@jupyter-widgets/controls",
            "_view_module_version": "1.5.0",
            "_view_name": "HTMLView",
            "description": "",
            "description_tooltip": null,
            "layout": "IPY_MODEL_f98e3d6b80b1462496e1c81787f7a1e4",
            "placeholder": "​",
            "style": "IPY_MODEL_2a3d7a88f9f64dc7a0a80367bbde3cfa",
            "value": " 2.19k/2.19k [00:00&lt;00:00, 105kB/s]"
          }
        },
        "77d9d18026df47c08cffa839f46332bd": {
          "model_module": "@jupyter-widgets/base",
          "model_name": "LayoutModel",
          "model_module_version": "1.2.0",
          "state": {
            "_model_module": "@jupyter-widgets/base",
            "_model_module_version": "1.2.0",
            "_model_name": "LayoutModel",
            "_view_count": null,
            "_view_module": "@jupyter-widgets/base",
            "_view_module_version": "1.2.0",
            "_view_name": "LayoutView",
            "align_content": null,
            "align_items": null,
            "align_self": null,
            "border": null,
            "bottom": null,
            "display": null,
            "flex": null,
            "flex_flow": null,
            "grid_area": null,
            "grid_auto_columns": null,
            "grid_auto_flow": null,
            "grid_auto_rows": null,
            "grid_column": null,
            "grid_gap": null,
            "grid_row": null,
            "grid_template_areas": null,
            "grid_template_columns": null,
            "grid_template_rows": null,
            "height": null,
            "justify_content": null,
            "justify_items": null,
            "left": null,
            "margin": null,
            "max_height": null,
            "max_width": null,
            "min_height": null,
            "min_width": null,
            "object_fit": null,
            "object_position": null,
            "order": null,
            "overflow": null,
            "overflow_x": null,
            "overflow_y": null,
            "padding": null,
            "right": null,
            "top": null,
            "visibility": null,
            "width": null
          }
        },
        "2ff9b4c148e44e269e1d48137fd28e8d": {
          "model_module": "@jupyter-widgets/base",
          "model_name": "LayoutModel",
          "model_module_version": "1.2.0",
          "state": {
            "_model_module": "@jupyter-widgets/base",
            "_model_module_version": "1.2.0",
            "_model_name": "LayoutModel",
            "_view_count": null,
            "_view_module": "@jupyter-widgets/base",
            "_view_module_version": "1.2.0",
            "_view_name": "LayoutView",
            "align_content": null,
            "align_items": null,
            "align_self": null,
            "border": null,
            "bottom": null,
            "display": null,
            "flex": null,
            "flex_flow": null,
            "grid_area": null,
            "grid_auto_columns": null,
            "grid_auto_flow": null,
            "grid_auto_rows": null,
            "grid_column": null,
            "grid_gap": null,
            "grid_row": null,
            "grid_template_areas": null,
            "grid_template_columns": null,
            "grid_template_rows": null,
            "height": null,
            "justify_content": null,
            "justify_items": null,
            "left": null,
            "margin": null,
            "max_height": null,
            "max_width": null,
            "min_height": null,
            "min_width": null,
            "object_fit": null,
            "object_position": null,
            "order": null,
            "overflow": null,
            "overflow_x": null,
            "overflow_y": null,
            "padding": null,
            "right": null,
            "top": null,
            "visibility": null,
            "width": null
          }
        },
        "47ff18181b5d433b8bec5d3c5ba650a3": {
          "model_module": "@jupyter-widgets/controls",
          "model_name": "DescriptionStyleModel",
          "model_module_version": "1.5.0",
          "state": {
            "_model_module": "@jupyter-widgets/controls",
            "_model_module_version": "1.5.0",
            "_model_name": "DescriptionStyleModel",
            "_view_count": null,
            "_view_module": "@jupyter-widgets/base",
            "_view_module_version": "1.2.0",
            "_view_name": "StyleView",
            "description_width": ""
          }
        },
        "13b36eaf673c40cc98630864d1d7ede4": {
          "model_module": "@jupyter-widgets/base",
          "model_name": "LayoutModel",
          "model_module_version": "1.2.0",
          "state": {
            "_model_module": "@jupyter-widgets/base",
            "_model_module_version": "1.2.0",
            "_model_name": "LayoutModel",
            "_view_count": null,
            "_view_module": "@jupyter-widgets/base",
            "_view_module_version": "1.2.0",
            "_view_name": "LayoutView",
            "align_content": null,
            "align_items": null,
            "align_self": null,
            "border": null,
            "bottom": null,
            "display": null,
            "flex": null,
            "flex_flow": null,
            "grid_area": null,
            "grid_auto_columns": null,
            "grid_auto_flow": null,
            "grid_auto_rows": null,
            "grid_column": null,
            "grid_gap": null,
            "grid_row": null,
            "grid_template_areas": null,
            "grid_template_columns": null,
            "grid_template_rows": null,
            "height": null,
            "justify_content": null,
            "justify_items": null,
            "left": null,
            "margin": null,
            "max_height": null,
            "max_width": null,
            "min_height": null,
            "min_width": null,
            "object_fit": null,
            "object_position": null,
            "order": null,
            "overflow": null,
            "overflow_x": null,
            "overflow_y": null,
            "padding": null,
            "right": null,
            "top": null,
            "visibility": null,
            "width": null
          }
        },
        "083c4b3b812343b7868918f8be624c14": {
          "model_module": "@jupyter-widgets/controls",
          "model_name": "ProgressStyleModel",
          "model_module_version": "1.5.0",
          "state": {
            "_model_module": "@jupyter-widgets/controls",
            "_model_module_version": "1.5.0",
            "_model_name": "ProgressStyleModel",
            "_view_count": null,
            "_view_module": "@jupyter-widgets/base",
            "_view_module_version": "1.2.0",
            "_view_name": "StyleView",
            "bar_color": null,
            "description_width": ""
          }
        },
        "f98e3d6b80b1462496e1c81787f7a1e4": {
          "model_module": "@jupyter-widgets/base",
          "model_name": "LayoutModel",
          "model_module_version": "1.2.0",
          "state": {
            "_model_module": "@jupyter-widgets/base",
            "_model_module_version": "1.2.0",
            "_model_name": "LayoutModel",
            "_view_count": null,
            "_view_module": "@jupyter-widgets/base",
            "_view_module_version": "1.2.0",
            "_view_name": "LayoutView",
            "align_content": null,
            "align_items": null,
            "align_self": null,
            "border": null,
            "bottom": null,
            "display": null,
            "flex": null,
            "flex_flow": null,
            "grid_area": null,
            "grid_auto_columns": null,
            "grid_auto_flow": null,
            "grid_auto_rows": null,
            "grid_column": null,
            "grid_gap": null,
            "grid_row": null,
            "grid_template_areas": null,
            "grid_template_columns": null,
            "grid_template_rows": null,
            "height": null,
            "justify_content": null,
            "justify_items": null,
            "left": null,
            "margin": null,
            "max_height": null,
            "max_width": null,
            "min_height": null,
            "min_width": null,
            "object_fit": null,
            "object_position": null,
            "order": null,
            "overflow": null,
            "overflow_x": null,
            "overflow_y": null,
            "padding": null,
            "right": null,
            "top": null,
            "visibility": null,
            "width": null
          }
        },
        "2a3d7a88f9f64dc7a0a80367bbde3cfa": {
          "model_module": "@jupyter-widgets/controls",
          "model_name": "DescriptionStyleModel",
          "model_module_version": "1.5.0",
          "state": {
            "_model_module": "@jupyter-widgets/controls",
            "_model_module_version": "1.5.0",
            "_model_name": "DescriptionStyleModel",
            "_view_count": null,
            "_view_module": "@jupyter-widgets/base",
            "_view_module_version": "1.2.0",
            "_view_name": "StyleView",
            "description_width": ""
          }
        },
        "a6494f915828494d8bb2f2af5a37cd0f": {
          "model_module": "@jupyter-widgets/controls",
          "model_name": "HBoxModel",
          "model_module_version": "1.5.0",
          "state": {
            "_dom_classes": [],
            "_model_module": "@jupyter-widgets/controls",
            "_model_module_version": "1.5.0",
            "_model_name": "HBoxModel",
            "_view_count": null,
            "_view_module": "@jupyter-widgets/controls",
            "_view_module_version": "1.5.0",
            "_view_name": "HBoxView",
            "box_style": "",
            "children": [
              "IPY_MODEL_5bfa288c2f614abaa987c12a642d1cce",
              "IPY_MODEL_6567d9e72b5248f0b9c7ee7ec8366c20",
              "IPY_MODEL_8148e6676d8041a09a23a9483cf6650d"
            ],
            "layout": "IPY_MODEL_0c01ef7f26c94a1190057246a5a1541f"
          }
        },
        "5bfa288c2f614abaa987c12a642d1cce": {
          "model_module": "@jupyter-widgets/controls",
          "model_name": "HTMLModel",
          "model_module_version": "1.5.0",
          "state": {
            "_dom_classes": [],
            "_model_module": "@jupyter-widgets/controls",
            "_model_module_version": "1.5.0",
            "_model_name": "HTMLModel",
            "_view_count": null,
            "_view_module": "@jupyter-widgets/controls",
            "_view_module_version": "1.5.0",
            "_view_name": "HTMLView",
            "description": "",
            "description_tooltip": null,
            "layout": "IPY_MODEL_f441112ebafa4458b108932bb4a89da5",
            "placeholder": "​",
            "style": "IPY_MODEL_009ca642ddd94db9b2538bb48158a76b",
            "value": "preprocessor_config.json: 100%"
          }
        },
        "6567d9e72b5248f0b9c7ee7ec8366c20": {
          "model_module": "@jupyter-widgets/controls",
          "model_name": "FloatProgressModel",
          "model_module_version": "1.5.0",
          "state": {
            "_dom_classes": [],
            "_model_module": "@jupyter-widgets/controls",
            "_model_module_version": "1.5.0",
            "_model_name": "FloatProgressModel",
            "_view_count": null,
            "_view_module": "@jupyter-widgets/controls",
            "_view_module_version": "1.5.0",
            "_view_name": "ProgressView",
            "bar_style": "success",
            "description": "",
            "description_tooltip": null,
            "layout": "IPY_MODEL_9847feaf365949f3b31ed32a464fb2de",
            "max": 184990,
            "min": 0,
            "orientation": "horizontal",
            "style": "IPY_MODEL_d4a26a95906247a583a08d9857acdd21",
            "value": 184990
          }
        },
        "8148e6676d8041a09a23a9483cf6650d": {
          "model_module": "@jupyter-widgets/controls",
          "model_name": "HTMLModel",
          "model_module_version": "1.5.0",
          "state": {
            "_dom_classes": [],
            "_model_module": "@jupyter-widgets/controls",
            "_model_module_version": "1.5.0",
            "_model_name": "HTMLModel",
            "_view_count": null,
            "_view_module": "@jupyter-widgets/controls",
            "_view_module_version": "1.5.0",
            "_view_name": "HTMLView",
            "description": "",
            "description_tooltip": null,
            "layout": "IPY_MODEL_99fd27e91dd544fb9c7ca8441b374179",
            "placeholder": "​",
            "style": "IPY_MODEL_a927f796f5aa4de88ee505ed79eec98b",
            "value": " 185k/185k [00:00&lt;00:00, 5.24MB/s]"
          }
        },
        "0c01ef7f26c94a1190057246a5a1541f": {
          "model_module": "@jupyter-widgets/base",
          "model_name": "LayoutModel",
          "model_module_version": "1.2.0",
          "state": {
            "_model_module": "@jupyter-widgets/base",
            "_model_module_version": "1.2.0",
            "_model_name": "LayoutModel",
            "_view_count": null,
            "_view_module": "@jupyter-widgets/base",
            "_view_module_version": "1.2.0",
            "_view_name": "LayoutView",
            "align_content": null,
            "align_items": null,
            "align_self": null,
            "border": null,
            "bottom": null,
            "display": null,
            "flex": null,
            "flex_flow": null,
            "grid_area": null,
            "grid_auto_columns": null,
            "grid_auto_flow": null,
            "grid_auto_rows": null,
            "grid_column": null,
            "grid_gap": null,
            "grid_row": null,
            "grid_template_areas": null,
            "grid_template_columns": null,
            "grid_template_rows": null,
            "height": null,
            "justify_content": null,
            "justify_items": null,
            "left": null,
            "margin": null,
            "max_height": null,
            "max_width": null,
            "min_height": null,
            "min_width": null,
            "object_fit": null,
            "object_position": null,
            "order": null,
            "overflow": null,
            "overflow_x": null,
            "overflow_y": null,
            "padding": null,
            "right": null,
            "top": null,
            "visibility": null,
            "width": null
          }
        },
        "f441112ebafa4458b108932bb4a89da5": {
          "model_module": "@jupyter-widgets/base",
          "model_name": "LayoutModel",
          "model_module_version": "1.2.0",
          "state": {
            "_model_module": "@jupyter-widgets/base",
            "_model_module_version": "1.2.0",
            "_model_name": "LayoutModel",
            "_view_count": null,
            "_view_module": "@jupyter-widgets/base",
            "_view_module_version": "1.2.0",
            "_view_name": "LayoutView",
            "align_content": null,
            "align_items": null,
            "align_self": null,
            "border": null,
            "bottom": null,
            "display": null,
            "flex": null,
            "flex_flow": null,
            "grid_area": null,
            "grid_auto_columns": null,
            "grid_auto_flow": null,
            "grid_auto_rows": null,
            "grid_column": null,
            "grid_gap": null,
            "grid_row": null,
            "grid_template_areas": null,
            "grid_template_columns": null,
            "grid_template_rows": null,
            "height": null,
            "justify_content": null,
            "justify_items": null,
            "left": null,
            "margin": null,
            "max_height": null,
            "max_width": null,
            "min_height": null,
            "min_width": null,
            "object_fit": null,
            "object_position": null,
            "order": null,
            "overflow": null,
            "overflow_x": null,
            "overflow_y": null,
            "padding": null,
            "right": null,
            "top": null,
            "visibility": null,
            "width": null
          }
        },
        "009ca642ddd94db9b2538bb48158a76b": {
          "model_module": "@jupyter-widgets/controls",
          "model_name": "DescriptionStyleModel",
          "model_module_version": "1.5.0",
          "state": {
            "_model_module": "@jupyter-widgets/controls",
            "_model_module_version": "1.5.0",
            "_model_name": "DescriptionStyleModel",
            "_view_count": null,
            "_view_module": "@jupyter-widgets/base",
            "_view_module_version": "1.2.0",
            "_view_name": "StyleView",
            "description_width": ""
          }
        },
        "9847feaf365949f3b31ed32a464fb2de": {
          "model_module": "@jupyter-widgets/base",
          "model_name": "LayoutModel",
          "model_module_version": "1.2.0",
          "state": {
            "_model_module": "@jupyter-widgets/base",
            "_model_module_version": "1.2.0",
            "_model_name": "LayoutModel",
            "_view_count": null,
            "_view_module": "@jupyter-widgets/base",
            "_view_module_version": "1.2.0",
            "_view_name": "LayoutView",
            "align_content": null,
            "align_items": null,
            "align_self": null,
            "border": null,
            "bottom": null,
            "display": null,
            "flex": null,
            "flex_flow": null,
            "grid_area": null,
            "grid_auto_columns": null,
            "grid_auto_flow": null,
            "grid_auto_rows": null,
            "grid_column": null,
            "grid_gap": null,
            "grid_row": null,
            "grid_template_areas": null,
            "grid_template_columns": null,
            "grid_template_rows": null,
            "height": null,
            "justify_content": null,
            "justify_items": null,
            "left": null,
            "margin": null,
            "max_height": null,
            "max_width": null,
            "min_height": null,
            "min_width": null,
            "object_fit": null,
            "object_position": null,
            "order": null,
            "overflow": null,
            "overflow_x": null,
            "overflow_y": null,
            "padding": null,
            "right": null,
            "top": null,
            "visibility": null,
            "width": null
          }
        },
        "d4a26a95906247a583a08d9857acdd21": {
          "model_module": "@jupyter-widgets/controls",
          "model_name": "ProgressStyleModel",
          "model_module_version": "1.5.0",
          "state": {
            "_model_module": "@jupyter-widgets/controls",
            "_model_module_version": "1.5.0",
            "_model_name": "ProgressStyleModel",
            "_view_count": null,
            "_view_module": "@jupyter-widgets/base",
            "_view_module_version": "1.2.0",
            "_view_name": "StyleView",
            "bar_color": null,
            "description_width": ""
          }
        },
        "99fd27e91dd544fb9c7ca8441b374179": {
          "model_module": "@jupyter-widgets/base",
          "model_name": "LayoutModel",
          "model_module_version": "1.2.0",
          "state": {
            "_model_module": "@jupyter-widgets/base",
            "_model_module_version": "1.2.0",
            "_model_name": "LayoutModel",
            "_view_count": null,
            "_view_module": "@jupyter-widgets/base",
            "_view_module_version": "1.2.0",
            "_view_name": "LayoutView",
            "align_content": null,
            "align_items": null,
            "align_self": null,
            "border": null,
            "bottom": null,
            "display": null,
            "flex": null,
            "flex_flow": null,
            "grid_area": null,
            "grid_auto_columns": null,
            "grid_auto_flow": null,
            "grid_auto_rows": null,
            "grid_column": null,
            "grid_gap": null,
            "grid_row": null,
            "grid_template_areas": null,
            "grid_template_columns": null,
            "grid_template_rows": null,
            "height": null,
            "justify_content": null,
            "justify_items": null,
            "left": null,
            "margin": null,
            "max_height": null,
            "max_width": null,
            "min_height": null,
            "min_width": null,
            "object_fit": null,
            "object_position": null,
            "order": null,
            "overflow": null,
            "overflow_x": null,
            "overflow_y": null,
            "padding": null,
            "right": null,
            "top": null,
            "visibility": null,
            "width": null
          }
        },
        "a927f796f5aa4de88ee505ed79eec98b": {
          "model_module": "@jupyter-widgets/controls",
          "model_name": "DescriptionStyleModel",
          "model_module_version": "1.5.0",
          "state": {
            "_model_module": "@jupyter-widgets/controls",
            "_model_module_version": "1.5.0",
            "_model_name": "DescriptionStyleModel",
            "_view_count": null,
            "_view_module": "@jupyter-widgets/base",
            "_view_module_version": "1.2.0",
            "_view_name": "StyleView",
            "description_width": ""
          }
        }
      }
    }
  },
  "cells": [
    {
      "cell_type": "markdown",
      "source": [
        "# Apresentação ✒️\n",
        "\n",
        "Notebook destinado ao curso LangChain Chat with Your Dat, disponibilizado na plataforma DeepLearningAI. Trata-se de um curso que ensina sobre o processo de Retrieval Argumetation Generation (RAG), que consiste em informar um conjunto de dados ou fonte à LLM em ordem de ajustá-la a um determinado contexto para que ela consiga responder melhor as perguntas do usuário referente a ele.\n",
        "\n",
        "Nesse sentido, permite ter maior controle da geração de conteúdo da LLM, para além do que ela fora previamente treinada. O curso irá abordar o carregamento de documentos, a criação de armazenamento vetorial (vector stores), embeddings, recuperação de informação da vector store, além de chat, possibilitando o usuário conversar com os seus dados."
      ],
      "metadata": {
        "id": "HYg6zCf8kQHE"
      }
    },
    {
      "cell_type": "markdown",
      "source": [
        "## Bibliotecas 📚"
      ],
      "metadata": {
        "id": "UIIrj2GolYrJ"
      }
    },
    {
      "cell_type": "code",
      "execution_count": 1,
      "metadata": {
        "colab": {
          "base_uri": "https://localhost:8080/"
        },
        "id": "RKC6pTIAkEJU",
        "outputId": "df6e92bd-36d6-4627-f1c2-003d263eea3e"
      },
      "outputs": [
        {
          "output_type": "stream",
          "name": "stdout",
          "text": [
            "\u001b[2K     \u001b[90m━━━━━━━━━━━━━━━━━━━━━━━━━━━━━━━━━━━━━━━━\u001b[0m \u001b[32m975.5/975.5 kB\u001b[0m \u001b[31m3.5 MB/s\u001b[0m eta \u001b[36m0:00:00\u001b[0m\n",
            "\u001b[2K     \u001b[90m━━━━━━━━━━━━━━━━━━━━━━━━━━━━━━━━━━━━━━━━\u001b[0m \u001b[32m337.4/337.4 kB\u001b[0m \u001b[31m9.5 MB/s\u001b[0m eta \u001b[36m0:00:00\u001b[0m\n",
            "\u001b[2K     \u001b[90m━━━━━━━━━━━━━━━━━━━━━━━━━━━━━━━━━━━━━━━━\u001b[0m \u001b[32m127.5/127.5 kB\u001b[0m \u001b[31m2.8 MB/s\u001b[0m eta \u001b[36m0:00:00\u001b[0m\n",
            "\u001b[2K     \u001b[90m━━━━━━━━━━━━━━━━━━━━━━━━━━━━━━━━━━━━━━━━\u001b[0m \u001b[32m141.1/141.1 kB\u001b[0m \u001b[31m1.9 MB/s\u001b[0m eta \u001b[36m0:00:00\u001b[0m\n",
            "\u001b[2K     \u001b[90m━━━━━━━━━━━━━━━━━━━━━━━━━━━━━━━━━━━━━━━━\u001b[0m \u001b[32m2.2/2.2 MB\u001b[0m \u001b[31m4.4 MB/s\u001b[0m eta \u001b[36m0:00:00\u001b[0m\n",
            "\u001b[2K     \u001b[90m━━━━━━━━━━━━━━━━━━━━━━━━━━━━━━━━━━━━━━━━\u001b[0m \u001b[32m49.2/49.2 kB\u001b[0m \u001b[31m3.0 MB/s\u001b[0m eta \u001b[36m0:00:00\u001b[0m\n",
            "\u001b[2K     \u001b[90m━━━━━━━━━━━━━━━━━━━━━━━━━━━━━━━━━━━━━━━━\u001b[0m \u001b[32m163.9/163.9 kB\u001b[0m \u001b[31m1.6 MB/s\u001b[0m eta \u001b[36m0:00:00\u001b[0m\n",
            "\u001b[2K     \u001b[90m━━━━━━━━━━━━━━━━━━━━━━━━━━━━━━━━━━━━━━━━\u001b[0m \u001b[32m718.3/718.3 kB\u001b[0m \u001b[31m8.0 MB/s\u001b[0m eta \u001b[36m0:00:00\u001b[0m\n",
            "\u001b[2K     \u001b[90m━━━━━━━━━━━━━━━━━━━━━━━━━━━━━━━━━━━━━━━━\u001b[0m \u001b[32m270.2/270.2 kB\u001b[0m \u001b[31m2.2 MB/s\u001b[0m eta \u001b[36m0:00:00\u001b[0m\n",
            "\u001b[2K     \u001b[90m━━━━━━━━━━━━━━━━━━━━━━━━━━━━━━━━━━━━━━━━\u001b[0m \u001b[32m290.4/290.4 kB\u001b[0m \u001b[31m1.7 MB/s\u001b[0m eta \u001b[36m0:00:00\u001b[0m\n",
            "\u001b[?25h"
          ]
        }
      ],
      "source": [
        "!pip install --upgrade langchain -q\n",
        "\n",
        "!pip install --upgrade langchain_community -q\n",
        "\n",
        "!pip install google-generativeai -q\n",
        "\n",
        "!pip install langchain_google_genai -q\n",
        "\n",
        "!pip install docarray -q\n",
        "\n",
        "!pip install pypdf -q"
      ]
    },
    {
      "cell_type": "code",
      "source": [
        "! pip install yt_dlp -q\n",
        "! pip install pydub -q"
      ],
      "metadata": {
        "colab": {
          "base_uri": "https://localhost:8080/"
        },
        "id": "m7AoC6RwrKVs",
        "outputId": "ddfed686-056c-4d6f-c849-0536c56b2c58"
      },
      "execution_count": 2,
      "outputs": [
        {
          "output_type": "stream",
          "name": "stdout",
          "text": [
            "\u001b[2K     \u001b[90m━━━━━━━━━━━━━━━━━━━━━━━━━━━━━━━━━━━━━━━━\u001b[0m \u001b[32m3.1/3.1 MB\u001b[0m \u001b[31m3.3 MB/s\u001b[0m eta \u001b[36m0:00:00\u001b[0m\n",
            "\u001b[2K     \u001b[90m━━━━━━━━━━━━━━━━━━━━━━━━━━━━━━━━━━━━━━━━\u001b[0m \u001b[32m3.0/3.0 MB\u001b[0m \u001b[31m811.3 kB/s\u001b[0m eta \u001b[36m0:00:00\u001b[0m\n",
            "\u001b[2K     \u001b[90m━━━━━━━━━━━━━━━━━━━━━━━━━━━━━━━━━━━━━━━━\u001b[0m \u001b[32m194.4/194.4 kB\u001b[0m \u001b[31m817.2 kB/s\u001b[0m eta \u001b[36m0:00:00\u001b[0m\n",
            "\u001b[2K     \u001b[90m━━━━━━━━━━━━━━━━━━━━━━━━━━━━━━━━━━━━━━━━\u001b[0m \u001b[32m2.1/2.1 MB\u001b[0m \u001b[31m983.8 kB/s\u001b[0m eta \u001b[36m0:00:00\u001b[0m\n",
            "\u001b[2K     \u001b[90m━━━━━━━━━━━━━━━━━━━━━━━━━━━━━━━━━━━━━━━━\u001b[0m \u001b[32m64.9/64.9 kB\u001b[0m \u001b[31m1.1 MB/s\u001b[0m eta \u001b[36m0:00:00\u001b[0m\n",
            "\u001b[2K     \u001b[90m━━━━━━━━━━━━━━━━━━━━━━━━━━━━━━━━━━━━━━━━\u001b[0m \u001b[32m130.2/130.2 kB\u001b[0m \u001b[31m981.8 kB/s\u001b[0m eta \u001b[36m0:00:00\u001b[0m\n",
            "\u001b[?25h\u001b[31mERROR: pip's dependency resolver does not currently take into account all the packages that are installed. This behaviour is the source of the following dependency conflicts.\n",
            "google-colab 1.0.0 requires requests==2.31.0, but you have requests 2.32.3 which is incompatible.\u001b[0m\u001b[31m\n",
            "\u001b[0m"
          ]
        }
      ]
    },
    {
      "cell_type": "code",
      "source": [
        "!pip install tiktoken -q"
      ],
      "metadata": {
        "colab": {
          "base_uri": "https://localhost:8080/"
        },
        "id": "JwQyh_WxdCuO",
        "outputId": "06b8f26d-e968-4d84-f186-c3f5b11703b8"
      },
      "execution_count": 3,
      "outputs": [
        {
          "output_type": "stream",
          "name": "stdout",
          "text": [
            "\u001b[2K     \u001b[90m━━━━━━━━━━━━━━━━━━━━━━━━━━━━━━━━━━━━━━━━\u001b[0m \u001b[32m1.1/1.1 MB\u001b[0m \u001b[31m4.7 MB/s\u001b[0m eta \u001b[36m0:00:00\u001b[0m\n",
            "\u001b[?25h"
          ]
        }
      ]
    },
    {
      "cell_type": "code",
      "source": [
        "!pip install chromadb -q"
      ],
      "metadata": {
        "colab": {
          "base_uri": "https://localhost:8080/"
        },
        "id": "i7gnLZCU27G4",
        "outputId": "5a45f39d-e63b-4a3e-bd39-3c3ffbeb3430"
      },
      "execution_count": 4,
      "outputs": [
        {
          "output_type": "stream",
          "name": "stdout",
          "text": [
            "\u001b[2K     \u001b[90m━━━━━━━━━━━━━━━━━━━━━━━━━━━━━━━━━━━━━━━━\u001b[0m \u001b[32m559.5/559.5 kB\u001b[0m \u001b[31m2.8 MB/s\u001b[0m eta \u001b[36m0:00:00\u001b[0m\n",
            "\u001b[2K     \u001b[90m━━━━━━━━━━━━━━━━━━━━━━━━━━━━━━━━━━━━━━━━\u001b[0m \u001b[32m2.4/2.4 MB\u001b[0m \u001b[31m20.2 MB/s\u001b[0m eta \u001b[36m0:00:00\u001b[0m\n",
            "\u001b[2K     \u001b[90m━━━━━━━━━━━━━━━━━━━━━━━━━━━━━━━━━━━━━━━━\u001b[0m \u001b[32m92.0/92.0 kB\u001b[0m \u001b[31m9.0 MB/s\u001b[0m eta \u001b[36m0:00:00\u001b[0m\n",
            "\u001b[2K     \u001b[90m━━━━━━━━━━━━━━━━━━━━━━━━━━━━━━━━━━━━━━━━\u001b[0m \u001b[32m62.4/62.4 kB\u001b[0m \u001b[31m3.9 MB/s\u001b[0m eta \u001b[36m0:00:00\u001b[0m\n",
            "\u001b[2K     \u001b[90m━━━━━━━━━━━━━━━━━━━━━━━━━━━━━━━━━━━━━━━━\u001b[0m \u001b[32m41.3/41.3 kB\u001b[0m \u001b[31m4.0 MB/s\u001b[0m eta \u001b[36m0:00:00\u001b[0m\n",
            "\u001b[2K     \u001b[90m━━━━━━━━━━━━━━━━━━━━━━━━━━━━━━━━━━━━━━━━\u001b[0m \u001b[32m6.8/6.8 MB\u001b[0m \u001b[31m32.8 MB/s\u001b[0m eta \u001b[36m0:00:00\u001b[0m\n",
            "\u001b[2K     \u001b[90m━━━━━━━━━━━━━━━━━━━━━━━━━━━━━━━━━━━━━━━━\u001b[0m \u001b[32m59.9/59.9 kB\u001b[0m \u001b[31m2.0 MB/s\u001b[0m eta \u001b[36m0:00:00\u001b[0m\n",
            "\u001b[2K     \u001b[90m━━━━━━━━━━━━━━━━━━━━━━━━━━━━━━━━━━━━━━━━\u001b[0m \u001b[32m107.0/107.0 kB\u001b[0m \u001b[31m11.1 MB/s\u001b[0m eta \u001b[36m0:00:00\u001b[0m\n",
            "\u001b[2K     \u001b[90m━━━━━━━━━━━━━━━━━━━━━━━━━━━━━━━━━━━━━━━━\u001b[0m \u001b[32m67.3/67.3 kB\u001b[0m \u001b[31m4.9 MB/s\u001b[0m eta \u001b[36m0:00:00\u001b[0m\n",
            "\u001b[?25h  Installing build dependencies ... \u001b[?25l\u001b[?25hdone\n",
            "  Getting requirements to build wheel ... \u001b[?25l\u001b[?25hdone\n",
            "  Preparing metadata (pyproject.toml) ... \u001b[?25l\u001b[?25hdone\n",
            "\u001b[2K     \u001b[90m━━━━━━━━━━━━━━━━━━━━━━━━━━━━━━━━━━━━━━━━\u001b[0m \u001b[32m283.7/283.7 kB\u001b[0m \u001b[31m26.3 MB/s\u001b[0m eta \u001b[36m0:00:00\u001b[0m\n",
            "\u001b[2K     \u001b[90m━━━━━━━━━━━━━━━━━━━━━━━━━━━━━━━━━━━━━━━━\u001b[0m \u001b[32m1.7/1.7 MB\u001b[0m \u001b[31m23.3 MB/s\u001b[0m eta \u001b[36m0:00:00\u001b[0m\n",
            "\u001b[2K     \u001b[90m━━━━━━━━━━━━━━━━━━━━━━━━━━━━━━━━━━━━━━━━\u001b[0m \u001b[32m67.6/67.6 kB\u001b[0m \u001b[31m7.7 MB/s\u001b[0m eta \u001b[36m0:00:00\u001b[0m\n",
            "\u001b[2K     \u001b[90m━━━━━━━━━━━━━━━━━━━━━━━━━━━━━━━━━━━━━━━━\u001b[0m \u001b[32m75.6/75.6 kB\u001b[0m \u001b[31m8.8 MB/s\u001b[0m eta \u001b[36m0:00:00\u001b[0m\n",
            "\u001b[2K     \u001b[90m━━━━━━━━━━━━━━━━━━━━━━━━━━━━━━━━━━━━━━━━\u001b[0m \u001b[32m71.9/71.9 kB\u001b[0m \u001b[31m7.8 MB/s\u001b[0m eta \u001b[36m0:00:00\u001b[0m\n",
            "\u001b[2K     \u001b[90m━━━━━━━━━━━━━━━━━━━━━━━━━━━━━━━━━━━━━━━━\u001b[0m \u001b[32m53.6/53.6 kB\u001b[0m \u001b[31m6.2 MB/s\u001b[0m eta \u001b[36m0:00:00\u001b[0m\n",
            "\u001b[2K     \u001b[90m━━━━━━━━━━━━━━━━━━━━━━━━━━━━━━━━━━━━━━━━\u001b[0m \u001b[32m77.9/77.9 kB\u001b[0m \u001b[31m8.2 MB/s\u001b[0m eta \u001b[36m0:00:00\u001b[0m\n",
            "\u001b[2K     \u001b[90m━━━━━━━━━━━━━━━━━━━━━━━━━━━━━━━━━━━━━━━━\u001b[0m \u001b[32m58.3/58.3 kB\u001b[0m \u001b[31m6.2 MB/s\u001b[0m eta \u001b[36m0:00:00\u001b[0m\n",
            "\u001b[2K     \u001b[90m━━━━━━━━━━━━━━━━━━━━━━━━━━━━━━━━━━━━━━━━\u001b[0m \u001b[32m46.0/46.0 kB\u001b[0m \u001b[31m5.4 MB/s\u001b[0m eta \u001b[36m0:00:00\u001b[0m\n",
            "\u001b[2K     \u001b[90m━━━━━━━━━━━━━━━━━━━━━━━━━━━━━━━━━━━━━━━━\u001b[0m \u001b[32m52.5/52.5 kB\u001b[0m \u001b[31m6.0 MB/s\u001b[0m eta \u001b[36m0:00:00\u001b[0m\n",
            "\u001b[2K     \u001b[90m━━━━━━━━━━━━━━━━━━━━━━━━━━━━━━━━━━━━━━━━\u001b[0m \u001b[32m130.5/130.5 kB\u001b[0m \u001b[31m10.2 MB/s\u001b[0m eta \u001b[36m0:00:00\u001b[0m\n",
            "\u001b[2K     \u001b[90m━━━━━━━━━━━━━━━━━━━━━━━━━━━━━━━━━━━━━━━━\u001b[0m \u001b[32m341.4/341.4 kB\u001b[0m \u001b[31m28.0 MB/s\u001b[0m eta \u001b[36m0:00:00\u001b[0m\n",
            "\u001b[2K     \u001b[90m━━━━━━━━━━━━━━━━━━━━━━━━━━━━━━━━━━━━━━━━\u001b[0m \u001b[32m3.4/3.4 MB\u001b[0m \u001b[31m45.3 MB/s\u001b[0m eta \u001b[36m0:00:00\u001b[0m\n",
            "\u001b[2K     \u001b[90m━━━━━━━━━━━━━━━━━━━━━━━━━━━━━━━━━━━━━━━━\u001b[0m \u001b[32m1.2/1.2 MB\u001b[0m \u001b[31m48.4 MB/s\u001b[0m eta \u001b[36m0:00:00\u001b[0m\n",
            "\u001b[2K     \u001b[90m━━━━━━━━━━━━━━━━━━━━━━━━━━━━━━━━━━━━━━━━\u001b[0m \u001b[32m307.7/307.7 kB\u001b[0m \u001b[31m26.2 MB/s\u001b[0m eta \u001b[36m0:00:00\u001b[0m\n",
            "\u001b[2K     \u001b[90m━━━━━━━━━━━━━━━━━━━━━━━━━━━━━━━━━━━━━━━━\u001b[0m \u001b[32m86.8/86.8 kB\u001b[0m \u001b[31m9.2 MB/s\u001b[0m eta \u001b[36m0:00:00\u001b[0m\n",
            "\u001b[?25h  Building wheel for pypika (pyproject.toml) ... \u001b[?25l\u001b[?25hdone\n"
          ]
        }
      ]
    },
    {
      "cell_type": "code",
      "source": [
        "import warnings\n",
        "warnings.filterwarnings('ignore')"
      ],
      "metadata": {
        "id": "2ZY1GMhaogeM"
      },
      "execution_count": 5,
      "outputs": []
    },
    {
      "cell_type": "code",
      "source": [
        "import os\n",
        "import sys\n",
        "sys.path.append('../..')\n",
        "import google.generativeai as genai\n"
      ],
      "metadata": {
        "id": "uACG9i7WmghK"
      },
      "execution_count": 6,
      "outputs": []
    },
    {
      "cell_type": "code",
      "source": [
        "from langchain_google_genai import ChatGoogleGenerativeAI\n",
        "from langchain.vectorstores import DocArrayInMemorySearch\n",
        "from IPython.display import display, Markdown\n",
        "from langchain.embeddings import GooglePalmEmbeddings\n",
        "from langchain.indexes import VectorstoreIndexCreator\n",
        "from langchain.chains import RetrievalQA\n",
        "from langchain.document_loaders import PyPDFLoader"
      ],
      "metadata": {
        "id": "6aY9CQsCmgiP"
      },
      "execution_count": 7,
      "outputs": []
    },
    {
      "cell_type": "code",
      "source": [
        "from langchain.document_loaders.generic import GenericLoader\n",
        "from langchain.document_loaders.parsers.audio import OpenAIWhisperParserLocal\n",
        "from langchain.document_loaders.blob_loaders.youtube_audio import YoutubeAudioLoader\n",
        "from langchain.document_loaders import WebBaseLoader\n",
        "\n",
        "from langchain.text_splitter import RecursiveCharacterTextSplitter, CharacterTextSplitter\n",
        "from langchain.text_splitter import TokenTextSplitter\n",
        "\n",
        "from langchain.vectorstores import Chroma"
      ],
      "metadata": {
        "colab": {
          "base_uri": "https://localhost:8080/"
        },
        "id": "k2PJ8a10rdUt",
        "outputId": "304a78ee-6fb6-4ae0-d2f2-3d4de03bf050"
      },
      "execution_count": 8,
      "outputs": [
        {
          "output_type": "stream",
          "name": "stderr",
          "text": [
            "WARNING:langchain_community.utils.user_agent:USER_AGENT environment variable not set, consider setting it to identify your requests.\n"
          ]
        }
      ]
    },
    {
      "cell_type": "markdown",
      "source": [
        "Por padrão o LangChain utiliza OpenAIWhisperParser, que acessa o modelo de transcrição de áudio da OpenAI via uma API, havendo a necessidade de, portanto, informar a chave para utilizá-lo. Como não estou utilizando esse modelo, precisei utilizar um outro, para conseguir realizar a transcrição de áudio.\n",
        "\n",
        "Nesse sentido, importei um modelo presente no HuggingFace que é capaz de realizar a transcrição de 14 idiomas. Porém, para utilizá-lo junto do GenericLoader em ordem de transcrever e carregar o arquivo transcrito, para poder ser consultado e afins, tive que colocar o modelo de whisper importado dentro de um parseador, que aqui é o OpenAIWhisperParserLocal. Ao invés dele requisitar o modelo da OpenAI via API, utiliza do modelo importado localmente."
      ],
      "metadata": {
        "id": "PckiVp6k9p_A"
      }
    },
    {
      "cell_type": "code",
      "source": [
        "# Para importar um modelo de whisper, capaz de transcrever áudio em texto.\n",
        "\n",
        "from transformers import pipeline"
      ],
      "metadata": {
        "id": "nfYD2D0cwh3m"
      },
      "execution_count": 9,
      "outputs": []
    },
    {
      "cell_type": "markdown",
      "source": [
        "## Configurando variáveis de ambiente"
      ],
      "metadata": {
        "id": "Oo227y472Qbk"
      }
    },
    {
      "cell_type": "code",
      "source": [
        "\n",
        "os.environ['GOOGLE_API_KEY'] = 'sua-api-key'\n",
        "\n",
        "genai.configure(api_key=os.environ['GOOGLE_API_KEY'])"
      ],
      "metadata": {
        "id": "ChxZUHpx2OJb"
      },
      "execution_count": 10,
      "outputs": []
    },
    {
      "cell_type": "code",
      "source": [
        "# Instanciando o modelo de embedding do google :\n",
        "\n",
        "embeddings = GooglePalmEmbeddings()"
      ],
      "metadata": {
        "id": "vEJUuyLH2jVI"
      },
      "execution_count": 11,
      "outputs": []
    },
    {
      "cell_type": "code",
      "source": [
        "# Definindp a LLM de uso.\n",
        "\n",
        "llm = ChatGoogleGenerativeAI(\n",
        "    model = \"gemini-1.5-pro-latest\",\n",
        "    temperature = 0.5\n",
        ")"
      ],
      "metadata": {
        "id": "TcyIhLUNsHO8"
      },
      "execution_count": 12,
      "outputs": []
    },
    {
      "cell_type": "markdown",
      "source": [
        "## Carregando os documentos 💾\n",
        "\n",
        "Etapa na qual carrega-se os documentos e arquivos pertinentes que desejo informar à LLM em ordem dela me prover respostas a partir das minhas perguntas a eles relacionados."
      ],
      "metadata": {
        "id": "s-_8oyDimhIV"
      }
    },
    {
      "cell_type": "markdown",
      "source": [
        "### PDFs"
      ],
      "metadata": {
        "id": "a4Ygmuylq_jc"
      }
    },
    {
      "cell_type": "code",
      "source": [
        "loader = PyPDFLoader(\"https://see.stanford.edu/materials/aimlcs229/transcripts/MachineLearning-Lecture01.pdf\")\n",
        "pages = loader.load()"
      ],
      "metadata": {
        "id": "vFJ2SGCfmSWF"
      },
      "execution_count": 13,
      "outputs": []
    },
    {
      "cell_type": "code",
      "source": [
        "# Visualizando o número de páginas.\n",
        "\n",
        "len(pages)"
      ],
      "metadata": {
        "colab": {
          "base_uri": "https://localhost:8080/"
        },
        "id": "7UwqPj1Op3Ng",
        "outputId": "aef99683-a203-4c7f-8cd5-5ce06ab728cf"
      },
      "execution_count": 14,
      "outputs": [
        {
          "output_type": "execute_result",
          "data": {
            "text/plain": [
              "22"
            ]
          },
          "metadata": {},
          "execution_count": 14
        }
      ]
    },
    {
      "cell_type": "code",
      "source": [
        "# Visualizando uma página de escolha.\n",
        "\n",
        "pages[0].page_content"
      ],
      "metadata": {
        "colab": {
          "base_uri": "https://localhost:8080/",
          "height": 123
        },
        "id": "HmPXpXh-qPuw",
        "outputId": "2f3f9c61-0f4c-4458-ae3c-75b3e3e7841b"
      },
      "execution_count": 16,
      "outputs": [
        {
          "output_type": "execute_result",
          "data": {
            "text/plain": [
              "'MachineLearning-Lecture01  \\nInstructor (Andrew Ng):  Okay. Good morning. Welcome to CS229, the machine \\nlearning class. So what I wanna do today is ju st spend a little time going over the logistics \\nof the class, and then we\\'ll start to  talk a bit about machine learning.  \\nBy way of introduction, my name\\'s  Andrew Ng and I\\'ll be instru ctor for this class. And so \\nI personally work in machine learning, and I\\' ve worked on it for about 15 years now, and \\nI actually think that machine learning is th e most exciting field of all the computer \\nsciences. So I\\'m actually always excited about  teaching this class. Sometimes I actually \\nthink that machine learning is not only the most exciting thin g in computer science, but \\nthe most exciting thing in all of human e ndeavor, so maybe a little bias there.  \\nI also want to introduce the TAs, who are all graduate students doing research in or \\nrelated to the machine learni ng and all aspects of machin e learning. Paul Baumstarck \\nworks in machine learning and computer vision.  Catie Chang is actually a neuroscientist \\nwho applies machine learning algorithms to try to understand the human brain. Tom Do \\nis another PhD student, works in computa tional biology and in sort of the basic \\nfundamentals of human learning. Zico Kolter is  the head TA — he\\'s head TA two years \\nin a row now — works in machine learning a nd applies them to a bunch of robots. And \\nDaniel Ramage is — I guess he\\'s not here  — Daniel applies l earning algorithms to \\nproblems in natural language processing.  \\nSo you\\'ll get to know the TAs and me much be tter throughout this quarter, but just from \\nthe sorts of things the TA\\'s do, I hope you can  already tell that machine learning is a \\nhighly interdisciplinary topic in which just the TAs find l earning algorithms to problems \\nin computer vision and biology and robots a nd language. And machine learning is one of \\nthose things that has and is having a large impact on many applications.  \\nSo just in my own daily work, I actually frequently end up talking to people like \\nhelicopter pilots to biologists to people in  computer systems or databases to economists \\nand sort of also an unending stream of  people from industry coming to Stanford \\ninterested in applying machine learni ng methods to their own problems.  \\nSo yeah, this is fun. A couple of weeks ago, a student actually forwar ded to me an article \\nin \"Computer World\" about the 12 IT skills th at employers can\\'t say no to. So it\\'s about \\nsort of the 12 most desirabl e skills in all of IT and all of information technology, and \\ntopping the list was actually machine lear ning. So I think this is a good time to be \\nlearning this stuff and learning algorithms and having a large impact on many segments \\nof science and industry.  \\nI\\'m actually curious about something. Learni ng algorithms is one of the things that \\ntouches many areas of science and industrie s, and I\\'m just kind of curious. How many \\npeople here are computer science majors, are in the computer science department? Okay. \\nAbout half of you. How many people are from  EE? Oh, okay, maybe about a fifth. How '"
            ],
            "application/vnd.google.colaboratory.intrinsic+json": {
              "type": "string"
            }
          },
          "metadata": {},
          "execution_count": 16
        }
      ]
    },
    {
      "cell_type": "code",
      "source": [
        "# Verificando a fonte do arquivo.\n",
        "\n",
        "pages[0].metadata"
      ],
      "metadata": {
        "colab": {
          "base_uri": "https://localhost:8080/"
        },
        "id": "Hvrmbz3GqksG",
        "outputId": "2de81825-e530-469b-c0db-02ee3c6373eb"
      },
      "execution_count": 17,
      "outputs": [
        {
          "output_type": "execute_result",
          "data": {
            "text/plain": [
              "{'source': 'https://see.stanford.edu/materials/aimlcs229/transcripts/MachineLearning-Lecture01.pdf',\n",
              " 'page': 0}"
            ]
          },
          "metadata": {},
          "execution_count": 17
        }
      ]
    },
    {
      "cell_type": "markdown",
      "source": [
        "### Youtube"
      ],
      "metadata": {
        "id": "WJW__obqrE3d"
      }
    },
    {
      "cell_type": "code",
      "source": [
        "whisper_model = \"openai/whisper-small\""
      ],
      "metadata": {
        "id": "4hQoW6hHq1nw"
      },
      "execution_count": 45,
      "outputs": []
    },
    {
      "cell_type": "code",
      "source": [
        "url = \"https://www.youtube.com/watch?v=mo3aZFpM-wc\"\n",
        "\n",
        "save_dir = \"docs/youtube/\"\n",
        "\n",
        "loader = GenericLoader(\n",
        "    YoutubeAudioLoader([url], save_dir),\n",
        "    OpenAIWhisperParserLocal(whisper_model)\n",
        ")"
      ],
      "metadata": {
        "colab": {
          "base_uri": "https://localhost:8080/",
          "height": 404,
          "referenced_widgets": [
            "66e36c1fc0ce4610865d5f2516a58342",
            "f66066c6a23a472992041fc2a5635a7f",
            "ad774ac597ff44edaf487114910801b9",
            "d2c108790fa1488d90694a7c25b59ac8",
            "4b993e5820c746f88054862da7099666",
            "d94fd23fe9af4aa380f256b96bdf4fdb",
            "59b8a6eb873346069799f76bb947aa42",
            "d9ed3530ff374add8740ff3f84b1baec",
            "175701581f01457792eb2a448edb5089",
            "afa31c568ed3429b919d3dbf22ecbc6e",
            "8c1ad524791e4f4494227d717923cc22",
            "2a19ae1540b2407ba2a25f0d7efd6fb5",
            "506d12f749a84721b2f9c2e77e00d8b5",
            "e7c3bbefb3e044949c2b127fe611729f",
            "d9bbe421ad114229abcc3000c1f9bdfe",
            "2a7868cf39c54542a6668b01586853a8",
            "0b6482ec7e9b4ef09a00364440b54e3a",
            "afae012aee404f99bea658cf6e2c38f1",
            "2eb97dfd08334b98ad9e4962af9115c3",
            "6813fcfff45f433e9101df105d3b0676",
            "268afd8aca6b435581ea21f73c89e1e0",
            "245742df95cc4938bd97a65717819939",
            "9e4f47184a5e4ec3b25faa9ef4ce4166",
            "77150aaab1304ee7980a460fc061c84d",
            "157a956185b0485399073b9a677af5fd",
            "cefa3092a2334d21be940c57ec3a1b60",
            "2e82a358ae9e4c49a5714c0bf29ef1ea",
            "ac8d0898bbd64f6e8d65b62b2010e897",
            "5570ee0218794a72ad25f40a290e5dc5",
            "53b178b2fa2b48f2a5d5ec57f8b467b6",
            "1e0d2601a4b442c19732fd1430ae6e4b",
            "bb8432eebe144ef5885bffb5eb73b088",
            "cc3a2e58061b43adb72ab6c72198b3bc",
            "15427e9e8b6344f78d83f0b5de118280",
            "00113ff7759c4589bc386bc3297d429f",
            "9535538d2f34426f97e420fdca6a92dc",
            "86c2fedfdc0648fab56223273100bed8",
            "5f26f8abad634707a8a9638fd8765d74",
            "6a3111e8b70b469781a1a72f1c0b8a5c",
            "8ff02acc084241499b9b299de600d3cc",
            "940d6684a94e4df69159842ac8c12c5a",
            "15373325274c4bff8fe3ad5ff6d6b044",
            "93789761655246f693654e20063cd647",
            "1969fc61d72f49e8b4b5d0f87ede6491",
            "56602e60895d4affad5a65948494f1e4",
            "b46be900545c45649fe2f8a6d0b10451",
            "c08e889aceae4f6f9f1e23a6ac64e329",
            "d239107bf9c04a9b820bde0e3b403f4e",
            "e6e4454db1c7427c9d1d49d5c8ae1c8b",
            "b4ac33e098fa465db087b6dd0b7083aa",
            "2a0125ce9ef847189a8c8259c01370a5",
            "97ee3ce0e6c7421ca59090dc3a623319",
            "bf8aa662a7224d85b8748c2c06fca987",
            "221d5c6343d244cd94c35e34a188f1ca",
            "9fde4a20a7be40a7844eea61560bc9db",
            "cc172d6a809b44a8a50a23e88d4b9211",
            "3ff21f7dea5b445f98ecb1f955697c4f",
            "200e3b7775c64a7098bd8d498c3ddc2d",
            "3bb07ec895a04ac6b2424e9821af74b7",
            "edb78b8b8201418eb302afb5f639cf88",
            "ce97cf20d25a4e278e7204866a629d97",
            "382014134a44416d936fb228024f7e78",
            "17fffe0fac3643d2935ba71b411d3f46",
            "3b1266e19d604f4cb4218d793376bbe5",
            "936b8829d91d461ab104a1576c44b4e8",
            "b3134a477b2d495791fa5689cf4ddd89",
            "3632e260ba89449da8386bd91bebd8f8",
            "550ddfae89fa4ad0b8c6388c16a25444",
            "310a9ef6061146eca4c1cf33e30c6f81",
            "426dd6bc4fcc4202a6f7a30b7b205fe4",
            "f30cdec8a194477a9fa73454e731a39f",
            "0815ff589ffd4e5d911b48725d36d743",
            "9179e966efbc41109bc1403929c92ff7",
            "75cac26592e847c1b039fbc91c6749da",
            "ee9fb53892cb49cf9db497f7d1c1f06f",
            "167f0c931b02488780b9e6e87e9c7181",
            "e0fdfb364aed4e2f9b458dd6b9dfe411",
            "2489c36a4a7f4111b07428daec339320",
            "fd9ca735e6984a38b0268c95c92f7597",
            "5d9eff41b744487dac663f20797ce4b3",
            "d11b5cafcd90438db1d8741ecf276753",
            "46bc10ae0da34ca4b1d738b6b13149cc",
            "c8025d26de4f4249bcb1080b3d1daf83",
            "b224e681bab244e69b25b9a390acd551",
            "87e86d2cf9a64ba6bc35e024bb51de10",
            "6455cf29a3fe4703ba3936d40f4e61d4",
            "b9ea10c7b241421c83f97a72ed41f457",
            "ffd4f2a709f049b8bb0e87a368fd5a05",
            "a65551b6dc154e89be38f045488ecff4",
            "7185357a5850428c8c719610474478ab",
            "591420e58e744b0898cb5e702267dc0d",
            "ac862415e2754d8d8b42b20dac5c8d27",
            "16b611bdc2eb415eb794084688da97a3",
            "1b54a0fdb2a74927803d83e56d38436c",
            "1ceb4baa1ac745e8920ec1315981d8dd",
            "20404472f62d49bbbd65137d44527243",
            "4ba9c2015df9425da61bed991ea9182e",
            "f87009b3ecd24c619b08f62f9512ec32",
            "23c9bee9b2794f0fbd169735f8dd05ba",
            "e7040f8377fa43889ab4ee21322b5568",
            "d1f091cad94a44a692a199919b80a536",
            "4359ca8c076b462793c509af9fb07a40",
            "926a8f8ad5e64e1486e0721bbea82fe4",
            "77d9d18026df47c08cffa839f46332bd",
            "2ff9b4c148e44e269e1d48137fd28e8d",
            "47ff18181b5d433b8bec5d3c5ba650a3",
            "13b36eaf673c40cc98630864d1d7ede4",
            "083c4b3b812343b7868918f8be624c14",
            "f98e3d6b80b1462496e1c81787f7a1e4",
            "2a3d7a88f9f64dc7a0a80367bbde3cfa",
            "a6494f915828494d8bb2f2af5a37cd0f",
            "5bfa288c2f614abaa987c12a642d1cce",
            "6567d9e72b5248f0b9c7ee7ec8366c20",
            "8148e6676d8041a09a23a9483cf6650d",
            "0c01ef7f26c94a1190057246a5a1541f",
            "f441112ebafa4458b108932bb4a89da5",
            "009ca642ddd94db9b2538bb48158a76b",
            "9847feaf365949f3b31ed32a464fb2de",
            "d4a26a95906247a583a08d9857acdd21",
            "99fd27e91dd544fb9c7ca8441b374179",
            "a927f796f5aa4de88ee505ed79eec98b"
          ]
        },
        "id": "6R5mTwTQxEHo",
        "outputId": "8e89c2ab-9443-4172-b1df-9fb557bd52ac"
      },
      "execution_count": 46,
      "outputs": [
        {
          "output_type": "stream",
          "name": "stdout",
          "text": [
            "Using the following model:  openai/whisper-base\n"
          ]
        },
        {
          "output_type": "display_data",
          "data": {
            "text/plain": [
              "config.json:   0%|          | 0.00/1.98k [00:00<?, ?B/s]"
            ],
            "application/vnd.jupyter.widget-view+json": {
              "version_major": 2,
              "version_minor": 0,
              "model_id": "66e36c1fc0ce4610865d5f2516a58342"
            }
          },
          "metadata": {}
        },
        {
          "output_type": "display_data",
          "data": {
            "text/plain": [
              "model.safetensors:   0%|          | 0.00/290M [00:00<?, ?B/s]"
            ],
            "application/vnd.jupyter.widget-view+json": {
              "version_major": 2,
              "version_minor": 0,
              "model_id": "2a19ae1540b2407ba2a25f0d7efd6fb5"
            }
          },
          "metadata": {}
        },
        {
          "output_type": "display_data",
          "data": {
            "text/plain": [
              "generation_config.json:   0%|          | 0.00/3.81k [00:00<?, ?B/s]"
            ],
            "application/vnd.jupyter.widget-view+json": {
              "version_major": 2,
              "version_minor": 0,
              "model_id": "9e4f47184a5e4ec3b25faa9ef4ce4166"
            }
          },
          "metadata": {}
        },
        {
          "output_type": "display_data",
          "data": {
            "text/plain": [
              "tokenizer_config.json:   0%|          | 0.00/283k [00:00<?, ?B/s]"
            ],
            "application/vnd.jupyter.widget-view+json": {
              "version_major": 2,
              "version_minor": 0,
              "model_id": "15427e9e8b6344f78d83f0b5de118280"
            }
          },
          "metadata": {}
        },
        {
          "output_type": "display_data",
          "data": {
            "text/plain": [
              "vocab.json:   0%|          | 0.00/836k [00:00<?, ?B/s]"
            ],
            "application/vnd.jupyter.widget-view+json": {
              "version_major": 2,
              "version_minor": 0,
              "model_id": "56602e60895d4affad5a65948494f1e4"
            }
          },
          "metadata": {}
        },
        {
          "output_type": "display_data",
          "data": {
            "text/plain": [
              "tokenizer.json:   0%|          | 0.00/2.48M [00:00<?, ?B/s]"
            ],
            "application/vnd.jupyter.widget-view+json": {
              "version_major": 2,
              "version_minor": 0,
              "model_id": "cc172d6a809b44a8a50a23e88d4b9211"
            }
          },
          "metadata": {}
        },
        {
          "output_type": "display_data",
          "data": {
            "text/plain": [
              "merges.txt:   0%|          | 0.00/494k [00:00<?, ?B/s]"
            ],
            "application/vnd.jupyter.widget-view+json": {
              "version_major": 2,
              "version_minor": 0,
              "model_id": "3632e260ba89449da8386bd91bebd8f8"
            }
          },
          "metadata": {}
        },
        {
          "output_type": "display_data",
          "data": {
            "text/plain": [
              "normalizer.json:   0%|          | 0.00/52.7k [00:00<?, ?B/s]"
            ],
            "application/vnd.jupyter.widget-view+json": {
              "version_major": 2,
              "version_minor": 0,
              "model_id": "2489c36a4a7f4111b07428daec339320"
            }
          },
          "metadata": {}
        },
        {
          "output_type": "display_data",
          "data": {
            "text/plain": [
              "added_tokens.json:   0%|          | 0.00/34.6k [00:00<?, ?B/s]"
            ],
            "application/vnd.jupyter.widget-view+json": {
              "version_major": 2,
              "version_minor": 0,
              "model_id": "a65551b6dc154e89be38f045488ecff4"
            }
          },
          "metadata": {}
        },
        {
          "output_type": "display_data",
          "data": {
            "text/plain": [
              "special_tokens_map.json:   0%|          | 0.00/2.19k [00:00<?, ?B/s]"
            ],
            "application/vnd.jupyter.widget-view+json": {
              "version_major": 2,
              "version_minor": 0,
              "model_id": "e7040f8377fa43889ab4ee21322b5568"
            }
          },
          "metadata": {}
        },
        {
          "output_type": "stream",
          "name": "stderr",
          "text": [
            "Special tokens have been added in the vocabulary, make sure the associated word embeddings are fine-tuned or trained.\n"
          ]
        },
        {
          "output_type": "display_data",
          "data": {
            "text/plain": [
              "preprocessor_config.json:   0%|          | 0.00/185k [00:00<?, ?B/s]"
            ],
            "application/vnd.jupyter.widget-view+json": {
              "version_major": 2,
              "version_minor": 0,
              "model_id": "a6494f915828494d8bb2f2af5a37cd0f"
            }
          },
          "metadata": {}
        }
      ]
    },
    {
      "cell_type": "code",
      "source": [
        "audio_doc = loader.load()"
      ],
      "metadata": {
        "colab": {
          "base_uri": "https://localhost:8080/"
        },
        "id": "9nwVpG6azgZQ",
        "outputId": "1a2d2172-56e5-4801-93ba-79fdbce7ecd3"
      },
      "execution_count": 47,
      "outputs": [
        {
          "output_type": "stream",
          "name": "stdout",
          "text": [
            "[youtube] Extracting URL: https://www.youtube.com/watch?v=mo3aZFpM-wc\n",
            "[youtube] mo3aZFpM-wc: Downloading webpage\n",
            "[youtube] mo3aZFpM-wc: Downloading ios player API JSON\n",
            "[youtube] mo3aZFpM-wc: Downloading m3u8 information\n",
            "[info] mo3aZFpM-wc: Downloading 1 format(s): 140\n",
            "[download] docs/youtube//Quanto falta para conseguirmos ler pensamentos, segundo Ciência.m4a has already been downloaded\n",
            "[download] 100% of    6.61MiB\n",
            "[ExtractAudio] Not converting audio docs/youtube//Quanto falta para conseguirmos ler pensamentos, segundo Ciência.m4a; file is already in target format m4a\n",
            "Transcribing part docs/youtube/Quanto falta para conseguirmos ler pensamentos, segundo Ciência.m4a!\n"
          ]
        },
        {
          "output_type": "stream",
          "name": "stderr",
          "text": [
            "Due to a bug fix in https://github.com/huggingface/transformers/pull/28687 transcription using a multilingual Whisper will default to language detection followed by transcription instead of translation to English.This might be a breaking change for your use case. If you want to instead always translate your audio to English, make sure to pass `language='en'`.\n"
          ]
        }
      ]
    },
    {
      "cell_type": "code",
      "source": [
        "# Visualizando o texto transcrito.\n",
        "\n",
        "audio_doc"
      ],
      "metadata": {
        "colab": {
          "base_uri": "https://localhost:8080/"
        },
        "id": "mtJeUD1i1Rtg",
        "outputId": "f0c21c01-15a2-4216-8049-38b046afb564"
      },
      "execution_count": 53,
      "outputs": [
        {
          "output_type": "execute_result",
          "data": {
            "text/plain": [
              "[Document(page_content=' BBC, Lei. publicado pela BBC News Brasil em 21 de fevereiro de 2024. Lido por Thomas Papo. Em 29 de janeiro, Elon Musk postou em sua rede social, X, antigo Twitter, sobre o sucesso da primeira intervenção cirúrgica para emplante de um dispositivo desenvolvido por sua startup Neura Link em um humano. O nome do dispositivo Telepathy. Na comunidade científica, estávamos atentos aos trabalhos da equipe de Elon Musk desde que em setembro de 2023, a Full-Den Drug Administration, FDA, agência sanitária dos Estados Unidos, confirmou que o dispositivo poderia ser implantado em humanos. Após a aprovação da FDA, a NERA Link implantou o telepathy em uma pessoa escolhida entre um grupo de voluntários com tetraplegia e escleros e lateral amiotrófica. De início, podemos dizer que o implant foi um sucesso, mas para conhecer os resultados será necessário acompanhar de perto um estudo que promete ser longo. O que a equipe de mask conseguiu é bem revolucionário do ponto de vista tecnológico. O telepathy carrega uma bateria que é recarregada externamente e dispõe de 1.024 eletrodos distribuídos em 64 fios que transmiten, de forma wireless, as medidas da atividade cerebral. O fato de ter sido aprovado pela FDA indosta o rigor com que foi produzido. Espera-se que o telepathy consiga medir os sinais cerebrais relacionados ao movimento em pessoas com mobilidade reduzida e que os sinais sirvam para comandar o movimento de uma próteza é o que se conhece como interface cérebro máquina, mas isso não é telepatia, verdadeiramente revolucionário seria, se o dispositivo da Neuralinque reconhecesse a atividade neuronal que o pensamento gera. E isso provavelmente nunca será alcançado. Qual é o desafio que enfrentamos quando tentamos medir sinais do cérebro? O desafio é escuridão em que observador se encontra depois que um neurônio é ativado. Isso não acontece com outros tipos de células, como por exemplo uma célula muscular do coração, um miócito. Para medir a atividade elétrica, de um neurônio e de um miócito, utiliza-se a mesma tecnologia. Mas quando um miócito dispara, o observador pode relacionar diretamente o sinal elétrico com a contração da célula muscular. E assim entende o efeito da contração, pois observa que a contração de todos os miócitos do coração fazem com que o sangue circule pelo corpo. Isso não acontece quando observamos o disparo de um neurônio. Nesse caso, o observador não verifica nenhuma mudança significativa porque o pensamento gerado não é visível, o disparo do neurônio se perde na escuridão. Já existem dispositivos que são implantados dentro ou muito próximo ao cérebro e que interagem com ele. Um exemplo são os implantes cocliares, dispositivos com estimuladores localizados na coclia estrutura do ouvido interno. Eles são usados por pessoas que não têm as células responsáveis por transformar os sinais acústicos que chegam no exterior nos sinais elétricos que reconhecemos como sons. O implante recorre a pequenos microfones localizados na orélia e envia os sons recolhidos para eletrodos espalhados ao longo da cócla. Aí estamos agindo muito perto do cérebro, chegando ao nervo auditivo. Outro dispositivo que atua dessa vez se endentro do cérebro e que também está devidamente aprovado é o estimulador cerebral profundo. Ele começou a ser usado para tratar o Parkinson e, mais tarde, teve seu uso expandido para outras patologias como a obesidade mórbida ou a depressão. Com esses dispositivos atuam-se em núcleos profundos do cérebro, mesmo que não saibamos ao certo como o órgão funciona. O dispositivo usado para controlar os distúrbios motores na doença de Parkinson e não para curar a doença, por exemplo, foi desenvolvido sabendo que era melhor inutilizar um grupo de neurônios do que deixá-los como estão. Esse dispositivo permitiu que, em vez de praticar uma ablação, isso é queimar as células, os neurônios foram inutilizados através da aplicação constante de pulsos elétricos que os bloqueassem, e é possível reverter o efeito ao parálogo dispositivo. No entanto, o trabalho para entender em profundidade as conexões entre os diferentes núcleos relacionados ao movimento e descobrir por que um estimulador cerebral profundo funciona continua. Nesse momento, estamos longe de medir o pensamento, as intenções, as memórias ou os desejos. Com esse tipo de dispositivo, não podemos saber o que as pessoas estão pensando. Mesmo com dispositivos já muito reconhecidos como os estimuladores profundos não há clareza sobre por que funcionam, não como funcionam e qual é feito tem. As controversias societadas pelo implante do chip de Elon Musk são comprensíveis. O funcionamento do cérebro nos intriga. Parece que o seu sistema é um sistema de forma que se for para o seu sistema, a Não precisamos nos preocupar que possam ler nossa mente ou influenciar nosso pensamento. Será que será possível relacionar a atividade neuronal com os nossos pensamentos? Tudo indica que haverá progresso na interação com as máquinas, mas não será baseado na relação entre atividade neuronal e o pensamento. Entre outras coisas, porque nem sequer temos muito claro o que é pensar. Será que o pensamento escapa a física e não é possível medir-lo? Você ouvi o artigo? Quanto falta para conseguirmos ler pensamentos? Segundo a ciência, do site The Conversation, publicado pela BBC News Brasil em 21 de fevereiro de 2024.', metadata={'source': 'docs/youtube/Quanto falta para conseguirmos ler pensamentos, segundo Ciência.m4a'})]"
            ]
          },
          "metadata": {},
          "execution_count": 53
        }
      ]
    },
    {
      "cell_type": "markdown",
      "source": [
        "### URLs"
      ],
      "metadata": {
        "id": "67LKDPOV-8jK"
      }
    },
    {
      "cell_type": "code",
      "source": [
        "web_loader = WebBaseLoader(\"https://medium.com/@brunoloducca15/agents-um-novo-paradigma-em-ia-65772dc48ff4\")"
      ],
      "metadata": {
        "id": "S3Xaeu4L9SHZ"
      },
      "execution_count": 55,
      "outputs": []
    },
    {
      "cell_type": "code",
      "source": [
        "web_doc = web_loader.load()"
      ],
      "metadata": {
        "id": "BmkJiYr5_V66"
      },
      "execution_count": 56,
      "outputs": []
    },
    {
      "cell_type": "code",
      "source": [
        "# Visualizando o conteúdo carregado da página.\n",
        "\n",
        "web_doc[0].page_content"
      ],
      "metadata": {
        "colab": {
          "base_uri": "https://localhost:8080/",
          "height": 123
        },
        "id": "upds4TJp_YtY",
        "outputId": "6318ad95-1802-4a9c-9860-af71a741fcfb"
      },
      "execution_count": 60,
      "outputs": [
        {
          "output_type": "execute_result",
          "data": {
            "text/plain": [
              "'Agents, um novo paradigma em IA.. Desde cedo quando tive contato com… | by Bruno Loducca | Jun, 2024 | MediumOpen in appSign upSign inWriteSign upSign inAgents, um novo paradigma em IA.Bruno Loducca·Follow14 min read·Jun 23, 2024--ShareDesde cedo quando tive contato com robôs em minha infância fiquei maravilhado com essa criação humana. Autômatos digitais que poderiam desempenhar atividades quaisquer em prol da vida humana para prover a ela melhor qualidade de vida, mas ao mesmo tempo nos interpelar, do ponto de vista filosófico, sobre o que pode ser considerado vida (a despeito da definição biológica).Ao longo do tempo, o meu fascínio foi ganhando mais dimensionalidade, ao perceber que na criação desses robôs existia um universo complexo que se colocava entre a concepção da ideia e sua materialização, para a qual, dentre outros âmbitos, passava pelo uso e criação da inteligência artificial (IA), responsável por prover a eles o aprendizado necessário para resolução de tarefas, percepção do mundo externo e etc.À medida que compreendia melhor sobre esse universo, pude ver que a IA não se restringia apenas ao uso em robôs que então permeava a minha mente, mas que também atravessava um vasto campo de atuação, circunscrita ao âmbito da ciência da computação conhecido como machine learning (aprendizado de máquina), por meio do qual desenvolvia-se algoritmos capazes de prover às máquinas aprendizado a partir dos fenômenos do meio, que genericamente podemos chamar de dados.Desse modo, percebi que poderia definir como IA um algoritmo, convencionalmente chamado de modelo, que por exemplo conseguisse classificar uma imagem entre gato ou cachorro, ou que realizasse um agrupamento de clientes com base na proximidade de seu comportamento, ou que previsse os valores de uma casa, com base nos dados anteriores.Porém, ainda assim eu pensava comigo sobre o quão seria empolgante poder falar com IA’s que emulassem o comportamento humano, simulando ao menos em partes a sua cognição. O quão instigante não seria, de certa forma, perceber e interagir com uma forma de vida digital e as possibilidades criadas entorno disso ? Seria o filme Her possível ?Lembro-me de um dia, ainda no cursinho, conversando com uma colega sobre como seria divertido e interessante ter IA’s capazes de simular uma pessoa, com as quais poderíamos conversar e até pedir tarefas. Ela riu e disse: “Substituir pessoas por robôs ? Pessoas são vivas, robôs não.” Eu pensei: “Não é uma substituição, mas e as pessoas solitárias que não têm companhia ? Em vez da gélida e draconiana solidão, seria preferível um(a) amigo(a) digital.”Com essa magia e percepção de valor em mente, quando ingressei em engenharia da computação já sabia com o que gostaria de atuar : IA’s e se possível robôs. Porém, a atuação com ambos ainda parecia distante para mim (com exceção dos modelos mais clássicos de machine learning e redes neurais), até o lançamento público dos modelos Large Language Model (LLM), com várias ferramentas e possibilidades de aplicação em sequência, as quais fizeram o meu olho brilhar e meu espírito criativo se acender novamente para aquilo que outrora havia desejado e que hoje se precipita em forma de post sobre o tema : Agents, um novo paradigma em IA.Mas o que são Agents ?Segundo o atual Estado da Arte, pode-se compreender que os Agents são um tipo de IA capaz de performar em nome de seu usuário ou desenvolvedor a realização de tarefas e requisições por ele delegadas de forma autônoma, apresentando a percepção do ambiente no qual está inserido, capacidade de interagir com seus pares e raciocínio, permitindo-o refletir sobre o processo necessário para chegar a resolução do que a ele fora delegado e a fazer decisões.Nesse sentido, são IA’s projetadas para compreender o ambiente e entre si poder interagir, habilitando-os a realizar as tarefas demandadas de forma autônoma. Para isso, costumam utilizar modelos de LLM, que permitem a interação com humanos, além de se relacionarem com outros modelos generativos especializados e/ou ferramentas para a execução de suas atividades.A sua diferença fundamental em relação ao paradigma anterior de uso de IA’s é que apresentam um caráter mais ativo, sem exigir a presença de uma pessoa humana num processo iterativo para a realização das tarefas, divergindo-se também dos chatbots tradicionais destinados apenas interação com o usuário.Características dos AgentsComo características principais, os Agents apresentam a autonomia, aprendizado contínuo e capacidade de serem proativos e reativos.Autonomia : Uma vez sensibilizados para um objetivo, tanto por meio de inputs da pessoa humana quanto do ambiente ou de um outro Agent, passam a realizar processos que visam solucionar a tarefa requisitada.Aprendizado contínuo : Raramente os Agents fornecem como sua saída a primeira resposta que conseguiram, mas refletem, a partir das suas especificações anteriores informadas pelo desenvolvedor, sobre qual pode ser a melhor resposta.Nesse sentido, dado um erro ou entrave em seu processo, pode aprender por meio do meio ou junto de um outro Agent o passo necessário para prover à pessoa humana a melhor resposta possível.Capacidade de serem proativos e reativos : Refere-se a características dos Agents enquanto o seu caráter ativo no processo de resolução de tarefas. Dessa forma, por meio das informações obtidas do meio e de outros Agents, agem como forma de chegar ao seu objetivo.Criando um sistema de Agents na prática.Uma vez compreendido o que são os Agents, suas características e a sua natureza, como forma de fixação, irei trazer a implementação de projeto de estudo, no qual objetivo criar um artigo para blog sobre o tema: A inteligência artificial sob o ponto de vista filosófico.Para a sua elaboração, irei apenas informar ao meu sistema de Agents o tema e em qual idioma o artigo tem que estar escrito. Estou informando o idioma, pois para o projeto estou utilizando o framework da CrewAI, que à primeira vista, havendo testado algumas vezes, percebi que retorna as respostas em inglês por padrão, mesmo que os prompts que configuram o role playing dos Agents e as suas tarefas estejam numa outra língua qualquer.Para a construção do meu sistema de Agents, que a partir de agora passarei a chamar de Crew, estou utilizando a linguagem Python na versão 3.12 e o ambiente de desenvolvimento do Google Colab. Nesse sentido, para a sua criação num ambiente de desenvolvimento de sua preferência, pode ser útil instalar as bibliotecas pertinentes e afins, que serão mostradas nos códigos a seguir.1° — Importar as bibliotecas necessárias :Como estou utilizando a LLM do google para me prover a capacidade generativa para a criação dos Agents, estou instalando e importando as bibliotecas referentes ao gemini. Caso desejam utilizar outra LLM, recomendo pesquisar na internet, existem muitos conteúdos sobre.# Instalando o crewai, crewai_tools e o langchain. !pip install crewai==0.28.8 crewai_tools==0.1.6 langchain_community==0.0.29 -q# Instalando o google gemini!pip install crewai langchain_google_genai -q!pip install google-generativeai -q# Importando as bibliotecas que serão utilizadas. import warningswarnings.filterwarnings(\\'ignore\\')import google.generativeai as genaiimport osimport crewaiimport langchainfrom crewai import Agent, Task, Crewfrom langchain_google_genai import ChatGoogleGenerativeAIfrom crewai_tools import WebsiteSearchTool2° — Criando o modelo de LLM e definindo as variáveis de ambiente.A etapa da criação do modelo de LLM é fundamental para aqueles que não estão utilizando o modelo da OpenAI, uma vez que para os que o utilizam não há a necessidade de implementação explícita, pois por padrão o framework do CrewAI utiliza o ChatGPT, bastando carregar a sua API_KEY como variável de ambiente.# Armazenando a API_KEY como variável de ambiente. os.environ[\"GOOGLE_API_KEY\"] = \"sua_api_key\"# Linkando a chave para o acesso dos modelos generativos do google. genai.configure(api_key=os.environ[\\'GOOGLE_API_KEY\\'])# Criando o modelo de llm utilizado com o google gemini.llm = ChatGoogleGenerativeAI(    model = \"gemini-1.5-pro-latest\",    temperature = 0.8)3° — Criando os Agents.Como o projeto de debruça no objetivo de criar um artigo para blog acerca de um determinado tema, irei criar três agentes : planejador, escritor e editor.Importante se atentar para o modelo de prompt utilizado na criação dos Agents, que devem seguir as melhores práticas conhecidas segundo o Estado da Arte sobre, buscando fornecer à LLM prompts claros e elucidativos.Não obstante, pode-se observar que passo 3 parâmetros pelos quais a LLM tem de se basear para a criação do Agent, atrelados ao conceito chamado de role playing, por meio do qual constrói-se uma persona, vinculada a um objetivo e contexto.Trata-se de uma técnica de engenharia de prompt, que visa diminuir a entropia das respostas do modelo, uma vez que ele passa a performar suas respostas, com base no role playing (ou se preferir pré-set) do Agent criado.# Defini para os Agents um verbose = True, pois pretendo observar # o passo a passo de sua resolução da tarefa a ele passada. # O parâmetro allow_delegation = True, diz que eu estou permitindo # a um Agent que ele delegue tarefas aos outros Agents, se não conseguir # realizar a sua ou encontrar algo que possa servir a outro.# Como pode observar, informo a LLM criada como parâmetro aos Agents # em sua etapa de criação. # Planejador de conteúdo :planner = Agent(    role = \"Planejador de conteúdo\",    goal = \"Planeje o conteúdo envolvente e factualmente preciso sobre o {topico}\",    backstory = \"Você está trabalhando no planejamento de um artigo de blog sobre o tópico : {topico}.\"                \"Você precisa coletar informações que ajudam a audiência aprender algo e tomar decisões informadas.\"                \"O seu trabalho é fundamental, a base, para o Escritor de Conteúdo um artigo sobre esse tópico.\",    allow_delegation = True,    verbose = True,                llm = llm)# Escritor de conteúdo :writer = Agent(    role = \"Escritor de conteúdo\",    goal = \"Escreva um artigo perspicaz e factualmente acurado sobre o tópico : {topico}.\",    backstory = \"Você está trabalhando na escrita de um artigo sobre a sua acurada opinião sobre o tópico : {topico}.\"                \"Você irá basear a sua escrita no trabalho realizado pelo Planejador de Conteúdo, que forneceu um destacado e relevante contexto sobre o tópico.\"                \"Você precisa seguir os objetivos principais e direções destacadas pelo Planejador de Conteúdo.\"                \"Você também pode fornecer objetivos e ideias parciais sobre o topico, apoiando-se no que fora trazido pelo Planejador de Conteúdo.\"                \"Você reconhece em seu artigo quando as suas opiniões são apenas opiniões, em oposição às declarações objetivas.\"                \"Escreva o artigo no idioma {idioma}.\",    allow_delegation = False,    verbose = True,    llm = llm)# Editor do conteúdo :editor = Agent(    role = \"Editor\",    goal = \"Edite o artigo de blog, alinhando o estilo de escrita com a organização.\",    backstory = \"Você é um editor que recebeu um artigo de blog de um Escritor de Conteúdo.\"                \"Seu objetivo é rever o artigo de blog, buscando garantir as seguintes melhores práticas jornalísticas :\"                \"Prover pontos de vistas balanceadas, quando oferecer opiniões e afirmações.\"                \"Evitar grandes tópicos controvérsos ou opiniões quando possível.\",    allow_delegation = False,    verbose = True,    llm = llm)4° — Criando as ferramentas que serão utilizadas pelos AgentsAs ferramentas são elementos fundamentais que adicionam um novo paradigma aos Agents, frente ao o que anteriormente antes existia. Por meio delas, os Agents são capazes de interagir com o meio de forma autônoma, quer seja obtendo informação ou a gerando, como poderia ser o caso de existir um Agent que cria e publica posts no Instagram por exemplo.Para melhor compreensão, ver o link a seguir : https://docs.crewai.com/core-concepts/Tools/# Instanciando a ferramenta que permitirá # ao Agent realizar buscas na Internet.# Como por padrão a ferramenta utiliza-se da OpenAi, # tive que configurar seus parâmetros para poder utilizar# a LLM do google. search_tool = WebsiteSearchTool(    config = dict(        llm = dict(            provider = \"google\",             config = dict(                model = \"gemini-1.5-pro-latest\",                 temperature = 0.8                ),            ),      embedder = dict(          provider = \"google\",          config = dict(              model = \"models/embedding-001\",               task_type = \"retrieval_document\"               ),          ),        )    )5° — Criando as tarefas que os Agents precisarão realizarEtapa que se destina a definir as tarefas que deverão ser realizadas pelos Agents, seguindo as boas práticas da engenharia de prompt, visando atingir o melhor output. Nela também, informa-se as ferramentas necessárias para a sua resolução, bem como qual Agent a ela se associa.# Tarefa - planejarplan = Task(    description=(        \"1. Tenha como prioridade as últimas trends, palavras chaves e notícias importantes sobre o {topico}. \\\\n\"        \"2. Identifique a sua audiência alvo, considerando seus interesses e pontos de apelo.\"        \"3. Desenvolva um conteúdo detalhado, destacando os pontos principais para uma introdução e pontos chave.\"        \"4. Inclua SEO keywords e relevantes dados ou fontes, que podem servir de repertório à criação do artigo do blog.\"    ),    expected_output = \"Um compreensível documento de planejamento de conteúdo, com pontos de destaque, audiência, SEO keywords e fontes utilizadas.\",    tools = [search_tool],    agent = planner)# Tarefa - escreverwrite = Task(    description=(        \"1. Use o conteúdo planejado para criar um artigo de blog atrativo sobre o tópico {topico}. \\\\n\"        \"2. Incorpore SEO keywords naturalmente.\"        \"3. Crie Seções/Subtítulos que sejam nomeadas que sejam atrativos, buscando despertar o interesse no leitor.\"        \"4. Garanta que o artigo esteja estruturado com uma envolvente introdução, inpirador desenvolvimento e com uma conclusão sumarizada, que forneça uma síntese do que fora escrito.\"        \"5. Corrija erros gramáticos e alinhe os textos com o tom da marca.\"    ),    expected_output = \"Um artigo de blog bem escrito, em formato markdown, pronto para publicação, com cada seção tendo de 2 a 3 parágrafos.\",    agent = writer)# Tarefa - editaredit = Task(    description=(        \"Analise o artigo de blog obtido, revisando possíveis erros gramaticais ou ortográficos e os corrija.\"        \"Alinhe o texto com o tom de voz da marca\"),    expected_output = \"Um artigo de blog bem escrito, em formato markdown, pronto para publicação, com cada seção tendo de 2 a 3 parágrafos.\",    agent = editor)6° — Agrupando a Crew e “partindo em voo”Etapa na qual cria-se arquitetura dos Agents, através da qual eles irão se comunicar e gerar outputs, bem como passar os parâmetros que podem contribuir para o desempenho do grupo, como memory (memória).A memory permite que ao longo do processo da realização das tarefas os Agents guarde informação do que obtiveram, otimizando o processo de resolução. Ainda, ela pode ser compartilhada para toda a Crew, incrementando a otimização sob um ponto de vista global.# O valor 2 indica quae queremos ver a saída, em debug, completa # de cada etapa da sequência : # ( planner - plan ) -> ( writer - write ) -> ( editor - edit )crew = Crew(    agents = [planner, writer, editor],    tasks = [plan, write, edit],    verbose = 2,     memory = True,    embedder={            \"provider\": \"google\",            \"config\": {                \"model\": \"models/embedding-001\",                \"task_type\": \"retrieval_document\",                \"title\": \"Embeddings for Embedchain\"            }    })from IPython.display import Markdown# Formatando a saída em Markdown, para que seja mais atraente visualmente.Markdown(result)Resultado obtido :Mergulhando no Labirinto Filosófico da Inteligência ArtificialImagine um juiz de IA presidindo um tribunal, sua voz sintetizada pronunciando um veredito. Seria este o futuro da justiça, ou um cenário distópico onde máquinas decidem nossos destinos? A inteligência artificial, antes restrita à ficção científica, está rapidamente se entrelaçando com a realidade. De carros autônomos a diagnósticos médicos, a influência da IA é inegável. Este artigo mergulha nas profundezas filosóficas da IA, confrontando questões de consciência, dilemas éticos e a própria essência da inteligência na era das máquinas pensantes. Se você é um entusiasta de tecnologia ponderando sobre o futuro, um filósofo lutando com questões existenciais ou simplesmente sente curiosidade pela linha que divide o humano da máquina, esta exploração é para você.Podem as Máquinas Pensar? Desvendando o Enigma da Consciência na IAA busca por criar máquinas pensantes não é nova. Filósofos como Alan Turing, com seu teste inovador para inteligência de máquina, plantaram as primeiras sementes dessa busca. Mas a pergunta central persiste: podem as máquinas realmente pensar?O computacionalismo argumenta que a mente humana opera como um programa de computador complexo. Se assim for, poderia a IA sofisticada um dia alcançar a consciência? Por outro lado, as teorias da incorporação defendem que a consciência emerge da interação complexa entre nossos corpos físicos, o ambiente e nossas experiências. A IA, desprovida dessa incorporação física, pode realmente ser consciente?E mesmo que a IA imite perfeitamente o comportamento humano, podemos realmente afirmar que ela experimenta sentimentos subjetivos, emoções ou “qualia”? Este é o problema difícil da consciência, um mistério que ainda desafia a compreensão humana. Ao analisarmos os sistemas de IA contemporâneos, questionamos se eles exibem algum indício de consciência e apresentamos diferentes perspectivas de especialistas sobre este debate acalorado.A Encruzilhada Ética: Navegando na Paisagem Moral da IAA IA, embora aparentemente objetiva, pode herdar e amplificar os vieses presentes nos dados que a treinam. Isso pode levar a resultados injustos ou discriminatórios, particularmente em áreas como justiça criminal, processos de contratação e aprovação de empréstimos.Outro dilema ético surge com o desenvolvimento de sistemas de armas letais autônomas (LAWs). Podemos confiar às máquinas o poder de matar? O que acontece quando a IA falha em campo de batalha?Além disso, a automação impulsionada pela IA está pronta para transformar o mercado de trabalho, com potencial para deslocar milhões de trabalhadores. Como podemos garantir uma transição justa e lidar com as preocupações econômicas que essa mudança pode gerar?À medida que os sistemas de IA se tornam mais sofisticados e autônomos, atribuir responsabilidade por suas ações se torna cada vez mais complexo. Quem é o responsável quando uma IA toma uma decisão que muda vidas: o programador, o usuário ou a própria máquina? A necessidade de diretrizes éticas, regulamentações e cooperação internacional para guiar o desenvolvimento da IA em uma direção responsável e benéfica é mais urgente do que nunca.A IA e a Fonte da Criatividade: Disruptora ou Musa?Prepare-se para se surpreender com exemplos de arte, música e literatura geradas por IA, expandindo os limites da criação por máquinas. Mas será a IA capaz de alcançar a expressão artística genuína, ou a criatividade é um traço exclusivamente humano?Em um mundo onde a IA pode gerar conteúdo aparentemente original, como redefinimos a autoria? Quem detém os direitos autorais de obras geradas por IA? A IA tornará os artistas humanos obsoletos, aprimorará suas habilidades ou dará origem a formas de arte completamente novas?Olhando para o Horizonte: Reflexões e Próximos PassosA exploração da IA está apenas começando. As questões filosóficas que ela levanta sobre inteligência, consciência, ética e a própria natureza da realidade continuarão a nos desafiar e intrigar. O futuro da IA não está predeterminado. Cabe a nós, como sociedade, moldar esse futuro por meio do pensamento crítico, do diálogo aberto e de uma abordagem ética e consciente para o desenvolvimento e a implementação dessa tecnologia poderosa.Convidamos você a se juntar à conversa. Explore os recursos e links relacionados para aprofundar seu conhecimento e compartilhar suas próprias reflexões sobre o impacto da IA em nossas vidas e no futuro da humanidade.Observando os Agents em sua tarefa :Uma vez que definimos os verboses como true e na escala 2, podemos ter acesso, como um debug, do passo a passo desempenhado pelos Agents ( e essa parte é mais instigante, pois de fato parece que eles passam a emular cognição ).Dessa forma, para visualizar eles desempenhando as suas atividades, algumas imagens a seguir (caso queira observar o processo completo, recomendo acessar ao meu repositório no GitHub, que pode ser acessado pelo link disponibilizado)Pensamento ao interagir com um outro Agent.print do meu notebook do Google Colabprint do meu notebook do Google ColabConclusãoComo vimos, os Agents se referem às IA’s que têm a capacidade de realizar atividades de forma autônoma, sem a necessidade de interferência humana ao longo do processo, que apresentam um certo tipo de raciocínio e poder de decisão, sendo capazes de interagir com o meio e seus pares, buscando a sua resolução das tarefas que a eles foram requisitadas, destoando-os, portando, de outras práticas de IA anteriores que exigiam a presença ativa do ser humano para a sua resolução, ou de outros que eram projetados apenas para realizar a interação com esse.Para mais informações, recomendo que pesquisem os links pertinentes abaixo e que olhem meu repositório. Sei que sou novo por aqui, mas esse será o meu primeiro post, que pretendo ser de muitos enquanto eu for matéria consciente. Aqui encontrarão, principalmente, temas relativos ao mundo das IAs generativas, machine learning e deep learning, podendo haver outros que eu desejar compartilhar.É isso, ragazzie, para qualquer dúvidas ou comentários, permitam-me saber e caso queiram podem me falar comigo no Linkedin. Arriverdeci!LinksGitHub : https://github.com/BrunoLod/Agents_Ai/blob/main/%F0%9F%91%BA_Creating_Agents_with_Crew_Ai.ipynbReferências bibliográficas :O que são agentes de IA? - Explicação sobre agentes em inteligência artificial - AWSO que são agentes de IA, como e por que as empresas os utilizam e como utilizá-los com a AWS.aws.amazon.comcrewAI Agents - crewAIWhat are crewAI Agents and how to use them.docs.crewai.comWhat is an AI Agent? | Botpress BlogWhat is an AI agent? And what are they used for?botpress.comInteligencia ArtificialAi AgentCrew AiLangchainGemini----FollowWritten by Bruno Loducca0 FollowersUm apaixonado por IA e machine learning, que deseja criar IA\\'s que deixaria Asimov orgulhoso e Joaquim Phoenix choroso, e um amante de artes.FollowHelpStatusAboutCareersPressBlogPrivacyTermsText to speechTeams\\n\\n\\n\\n\\n\\n\\n\\n\\n\\n\\n\\n\\n\\n\\n\\n\\n\\n\\n\\n\\n\\n\\n\\n\\n\\n\\n\\n\\n\\n\\n\\n'"
            ],
            "application/vnd.google.colaboratory.intrinsic+json": {
              "type": "string"
            }
          },
          "metadata": {},
          "execution_count": 60
        }
      ]
    },
    {
      "cell_type": "markdown",
      "source": [
        "## Text Splitting\n",
        "\n",
        "Elemento crucial para quando está trabalhando com grande quantidade de dados, que podem vir de uma fonte externa de dados ou da interação da LLM com o usuário. Em adição, ajuda no processo de armazenamento de informação num banco de dados vetorial, facilitando a sua consulta posterior, tendo em vista que o recuperador não precisa mais olhar em todo o conjunto de dados, mas apenas nas partes pertinentes, como forma de recuperar a informação que fora requisitada.\n",
        "\n",
        "Desse modo, a sua importância se relaciona substancialmente com o processo de otimização da recuperação de informações e menor custo de processamento para o armazenamento dos dados e a sua recuperação."
      ],
      "metadata": {
        "id": "liKoW_2PWLrD"
      }
    },
    {
      "cell_type": "code",
      "source": [
        "# CharacterTextSplitter :\n",
        "\n",
        "# Considera os caracteres para a realização da divisão, não importando\n",
        "# em que idioma se encontram ou símbolos adotados.\n",
        "\n",
        "\"\"\"\n",
        "chunk_size : refere-se ao tamanho, porção da informação que será considerada\n",
        "para a divisão, ou seja, a porção máxima de caracteres a ser considerada na divisão.\n",
        "Assim, cada porção (chunk) apresenta um conjunto máximo de x caracteres especificados,\n",
        "que aqui está sendo 500.\n",
        "\n",
        "chunk_overlap : refere-se a uma porção de sobreposição, que seleciona uma determinada\n",
        "quantidade de caracteres do chunk anterior para colocar no próximo chunk, como\n",
        "forma de manter uma sequência de informação.\n",
        "\"\"\"\n",
        "\n",
        "c_splitter = CharacterTextSplitter(chunk_size=300, chunk_overlap=0,\n",
        "                                   separator = ['\\n\\n', '\\n',''],\n",
        "                                  length_function = len)"
      ],
      "metadata": {
        "id": "OnbGuFT0_aYJ"
      },
      "execution_count": 85,
      "outputs": []
    },
    {
      "cell_type": "code",
      "source": [
        "# RecursiveCharacterSplitter :\n",
        "\n",
        "# Realiza a divisão da informação, buscando preservar o seu conteúdo semântico.\n",
        "# Sua importância se relaciona à capacidade de conseguir dividir conteúdos que\n",
        "# estejam aninhados e sobrepostos em camadas.\n",
        "\n",
        "r_splitter = RecursiveCharacterTextSplitter(chunk_size=1000, chunk_overlap=0,\n",
        "                                            separators=['\\n\\n', '\\n', ' ', '', '(?<=\\. )'],\n",
        "                                            length_function = len)"
      ],
      "metadata": {
        "id": "NNDeYATWYU9L"
      },
      "execution_count": 91,
      "outputs": []
    },
    {
      "cell_type": "code",
      "source": [
        "# Testando os separadores :\n",
        "\n",
        "text = \"\"\"When writing documents, writers will use document structure to group content. \\\n",
        "This can convey to the reader, which idea's are related. For example, closely related ideas \\\n",
        "are in sentances. Similar ideas are in paragraphs. Paragraphs form a document. \\n\\n  \\\n",
        "Paragraphs are often delimited with a carriage return or two carriage returns. \\\n",
        "Carriage returns are the \"backslash n\" you see embedded in this string. \\\n",
        "Sentences have a period at the end, but also, have a space.\\\n",
        "and words are separated by space.\n",
        "\"\"\""
      ],
      "metadata": {
        "id": "LsCkADRVZgfz"
      },
      "execution_count": 81,
      "outputs": []
    },
    {
      "cell_type": "code",
      "source": [
        "r_splitter.split_text(text)"
      ],
      "metadata": {
        "colab": {
          "base_uri": "https://localhost:8080/"
        },
        "id": "XjBv_MJZZ19s",
        "outputId": "5ed898bf-6ac2-4202-bdac-ec7fb525953b"
      },
      "execution_count": 82,
      "outputs": [
        {
          "output_type": "execute_result",
          "data": {
            "text/plain": [
              "[\"When writing documents, writers will use document structure to group content. This can convey to the reader, which idea's are related. For example, closely related ideas are in sentances. Similar ideas are in paragraphs. Paragraphs form a document.\",\n",
              " 'Paragraphs are often delimited with a carriage return or two carriage returns. Carriage returns are the \"backslash n\" you see embedded in this string. Sentences have a period at the end, but also, have a space.and words are separated by space.']"
            ]
          },
          "metadata": {},
          "execution_count": 82
        }
      ]
    },
    {
      "cell_type": "code",
      "source": [
        "c_splitter.split_text(text)"
      ],
      "metadata": {
        "colab": {
          "base_uri": "https://localhost:8080/"
        },
        "id": "bpetbYv1Z9hy",
        "outputId": "9b323537-f6d5-4e86-8f22-cc693c4a551f"
      },
      "execution_count": 71,
      "outputs": [
        {
          "output_type": "execute_result",
          "data": {
            "text/plain": [
              "[\"When writing documents, writers will use document structure to group content. This can convey to the reader, which idea's are related. For example, closely related ideas are in sentances. Similar ideas are in paragraphs. Paragraphs form a document. \\n\\n  Paragraphs are often delimited with a carriage\",\n",
              " 'return or two carriage returns. Carriage returns are the \"backslash n\" you see embedded in this string. Sentences have a period at the end, but also, have a space.and words are separated by space.']"
            ]
          },
          "metadata": {},
          "execution_count": 71
        }
      ]
    },
    {
      "cell_type": "code",
      "source": [
        "# Testando com arquivo PDF :\n",
        "\n",
        "loader = PyPDFLoader(\"https://see.stanford.edu/materials/aimlcs229/transcripts/MachineLearning-Lecture01.pdf\")\n",
        "pages = loader.load()\n"
      ],
      "metadata": {
        "id": "F09u_2ZXaAya"
      },
      "execution_count": 87,
      "outputs": []
    },
    {
      "cell_type": "code",
      "source": [
        "pdf_doc = r_splitter.split_documents(pages)"
      ],
      "metadata": {
        "id": "RyltNwThbYxT"
      },
      "execution_count": 92,
      "outputs": []
    },
    {
      "cell_type": "code",
      "source": [
        "pdf_doc[:2]"
      ],
      "metadata": {
        "colab": {
          "base_uri": "https://localhost:8080/"
        },
        "id": "rL39lfirbhHz",
        "outputId": "14d498ca-a28d-47cf-f421-b584448b36a9"
      },
      "execution_count": 94,
      "outputs": [
        {
          "output_type": "execute_result",
          "data": {
            "text/plain": [
              "[Document(page_content=\"MachineLearning-Lecture01  \\nInstructor (Andrew Ng):  Okay. Good morning. Welcome to CS229, the machine \\nlearning class. So what I wanna do today is ju st spend a little time going over the logistics \\nof the class, and then we'll start to  talk a bit about machine learning.  \\nBy way of introduction, my name's  Andrew Ng and I'll be instru ctor for this class. And so \\nI personally work in machine learning, and I' ve worked on it for about 15 years now, and \\nI actually think that machine learning is th e most exciting field of all the computer \\nsciences. So I'm actually always excited about  teaching this class. Sometimes I actually \\nthink that machine learning is not only the most exciting thin g in computer science, but \\nthe most exciting thing in all of human e ndeavor, so maybe a little bias there.  \\nI also want to introduce the TAs, who are all graduate students doing research in or \\nrelated to the machine learni ng and all aspects of machin e learning. Paul Baumstarck\", metadata={'source': 'https://see.stanford.edu/materials/aimlcs229/transcripts/MachineLearning-Lecture01.pdf', 'page': 0}),\n",
              " Document(page_content=\"works in machine learning and computer vision.  Catie Chang is actually a neuroscientist \\nwho applies machine learning algorithms to try to understand the human brain. Tom Do \\nis another PhD student, works in computa tional biology and in sort of the basic \\nfundamentals of human learning. Zico Kolter is  the head TA — he's head TA two years \\nin a row now — works in machine learning a nd applies them to a bunch of robots. And \\nDaniel Ramage is — I guess he's not here  — Daniel applies l earning algorithms to \\nproblems in natural language processing.  \\nSo you'll get to know the TAs and me much be tter throughout this quarter, but just from \\nthe sorts of things the TA's do, I hope you can  already tell that machine learning is a \\nhighly interdisciplinary topic in which just the TAs find l earning algorithms to problems \\nin computer vision and biology and robots a nd language. And machine learning is one of \\nthose things that has and is having a large impact on many applications.\", metadata={'source': 'https://see.stanford.edu/materials/aimlcs229/transcripts/MachineLearning-Lecture01.pdf', 'page': 0})]"
            ]
          },
          "metadata": {},
          "execution_count": 94
        }
      ]
    },
    {
      "cell_type": "code",
      "source": [
        "print(f'Quantidade original de partes de texto: {len(pages)}')\n",
        "print(f'Quantidade de partes de texto após a divisão: {len(pdf_doc)}')"
      ],
      "metadata": {
        "colab": {
          "base_uri": "https://localhost:8080/"
        },
        "id": "DTLVWMYybtY7",
        "outputId": "b251c81c-f4a5-4e67-93b7-1edd2bb6796a"
      },
      "execution_count": 95,
      "outputs": [
        {
          "output_type": "stream",
          "name": "stdout",
          "text": [
            "Quantidade original de partes de texto: 22\n",
            "Quantidade de partes de texto após a divisão: 76\n"
          ]
        }
      ]
    },
    {
      "cell_type": "code",
      "source": [
        "# Divisão por tokens :\n",
        "\n",
        "token_split = TokenTextSplitter(chunk_size=1, chunk_overlap=0)"
      ],
      "metadata": {
        "id": "1B1Ep6AacRFr"
      },
      "execution_count": 105,
      "outputs": []
    },
    {
      "cell_type": "code",
      "source": [
        "text_1 = \"Apesar de sermos uma poeirinha cósmica, adoro estar envolvido em sua órbita.\"\n",
        "\n",
        "# Visualizando a separação por tokens. Nota-se que a frase é separada por cada\n",
        "# token. O seu uso ocorre quando pretende-se obter um controle mais granular na\n",
        "# separação de conteúdo.\n",
        "\n",
        "token_split.split_text(text_1)[:5]"
      ],
      "metadata": {
        "colab": {
          "base_uri": "https://localhost:8080/"
        },
        "id": "HH6i6PAFc5vz",
        "outputId": "77516453-0320-49f3-afa6-19fc77907e23"
      },
      "execution_count": 106,
      "outputs": [
        {
          "output_type": "execute_result",
          "data": {
            "text/plain": [
              "['A', 'pes', 'ar', ' de', ' ser']"
            ]
          },
          "metadata": {},
          "execution_count": 106
        }
      ]
    },
    {
      "cell_type": "markdown",
      "source": [
        "Esses foram apenas alguns exemplos de separadores de conteúdos (texto) disponível no LangChain. Além desses, há alguns voltados para a separação de conteúdo no formato MarkDown ou de códigos."
      ],
      "metadata": {
        "id": "nmhYlUvVeFRD"
      }
    },
    {
      "cell_type": "markdown",
      "source": [
        "## Vector Databases\n",
        "\n",
        "Refere-se a um banco de dados vetorial, atrelado ao contexto de aplicações com IAs generativas. A sua importância se dá na forma que conseguem armazenar vetores, de modo a recobrar a informações com ele por meio da similaridade desses com o elemento de consulta, facilitando a implementação de técnicas como RAG, pesquisas semânticas e memória para chatbots e agents."
      ],
      "metadata": {
        "id": "2qnvaohhy2kw"
      }
    },
    {
      "cell_type": "code",
      "source": [
        "# Dupliquei documentos de propósito para abordar um problema que pode surgir\n",
        "# durante o processo de recuperação de informação de vectors database.\n",
        "\n",
        "# O problema em questão se refere a cenários nos quais a partir de uma consulta\n",
        "# obtêm-se repetidas partes de informação ou a informação é trazida a despeito da\n",
        "# especificação da consulta, isto é, se eu faço uma pergunta sobre um tema da aula 3\n",
        "# e me é retornado um documento de uma outra aula, por apresentar similar tema.\n",
        "\n",
        "loaders = [\n",
        "    PyPDFLoader(\"https://see.stanford.edu/materials/aimlcs229/transcripts/MachineLearning-Lecture01.pdf\"),\n",
        "    PyPDFLoader(\"https://see.stanford.edu/materials/aimlcs229/transcripts/MachineLearning-Lecture02.pdf\"),\n",
        "    PyPDFLoader(\"https://see.stanford.edu/materials/aimlcs229/transcripts/MachineLearning-Lecture03.pdf\"),\n",
        "    PyPDFLoader(\"https://see.stanford.edu/materials/aimlcs229/transcripts/MachineLearning-Lecture01.pdf\")\n",
        "]"
      ],
      "metadata": {
        "id": "KrAItUDhdgyV"
      },
      "execution_count": 13,
      "outputs": []
    },
    {
      "cell_type": "code",
      "source": [
        "# Criando uma lista de documentos PDFs\n",
        "\n",
        "# Método extend adiciona cada documento separadamente na lista pdf_docs.\n",
        "\n",
        "pdf_docs = []\n",
        "\n",
        "for loader in loaders:\n",
        "  pdf_docs.extend(loader.load())"
      ],
      "metadata": {
        "id": "M2hngbi-zKfb"
      },
      "execution_count": 14,
      "outputs": []
    },
    {
      "cell_type": "code",
      "source": [
        "# Instanciando o separador para os documentos :\n",
        "\n",
        "text_splitter = RecursiveCharacterTextSplitter(\n",
        "    chunk_size=1500,\n",
        "    chunk_overlap=150,\n",
        "    length_function=len,\n",
        "    separators=['\\n\\n', '\\n', ' ', '', '(?<=\\. )']\n",
        ")"
      ],
      "metadata": {
        "id": "mcDBGb9I0hws"
      },
      "execution_count": 15,
      "outputs": []
    },
    {
      "cell_type": "code",
      "source": [
        "pdf_docs_split = text_splitter.split_documents(pdf_docs)"
      ],
      "metadata": {
        "id": "8heRH0To1aL9"
      },
      "execution_count": 16,
      "outputs": []
    },
    {
      "cell_type": "code",
      "source": [
        "print(f'Quantidade original de partes de texto: {len(pdf_docs)}')\n",
        "print(f'Quantidade de partes de texto após a divisão: {len(pdf_docs_split)}')"
      ],
      "metadata": {
        "colab": {
          "base_uri": "https://localhost:8080/"
        },
        "id": "y13NozyO1k7k",
        "outputId": "fe49bb4f-fe85-45e6-a3c0-0f1cb42ab1a3"
      },
      "execution_count": 17,
      "outputs": [
        {
          "output_type": "stream",
          "name": "stdout",
          "text": [
            "Quantidade original de partes de texto: 78\n",
            "Quantidade de partes de texto após a divisão: 209\n"
          ]
        }
      ]
    },
    {
      "cell_type": "code",
      "source": [
        "# Criando o vector databse :\n",
        "\n",
        "persist_directory = 'docs/chroma/'"
      ],
      "metadata": {
        "id": "FNUPTVmb14uE"
      },
      "execution_count": 18,
      "outputs": []
    },
    {
      "cell_type": "code",
      "source": [
        "!rm -rf ./docs/chroma  # Remove datavase antigo se existe."
      ],
      "metadata": {
        "id": "aOL8jStU3TOc"
      },
      "execution_count": 19,
      "outputs": []
    },
    {
      "cell_type": "code",
      "source": [
        "# Instanciando o vector databse com Chroma, um framework open source\n",
        "# que cria banco de dados vetoriais, bastando informar principalmente\n",
        "# a informação que deseja ser armazenada e o modelo de embedding utilizado\n",
        "# para a sua transformação vetorial.\n",
        "\n",
        "docs_vectordb = Chroma.from_documents(\n",
        "    documents=pdf_docs_split,\n",
        "    embedding=embeddings,\n",
        "    persist_directory=persist_directory\n",
        ")"
      ],
      "metadata": {
        "id": "Lo-tLKMz3WUF"
      },
      "execution_count": 20,
      "outputs": []
    },
    {
      "cell_type": "code",
      "source": [
        "# Visualizando a quantidade de itens presentes nesse banco de dados vetorial.\n",
        "\n",
        "print(docs_vectordb._collection.count())"
      ],
      "metadata": {
        "colab": {
          "base_uri": "https://localhost:8080/"
        },
        "id": "kwvRpjSe3rDs",
        "outputId": "99eeb62f-0763-498a-8517-207bea1ba584"
      },
      "execution_count": 21,
      "outputs": [
        {
          "output_type": "stream",
          "name": "stdout",
          "text": [
            "209\n"
          ]
        }
      ]
    },
    {
      "cell_type": "markdown",
      "source": [
        "## Retrieval (recuperador)\n",
        "\n",
        "Método com o qual recupera-se informações armazenadas em bancos vetoriais. Existem algumas abordagens que são utilizadas para isso e que serão trazidas a seguir."
      ],
      "metadata": {
        "id": "ohL2EjVR_JKk"
      }
    },
    {
      "cell_type": "markdown",
      "source": [
        "### Recuperação por similaridade\n",
        "\n",
        "Esse tipo de recuperação retorna apenas as informações semelhantes, deprezando as possíveis informações que contêm nuances. O seu principal ônus é que retorna estritamente os conteúdos semelhantes que podem se mostrar repetitivos, como na saída abaixo.  "
      ],
      "metadata": {
        "id": "2UYNzeVIuR6b"
      }
    },
    {
      "cell_type": "code",
      "source": [
        "question = \"what did they say about matlab ?\"\n",
        "\n",
        "doc_query = docs_vectordb.similarity_search(question, k = 2)"
      ],
      "metadata": {
        "id": "Lj-Gwne19KSU"
      },
      "execution_count": 28,
      "outputs": []
    },
    {
      "cell_type": "code",
      "source": [
        "doc_query"
      ],
      "metadata": {
        "colab": {
          "base_uri": "https://localhost:8080/"
        },
        "id": "SReUH3k5uiCj",
        "outputId": "c62de3d3-498b-4c73-a368-25b8051cdc87"
      },
      "execution_count": 29,
      "outputs": [
        {
          "output_type": "execute_result",
          "data": {
            "text/plain": [
              "[Document(metadata={'page': 8, 'source': 'https://see.stanford.edu/materials/aimlcs229/transcripts/MachineLearning-Lecture01.pdf'}, page_content='those homeworks will be done in either MATLA B or in Octave, which is sort of — I \\nknow some people call it a free ve rsion of MATLAB, which it sort  of is, sort of isn\\'t.  \\nSo I guess for those of you that haven\\'t s een MATLAB before, and I know most of you \\nhave, MATLAB is I guess part of the programming language that makes it very easy to write codes using matrices, to write code for numerical routines, to move data around, to \\nplot data. And it\\'s sort of an extremely easy to  learn tool to use for implementing a lot of \\nlearning algorithms.  \\nAnd in case some of you want to work on your  own home computer or something if you \\ndon\\'t have a MATLAB license, for the purposes of  this class, there\\'s also — [inaudible] \\nwrite that down [inaudible] MATLAB — there\\' s also a software package called Octave \\nthat you can download for free off the Internet. And it has somewhat fewer features than MATLAB, but it\\'s free, and for the purposes of  this class, it will work for just about \\neverything.  \\nSo actually I, well, so yeah, just a side comment for those of you that haven\\'t seen \\nMATLAB before I guess, once a colleague of mine at a different university, not at \\nStanford, actually teaches another machine l earning course. He\\'s taught it for many years. \\nSo one day, he was in his office, and an old student of his from, lik e, ten years ago came \\ninto his office and he said, \"Oh, professo r, professor, thank you so much for your'),\n",
              " Document(metadata={'page': 8, 'source': 'https://see.stanford.edu/materials/aimlcs229/transcripts/MachineLearning-Lecture01.pdf'}, page_content='those homeworks will be done in either MATLA B or in Octave, which is sort of — I \\nknow some people call it a free ve rsion of MATLAB, which it sort  of is, sort of isn\\'t.  \\nSo I guess for those of you that haven\\'t s een MATLAB before, and I know most of you \\nhave, MATLAB is I guess part of the programming language that makes it very easy to write codes using matrices, to write code for numerical routines, to move data around, to \\nplot data. And it\\'s sort of an extremely easy to  learn tool to use for implementing a lot of \\nlearning algorithms.  \\nAnd in case some of you want to work on your  own home computer or something if you \\ndon\\'t have a MATLAB license, for the purposes of  this class, there\\'s also — [inaudible] \\nwrite that down [inaudible] MATLAB — there\\' s also a software package called Octave \\nthat you can download for free off the Internet. And it has somewhat fewer features than MATLAB, but it\\'s free, and for the purposes of  this class, it will work for just about \\neverything.  \\nSo actually I, well, so yeah, just a side comment for those of you that haven\\'t seen \\nMATLAB before I guess, once a colleague of mine at a different university, not at \\nStanford, actually teaches another machine l earning course. He\\'s taught it for many years. \\nSo one day, he was in his office, and an old student of his from, lik e, ten years ago came \\ninto his office and he said, \"Oh, professo r, professor, thank you so much for your')]"
            ]
          },
          "metadata": {},
          "execution_count": 29
        }
      ]
    },
    {
      "cell_type": "markdown",
      "source": [
        "## Recuperação por máxima relevância marginal (MMR)\n",
        "\n",
        "Esse tipo de recuperação também ocorre junto de uma busca por termos similares, mas considera também aqueles que apresentam nuances que não promovam uma estrita equivalência. Esse tipo de busca visa trazxer informações similares, mas diferentes entre si, para que não retorne informações repetidas."
      ],
      "metadata": {
        "id": "mNOqf3qOw89o"
      }
    },
    {
      "cell_type": "code",
      "source": [
        "# k : controla os elementos que eu desejo que sejam retornados, a sua quantidade.\n",
        "# fetch_k : controla a procura inicial da busca com base na semelhança.\n",
        "\n",
        "# Esse tipo de algoritmo de recuperação visa selecionar dos semelhantes aqueles que\n",
        "# sejam diferentes entre si, como forma de prover um retorno não redundante à consulta\n",
        "# do usuário.\n",
        "\n",
        "doc_query_mmr = docs_vectordb.max_marginal_relevance_search(question, k = 2, fetch_k=3)"
      ],
      "metadata": {
        "id": "UmZV1VggukWn"
      },
      "execution_count": 30,
      "outputs": []
    },
    {
      "cell_type": "code",
      "source": [
        "doc_query_mmr"
      ],
      "metadata": {
        "colab": {
          "base_uri": "https://localhost:8080/"
        },
        "id": "PlgGB6Wdxloz",
        "outputId": "e24c03ca-1ee0-40b6-d275-eba92b63a290"
      },
      "execution_count": 31,
      "outputs": [
        {
          "output_type": "execute_result",
          "data": {
            "text/plain": [
              "[Document(metadata={'page': 8, 'source': 'https://see.stanford.edu/materials/aimlcs229/transcripts/MachineLearning-Lecture01.pdf'}, page_content='those homeworks will be done in either MATLA B or in Octave, which is sort of — I \\nknow some people call it a free ve rsion of MATLAB, which it sort  of is, sort of isn\\'t.  \\nSo I guess for those of you that haven\\'t s een MATLAB before, and I know most of you \\nhave, MATLAB is I guess part of the programming language that makes it very easy to write codes using matrices, to write code for numerical routines, to move data around, to \\nplot data. And it\\'s sort of an extremely easy to  learn tool to use for implementing a lot of \\nlearning algorithms.  \\nAnd in case some of you want to work on your  own home computer or something if you \\ndon\\'t have a MATLAB license, for the purposes of  this class, there\\'s also — [inaudible] \\nwrite that down [inaudible] MATLAB — there\\' s also a software package called Octave \\nthat you can download for free off the Internet. And it has somewhat fewer features than MATLAB, but it\\'s free, and for the purposes of  this class, it will work for just about \\neverything.  \\nSo actually I, well, so yeah, just a side comment for those of you that haven\\'t seen \\nMATLAB before I guess, once a colleague of mine at a different university, not at \\nStanford, actually teaches another machine l earning course. He\\'s taught it for many years. \\nSo one day, he was in his office, and an old student of his from, lik e, ten years ago came \\ninto his office and he said, \"Oh, professo r, professor, thank you so much for your'),\n",
              " Document(metadata={'page': 8, 'source': 'https://see.stanford.edu/materials/aimlcs229/transcripts/MachineLearning-Lecture01.pdf'}, page_content='into his office and he said, \"Oh, professo r, professor, thank you so much for your \\nmachine learning class. I learned so much from it. There\\'s this stuff that I learned in your \\nclass, and I now use every day. And it\\'s help ed me make lots of money, and here\\'s a \\npicture of my big house.\"  \\nSo my friend was very excited. He said, \"W ow. That\\'s great. I\\'m glad to hear this \\nmachine learning stuff was actually useful. So what was it that you learned? Was it \\nlogistic regression? Was it the PCA? Was it the data ne tworks? What was it that you \\nlearned that was so helpful?\" And the student said, \"Oh, it was the MATLAB.\"  \\nSo for those of you that don\\'t know MATLAB yet, I hope you do learn it. It\\'s not hard, \\nand we\\'ll actually have a short MATLAB tutori al in one of the discussion sections for \\nthose of you that don\\'t know it.  \\nOkay. The very last piece of logistical th ing is the discussion s ections. So discussion \\nsections will be taught by the TAs, and atte ndance at discussion sections is optional, \\nalthough they\\'ll also be recorded and televi sed. And we\\'ll use the discussion sections \\nmainly for two things. For the next two or th ree weeks, we\\'ll use the discussion sections \\nto go over the prerequisites to this class or if some of you haven\\'t seen probability or \\nstatistics for a while or maybe algebra, we\\'ll go over those in the discussion sections as a \\nrefresher for those of you that want one.')]"
            ]
          },
          "metadata": {},
          "execution_count": 31
        }
      ]
    },
    {
      "cell_type": "markdown",
      "source": [
        "Como pode-se observar, busquei dois elementos que fossem semelhantes, parâmetro k, mas ao mesmo tempo que dentre esses fossem diferentes. Nota-se que apenas procuro dois elementos (k = 2), mas por se tratar de um tipo de recuperação marginal, ao usar o fetch_k, estimulo ao algoritmo retornar dos semelhantes aquele que apresenta uma diferença, para não trazer ao final duas respostas redundantes.\n",
        "\n",
        "Assim, ao contrário da busca anterior, por similaridade, consigo retornar a mesma quantidade de elementos semelhantes em sua semântica, mas que não sejam idênticos."
      ],
      "metadata": {
        "id": "7RloAmSixrfh"
      }
    },
    {
      "cell_type": "markdown",
      "source": [
        "## Recuperação com uso de metadata\n",
        "\n",
        "Metadata é uma parte que pode estar disponível em alguns documentos que fornecem uma identidade para eles ou um rótulo. Em ordem de evitar que uma consulta retorne informações de conteúdos que não sejam desejados, como perguntar sobre um tema ministrado numa aula e, por semelhança, esse mesmo tema for trazido, ainda que de uma outra aula, usa-se o metadata.\n",
        "\n",
        "No escopo de recuperação de conteúdo com banco de dados veotoriais existem duas principais abordagens para isso, que é informando o metadata durante a procura ou utilizando de uma LLM para isso. O primeiro será trazido em código, enquanto o segundo apenas como exemplo de código."
      ],
      "metadata": {
        "id": "BYLm1zmA0VMh"
      }
    },
    {
      "cell_type": "code",
      "source": [
        "# Encontrando os metadatas dos documentos de uso :\n",
        "\n",
        "for metadata in pdf_docs:\n",
        "\n",
        "  print(metadata.metadata)"
      ],
      "metadata": {
        "colab": {
          "base_uri": "https://localhost:8080/"
        },
        "id": "6zegYbmpxnz8",
        "outputId": "00c59295-87b3-40ce-d629-b1c0811bbc84"
      },
      "execution_count": 32,
      "outputs": [
        {
          "output_type": "stream",
          "name": "stdout",
          "text": [
            "{'source': 'https://see.stanford.edu/materials/aimlcs229/transcripts/MachineLearning-Lecture01.pdf', 'page': 0}\n",
            "{'source': 'https://see.stanford.edu/materials/aimlcs229/transcripts/MachineLearning-Lecture01.pdf', 'page': 1}\n",
            "{'source': 'https://see.stanford.edu/materials/aimlcs229/transcripts/MachineLearning-Lecture01.pdf', 'page': 2}\n",
            "{'source': 'https://see.stanford.edu/materials/aimlcs229/transcripts/MachineLearning-Lecture01.pdf', 'page': 3}\n",
            "{'source': 'https://see.stanford.edu/materials/aimlcs229/transcripts/MachineLearning-Lecture01.pdf', 'page': 4}\n",
            "{'source': 'https://see.stanford.edu/materials/aimlcs229/transcripts/MachineLearning-Lecture01.pdf', 'page': 5}\n",
            "{'source': 'https://see.stanford.edu/materials/aimlcs229/transcripts/MachineLearning-Lecture01.pdf', 'page': 6}\n",
            "{'source': 'https://see.stanford.edu/materials/aimlcs229/transcripts/MachineLearning-Lecture01.pdf', 'page': 7}\n",
            "{'source': 'https://see.stanford.edu/materials/aimlcs229/transcripts/MachineLearning-Lecture01.pdf', 'page': 8}\n",
            "{'source': 'https://see.stanford.edu/materials/aimlcs229/transcripts/MachineLearning-Lecture01.pdf', 'page': 9}\n",
            "{'source': 'https://see.stanford.edu/materials/aimlcs229/transcripts/MachineLearning-Lecture01.pdf', 'page': 10}\n",
            "{'source': 'https://see.stanford.edu/materials/aimlcs229/transcripts/MachineLearning-Lecture01.pdf', 'page': 11}\n",
            "{'source': 'https://see.stanford.edu/materials/aimlcs229/transcripts/MachineLearning-Lecture01.pdf', 'page': 12}\n",
            "{'source': 'https://see.stanford.edu/materials/aimlcs229/transcripts/MachineLearning-Lecture01.pdf', 'page': 13}\n",
            "{'source': 'https://see.stanford.edu/materials/aimlcs229/transcripts/MachineLearning-Lecture01.pdf', 'page': 14}\n",
            "{'source': 'https://see.stanford.edu/materials/aimlcs229/transcripts/MachineLearning-Lecture01.pdf', 'page': 15}\n",
            "{'source': 'https://see.stanford.edu/materials/aimlcs229/transcripts/MachineLearning-Lecture01.pdf', 'page': 16}\n",
            "{'source': 'https://see.stanford.edu/materials/aimlcs229/transcripts/MachineLearning-Lecture01.pdf', 'page': 17}\n",
            "{'source': 'https://see.stanford.edu/materials/aimlcs229/transcripts/MachineLearning-Lecture01.pdf', 'page': 18}\n",
            "{'source': 'https://see.stanford.edu/materials/aimlcs229/transcripts/MachineLearning-Lecture01.pdf', 'page': 19}\n",
            "{'source': 'https://see.stanford.edu/materials/aimlcs229/transcripts/MachineLearning-Lecture01.pdf', 'page': 20}\n",
            "{'source': 'https://see.stanford.edu/materials/aimlcs229/transcripts/MachineLearning-Lecture01.pdf', 'page': 21}\n",
            "{'source': 'https://see.stanford.edu/materials/aimlcs229/transcripts/MachineLearning-Lecture02.pdf', 'page': 0}\n",
            "{'source': 'https://see.stanford.edu/materials/aimlcs229/transcripts/MachineLearning-Lecture02.pdf', 'page': 1}\n",
            "{'source': 'https://see.stanford.edu/materials/aimlcs229/transcripts/MachineLearning-Lecture02.pdf', 'page': 2}\n",
            "{'source': 'https://see.stanford.edu/materials/aimlcs229/transcripts/MachineLearning-Lecture02.pdf', 'page': 3}\n",
            "{'source': 'https://see.stanford.edu/materials/aimlcs229/transcripts/MachineLearning-Lecture02.pdf', 'page': 4}\n",
            "{'source': 'https://see.stanford.edu/materials/aimlcs229/transcripts/MachineLearning-Lecture02.pdf', 'page': 5}\n",
            "{'source': 'https://see.stanford.edu/materials/aimlcs229/transcripts/MachineLearning-Lecture02.pdf', 'page': 6}\n",
            "{'source': 'https://see.stanford.edu/materials/aimlcs229/transcripts/MachineLearning-Lecture02.pdf', 'page': 7}\n",
            "{'source': 'https://see.stanford.edu/materials/aimlcs229/transcripts/MachineLearning-Lecture02.pdf', 'page': 8}\n",
            "{'source': 'https://see.stanford.edu/materials/aimlcs229/transcripts/MachineLearning-Lecture02.pdf', 'page': 9}\n",
            "{'source': 'https://see.stanford.edu/materials/aimlcs229/transcripts/MachineLearning-Lecture02.pdf', 'page': 10}\n",
            "{'source': 'https://see.stanford.edu/materials/aimlcs229/transcripts/MachineLearning-Lecture02.pdf', 'page': 11}\n",
            "{'source': 'https://see.stanford.edu/materials/aimlcs229/transcripts/MachineLearning-Lecture02.pdf', 'page': 12}\n",
            "{'source': 'https://see.stanford.edu/materials/aimlcs229/transcripts/MachineLearning-Lecture02.pdf', 'page': 13}\n",
            "{'source': 'https://see.stanford.edu/materials/aimlcs229/transcripts/MachineLearning-Lecture02.pdf', 'page': 14}\n",
            "{'source': 'https://see.stanford.edu/materials/aimlcs229/transcripts/MachineLearning-Lecture02.pdf', 'page': 15}\n",
            "{'source': 'https://see.stanford.edu/materials/aimlcs229/transcripts/MachineLearning-Lecture02.pdf', 'page': 16}\n",
            "{'source': 'https://see.stanford.edu/materials/aimlcs229/transcripts/MachineLearning-Lecture02.pdf', 'page': 17}\n",
            "{'source': 'https://see.stanford.edu/materials/aimlcs229/transcripts/MachineLearning-Lecture03.pdf', 'page': 0}\n",
            "{'source': 'https://see.stanford.edu/materials/aimlcs229/transcripts/MachineLearning-Lecture03.pdf', 'page': 1}\n",
            "{'source': 'https://see.stanford.edu/materials/aimlcs229/transcripts/MachineLearning-Lecture03.pdf', 'page': 2}\n",
            "{'source': 'https://see.stanford.edu/materials/aimlcs229/transcripts/MachineLearning-Lecture03.pdf', 'page': 3}\n",
            "{'source': 'https://see.stanford.edu/materials/aimlcs229/transcripts/MachineLearning-Lecture03.pdf', 'page': 4}\n",
            "{'source': 'https://see.stanford.edu/materials/aimlcs229/transcripts/MachineLearning-Lecture03.pdf', 'page': 5}\n",
            "{'source': 'https://see.stanford.edu/materials/aimlcs229/transcripts/MachineLearning-Lecture03.pdf', 'page': 6}\n",
            "{'source': 'https://see.stanford.edu/materials/aimlcs229/transcripts/MachineLearning-Lecture03.pdf', 'page': 7}\n",
            "{'source': 'https://see.stanford.edu/materials/aimlcs229/transcripts/MachineLearning-Lecture03.pdf', 'page': 8}\n",
            "{'source': 'https://see.stanford.edu/materials/aimlcs229/transcripts/MachineLearning-Lecture03.pdf', 'page': 9}\n",
            "{'source': 'https://see.stanford.edu/materials/aimlcs229/transcripts/MachineLearning-Lecture03.pdf', 'page': 10}\n",
            "{'source': 'https://see.stanford.edu/materials/aimlcs229/transcripts/MachineLearning-Lecture03.pdf', 'page': 11}\n",
            "{'source': 'https://see.stanford.edu/materials/aimlcs229/transcripts/MachineLearning-Lecture03.pdf', 'page': 12}\n",
            "{'source': 'https://see.stanford.edu/materials/aimlcs229/transcripts/MachineLearning-Lecture03.pdf', 'page': 13}\n",
            "{'source': 'https://see.stanford.edu/materials/aimlcs229/transcripts/MachineLearning-Lecture03.pdf', 'page': 14}\n",
            "{'source': 'https://see.stanford.edu/materials/aimlcs229/transcripts/MachineLearning-Lecture03.pdf', 'page': 15}\n",
            "{'source': 'https://see.stanford.edu/materials/aimlcs229/transcripts/MachineLearning-Lecture01.pdf', 'page': 0}\n",
            "{'source': 'https://see.stanford.edu/materials/aimlcs229/transcripts/MachineLearning-Lecture01.pdf', 'page': 1}\n",
            "{'source': 'https://see.stanford.edu/materials/aimlcs229/transcripts/MachineLearning-Lecture01.pdf', 'page': 2}\n",
            "{'source': 'https://see.stanford.edu/materials/aimlcs229/transcripts/MachineLearning-Lecture01.pdf', 'page': 3}\n",
            "{'source': 'https://see.stanford.edu/materials/aimlcs229/transcripts/MachineLearning-Lecture01.pdf', 'page': 4}\n",
            "{'source': 'https://see.stanford.edu/materials/aimlcs229/transcripts/MachineLearning-Lecture01.pdf', 'page': 5}\n",
            "{'source': 'https://see.stanford.edu/materials/aimlcs229/transcripts/MachineLearning-Lecture01.pdf', 'page': 6}\n",
            "{'source': 'https://see.stanford.edu/materials/aimlcs229/transcripts/MachineLearning-Lecture01.pdf', 'page': 7}\n",
            "{'source': 'https://see.stanford.edu/materials/aimlcs229/transcripts/MachineLearning-Lecture01.pdf', 'page': 8}\n",
            "{'source': 'https://see.stanford.edu/materials/aimlcs229/transcripts/MachineLearning-Lecture01.pdf', 'page': 9}\n",
            "{'source': 'https://see.stanford.edu/materials/aimlcs229/transcripts/MachineLearning-Lecture01.pdf', 'page': 10}\n",
            "{'source': 'https://see.stanford.edu/materials/aimlcs229/transcripts/MachineLearning-Lecture01.pdf', 'page': 11}\n",
            "{'source': 'https://see.stanford.edu/materials/aimlcs229/transcripts/MachineLearning-Lecture01.pdf', 'page': 12}\n",
            "{'source': 'https://see.stanford.edu/materials/aimlcs229/transcripts/MachineLearning-Lecture01.pdf', 'page': 13}\n",
            "{'source': 'https://see.stanford.edu/materials/aimlcs229/transcripts/MachineLearning-Lecture01.pdf', 'page': 14}\n",
            "{'source': 'https://see.stanford.edu/materials/aimlcs229/transcripts/MachineLearning-Lecture01.pdf', 'page': 15}\n",
            "{'source': 'https://see.stanford.edu/materials/aimlcs229/transcripts/MachineLearning-Lecture01.pdf', 'page': 16}\n",
            "{'source': 'https://see.stanford.edu/materials/aimlcs229/transcripts/MachineLearning-Lecture01.pdf', 'page': 17}\n",
            "{'source': 'https://see.stanford.edu/materials/aimlcs229/transcripts/MachineLearning-Lecture01.pdf', 'page': 18}\n",
            "{'source': 'https://see.stanford.edu/materials/aimlcs229/transcripts/MachineLearning-Lecture01.pdf', 'page': 19}\n",
            "{'source': 'https://see.stanford.edu/materials/aimlcs229/transcripts/MachineLearning-Lecture01.pdf', 'page': 20}\n",
            "{'source': 'https://see.stanford.edu/materials/aimlcs229/transcripts/MachineLearning-Lecture01.pdf', 'page': 21}\n"
          ]
        }
      ]
    },
    {
      "cell_type": "code",
      "source": [
        "# Para uma consulta referente a regressão da aula 3 :\n",
        "\n",
        "question = \"what did they say about regression in the third lecture?\"\n",
        "\n",
        "# Nota-se que a principal diferença dessa implementação consiste em informar\n",
        "# o filtro por meio do qual a recuperação deve ser orientada.\n",
        "\n",
        "doc_lecture = docs_vectordb.similarity_search(question, k = 2,\n",
        "                                              filter = {\"source\" : \"https://see.stanford.edu/materials/aimlcs229/transcripts/MachineLearning-Lecture03.pdf\"})"
      ],
      "metadata": {
        "id": "Cv4Dx1hh1gHz"
      },
      "execution_count": 34,
      "outputs": []
    },
    {
      "cell_type": "code",
      "source": [
        "doc_lecture"
      ],
      "metadata": {
        "colab": {
          "base_uri": "https://localhost:8080/"
        },
        "id": "nnCW1XDK1906",
        "outputId": "81f318e2-2bbc-4bf9-f303-fde0e2547b94"
      },
      "execution_count": 35,
      "outputs": [
        {
          "output_type": "execute_result",
          "data": {
            "text/plain": [
              "[Document(metadata={'page': 0, 'source': 'https://see.stanford.edu/materials/aimlcs229/transcripts/MachineLearning-Lecture03.pdf'}, page_content='MachineLearning-Lecture03  \\nInstructor (Andrew Ng) :Okay. Good morning and welcome b ack to the third lecture of \\nthis class. So here’s what I want to do t oday, and some of the topics I do today may seem \\na little bit like I’m jumping, sort  of, from topic to topic, but here’s, sort of, the outline for \\ntoday and the illogical flow of ideas. In the last lecture, we  talked about linear regression \\nand today I want to talk about sort of an  adaptation of that called locally weighted \\nregression. It’s very a popular  algorithm that’s actually one of my former mentors \\nprobably favorite machine learning algorithm.  \\nWe’ll then talk about a probabl e second interpretation of linear regression and use that to \\nmove onto our first classification algorithm, which is logistic regr ession; take a brief \\ndigression to tell you about something cal led the perceptron algorithm, which is \\nsomething we’ll come back to, again, later this  quarter; and time allowing I hope to get to \\nNewton’s method, which is an algorithm fo r fitting logistic regression models.  \\nSo this is recap where we’re talking about in the previous lecture, remember the notation \\nI defined was that I used this X superscrip t I, Y superscript I to denote the I training \\nexample. And when we’re talking about linear regression or linear l east squares, we use \\nthis to denote the predicted value of “by my hypothesis H” on the input XI. And my'),\n",
              " Document(metadata={'page': 14, 'source': 'https://see.stanford.edu/materials/aimlcs229/transcripts/MachineLearning-Lecture03.pdf'}, page_content='Student: It’s the lowest it –  \\nInstructor (Andrew Ng) :No, exactly. Right. So zero to the same, this is not the same, \\nright? And the reason is, in logi stic regression this is diffe rent from before, right? The \\ndefinition of this H subscript theta of XI is not the same as the definition I was using in \\nthe previous lecture. And in pa rticular this is no longer thet a transpose XI. This is not a \\nlinear function anymore. This is  a logistic function of theta transpose XI. Okay? So even \\nthough this looks cosmetically similar, even though this is similar on the surface, to the \\nBastrian descent rule I derive d last time for least squares regression this is actually a \\ntotally different learning algorithm. Okay? And it turns out that there’s actually no \\ncoincidence that you ended up with the same l earning rule. We’ll actually talk a bit more \\nabout this later when we talk about generalized linear models. But this is one of the most \\nelegant generalized learning models that we’l l see later. That even though we’re using a \\ndifferent model, you actually ended up with wh at looks like the sa me learning algorithm \\nand it’s actually no coincidence. Cool.  \\nOne last comment as part of a sort of l earning process, over here I said I take the \\nderivatives and I ended up with this line . I didn’t want to make you sit through a long \\nalgebraic derivation, but later t oday or later this week, pleas e, do go home and look at our')]"
            ]
          },
          "metadata": {},
          "execution_count": 35
        }
      ]
    },
    {
      "cell_type": "markdown",
      "source": [
        "Similar pesquisa pode ser conduzida por uma LLM da seguinte forma.\n",
        "\n",
        "\n",
        "\n",
        "```\n",
        "metadata_field_info = [\n",
        "    AttributeInfo(\n",
        "        name=\"source\",\n",
        "        description=\"The lecture the chunk is from, should be one of `docs/cs229_lectures/MachineLearning-Lecture01.pdf`, `docs/cs229_lectures/MachineLearning-Lecture02.pdf`, or `docs/cs229_lectures/MachineLearning-Lecture03.pdf`\",\n",
        "        type=\"string\",\n",
        "    ),\n",
        "    AttributeInfo(\n",
        "        name=\"page\",\n",
        "        description=\"The page from the lecture\",\n",
        "        type=\"integer\",\n",
        "    ),\n",
        "]`\n",
        "\n",
        "document_content_description = \"Lecture notes\"\n",
        "llm = OpenAI(model='gpt-3.5-turbo-instruct', temperature=0)\n",
        "retriever = SelfQueryRetriever.from_llm(\n",
        "    llm,\n",
        "    vectordb,\n",
        "    document_content_description,\n",
        "    metadata_field_info,\n",
        "    verbose=True\n",
        ")\n",
        "\n",
        "question = \"what did they say about regression in the third lecture?\"\n",
        "\n",
        "docs = retriever.get_relevant_documents(question)\n",
        "```\n",
        "\n"
      ],
      "metadata": {
        "id": "6Hjn7yoi2kwk"
      }
    },
    {
      "cell_type": "markdown",
      "source": [
        "## Recuperação por compressão\n",
        "\n",
        "Uma técnica que combina o banco de dados vetorial com a LLM a partir da qual busca encontrar a melhor relação do que fora consultado em relação que existe no banco de dados."
      ],
      "metadata": {
        "id": "SM_U71n73klT"
      }
    },
    {
      "cell_type": "code",
      "source": [
        "from langchain.retrievers import ContextualCompressionRetriever\n",
        "from langchain.retrievers.document_compressors import LLMChainExtractor"
      ],
      "metadata": {
        "id": "4r-h7QtO2Q2o"
      },
      "execution_count": 36,
      "outputs": []
    },
    {
      "cell_type": "code",
      "source": [
        "# Envolve o banco de dados com a LLM, informando tanto o\n",
        "# extrator quanto o banco de dados vetorial.\n",
        "\n",
        "compressor = LLMChainExtractor.from_llm(llm)\n",
        "\n",
        "compression_retriever = ContextualCompressionRetriever(\n",
        "    base_compressor=compressor,\n",
        "    base_retriever=docs_vectordb.as_retriever()\n",
        ")"
      ],
      "metadata": {
        "id": "B_4PW0zi37fP"
      },
      "execution_count": 37,
      "outputs": []
    },
    {
      "cell_type": "code",
      "source": [
        "question = \"What did they say about matlap ?\"\n",
        "\n",
        "compressed_doc = compression_retriever.get_relevant_documents(question)"
      ],
      "metadata": {
        "colab": {
          "base_uri": "https://localhost:8080/",
          "height": 158
        },
        "id": "siLhdBgb4Sa3",
        "outputId": "1a706773-1e63-44e6-f355-cf074ce88567"
      },
      "execution_count": 38,
      "outputs": [
        {
          "output_type": "stream",
          "name": "stderr",
          "text": [
            "/usr/local/lib/python3.10/dist-packages/langchain_core/_api/deprecation.py:139: LangChainDeprecationWarning: The method `BaseRetriever.get_relevant_documents` was deprecated in langchain-core 0.1.46 and will be removed in 0.3.0. Use invoke instead.\n",
            "  warn_deprecated(\n",
            "WARNING:langchain_google_genai.chat_models:Retrying langchain_google_genai.chat_models._chat_with_retry.<locals>._chat_with_retry in 2.0 seconds as it raised ResourceExhausted: 429 Resource has been exhausted (e.g. check quota)..\n",
            "WARNING:langchain_google_genai.chat_models:Retrying langchain_google_genai.chat_models._chat_with_retry.<locals>._chat_with_retry in 4.0 seconds as it raised ResourceExhausted: 429 Resource has been exhausted (e.g. check quota)..\n",
            "WARNING:langchain_google_genai.chat_models:Retrying langchain_google_genai.chat_models._chat_with_retry.<locals>._chat_with_retry in 8.0 seconds as it raised ResourceExhausted: 429 Resource has been exhausted (e.g. check quota)..\n",
            "WARNING:langchain_google_genai.chat_models:Retrying langchain_google_genai.chat_models._chat_with_retry.<locals>._chat_with_retry in 16.0 seconds as it raised ResourceExhausted: 429 Resource has been exhausted (e.g. check quota)..\n",
            "WARNING:langchain_google_genai.chat_models:Retrying langchain_google_genai.chat_models._chat_with_retry.<locals>._chat_with_retry in 32.0 seconds as it raised ResourceExhausted: 429 Resource has been exhausted (e.g. check quota)..\n"
          ]
        }
      ]
    },
    {
      "cell_type": "code",
      "source": [
        "compressed_doc"
      ],
      "metadata": {
        "colab": {
          "base_uri": "https://localhost:8080/"
        },
        "id": "Xins-mZ_4hvS",
        "outputId": "68b7ecde-4f12-4e5a-8540-bc8653c12a04"
      },
      "execution_count": 39,
      "outputs": [
        {
          "output_type": "execute_result",
          "data": {
            "text/plain": [
              "[Document(metadata={'page': 8, 'source': 'https://see.stanford.edu/materials/aimlcs229/transcripts/MachineLearning-Lecture01.pdf'}, page_content='\"Oh, it was the MATLAB.\"  \\nSo for those of you that don\\'t know MATLAB yet, I hope you do learn it. It\\'s not hard, \\nand we\\'ll actually have a short MATLAB tutori al in one of the discussion sections for \\nthose of you that don\\'t know it.'),\n",
              " Document(metadata={'page': 8, 'source': 'https://see.stanford.edu/materials/aimlcs229/transcripts/MachineLearning-Lecture01.pdf'}, page_content='\"Oh, it was the MATLAB.\"  \\nSo for those of you that don\\'t know MATLAB yet, I hope you do learn it. It\\'s not hard, \\nand we\\'ll actually have a short MATLAB tutori al in one of the discussion sections for \\nthose of you that don\\'t know it.'),\n",
              " Document(metadata={'page': 8, 'source': 'https://see.stanford.edu/materials/aimlcs229/transcripts/MachineLearning-Lecture01.pdf'}, page_content=\"> MATLAB is I guess part of the programming language that makes it very easy to write codes using matrices, to write code for numerical routines, to move data around, to \\nplot data. And it's sort of an extremely easy to  learn tool to use for implementing a lot of \\nlearning algorithms.  \\nAnd in case some of you want to work on your  own home computer or something if you \\ndon't have a MATLAB license, for the purposes of  this class, there's also — [inaudible] \\nwrite that down [inaudible] MATLAB — there' s also a software package called Octave \\nthat you can download for free off the Internet. And it has somewhat fewer features than MATLAB, but it's free, and for the purposes of  this class, it will work for just about \\neverything.\"),\n",
              " Document(metadata={'page': 8, 'source': 'https://see.stanford.edu/materials/aimlcs229/transcripts/MachineLearning-Lecture01.pdf'}, page_content=\"Extracted relevant parts:\\n\\n>>>\\nMATLAB is I guess part of the programming language that makes it very easy to write codes using matrices, to write code for numerical routines, to move data around, to \\nplot data. And it's sort of an extremely easy to  learn tool to use for implementing a lot of \\nlearning algorithms.  \\n>>>\")]"
            ]
          },
          "metadata": {},
          "execution_count": 39
        }
      ]
    },
    {
      "cell_type": "code",
      "source": [],
      "metadata": {
        "id": "qHiuUL1D43uV"
      },
      "execution_count": null,
      "outputs": []
    }
  ]
}